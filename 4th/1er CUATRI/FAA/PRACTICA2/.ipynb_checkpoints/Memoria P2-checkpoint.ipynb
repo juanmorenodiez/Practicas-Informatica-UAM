{
 "cells": [
  {
   "cell_type": "markdown",
   "metadata": {},
   "source": [
    "# Práctica 2"
   ]
  },
  {
   "cell_type": "code",
   "execution_count": 2,
   "metadata": {},
   "outputs": [],
   "source": [
    "import Clasificador\n",
    "import EstrategiaParticionado\n",
    "import Datos\n",
    "import numpy as np\n",
    "from astropy.table import Table\n",
    "from sklearn import preprocessing\n",
    "from sklearn.model_selection import train_test_split\n",
    "from sklearn.model_selection import cross_val_score\n",
    "from sklearn.metrics import accuracy_score\n",
    "from sklearn.neighbors import KNeighborsClassifier\n",
    "from sklearn.linear_model import LogisticRegressionCV\n",
    "from sklearn.linear_model import SGDClassifier\n",
    "from sklearn import preprocessing"
   ]
  },
  {
   "cell_type": "markdown",
   "metadata": {},
   "source": [
    "## Apartado 1: KNN"
   ]
  },
  {
   "cell_type": "markdown",
   "metadata": {},
   "source": [
    "### KNN: wdbc.data con Validación Cruzada"
   ]
  },
  {
   "cell_type": "markdown",
   "metadata": {},
   "source": [
    "#### Datos Normalizados"
   ]
  },
  {
   "cell_type": "markdown",
   "metadata": {},
   "source": [
    "##### Distancia Euclídea"
   ]
  },
  {
   "cell_type": "code",
   "execution_count": 81,
   "metadata": {},
   "outputs": [
    {
     "name": "stdout",
     "output_type": "stream",
     "text": [
      "Media errores K = 1, distancia euclídea, datos normalizados:  0.04787234042553193\n"
     ]
    }
   ],
   "source": [
    "clasificador = Clasificador.ClasificadorVecinosProximos(K = 1, distancia = \"Euclidea\", normalizado = True)\n",
    "dataset = Datos.Datos('ConjuntosDatosP2/wdbc.data')\n",
    "validacionCruzada = EstrategiaParticionado.ValidacionCruzada(4)\n",
    "particiones = validacionCruzada.creaParticiones(dataset.datos)\n",
    "errores1, std_errores = clasificador.validacion(validacionCruzada, dataset, clasificador, seed=None)\n",
    "print(\"Media errores K = 1, distancia euclídea, datos normalizados: \", errores1)"
   ]
  },
  {
   "cell_type": "code",
   "execution_count": 82,
   "metadata": {},
   "outputs": [
    {
     "name": "stdout",
     "output_type": "stream",
     "text": [
      "Media errores K = 5, distancia euclídea, datos normalizados:  0.03368794326241137\n"
     ]
    }
   ],
   "source": [
    "clasificador = Clasificador.ClasificadorVecinosProximos(K = 5, distancia = \"Euclidea\", normalizado = True)\n",
    "dataset = Datos.Datos('ConjuntosDatosP2/wdbc.data')\n",
    "validacionCruzada = EstrategiaParticionado.ValidacionCruzada(4)\n",
    "particiones = validacionCruzada.creaParticiones(dataset.datos)\n",
    "errores2, std_errores = clasificador.validacion(validacionCruzada, dataset, clasificador, seed=None)\n",
    "print(\"Media errores K = 5, distancia euclídea, datos normalizados: \", errores2)"
   ]
  },
  {
   "cell_type": "code",
   "execution_count": 83,
   "metadata": {},
   "outputs": [
    {
     "name": "stdout",
     "output_type": "stream",
     "text": [
      "Media errores K = 11, distancia euclídea, datos normalizados:  0.05851063829787234\n"
     ]
    }
   ],
   "source": [
    "clasificador = Clasificador.ClasificadorVecinosProximos(K = 11, distancia = \"Euclidea\", normalizado = True)\n",
    "dataset = Datos.Datos('ConjuntosDatosP2/wdbc.data')\n",
    "validacionCruzada = EstrategiaParticionado.ValidacionCruzada(4)\n",
    "particiones = validacionCruzada.creaParticiones(dataset.datos)\n",
    "errores3, std_errores = clasificador.validacion(validacionCruzada, dataset, clasificador, seed=None)\n",
    "print(\"Media errores K = 11, distancia euclídea, datos normalizados: \", errores3)"
   ]
  },
  {
   "cell_type": "code",
   "execution_count": 84,
   "metadata": {},
   "outputs": [
    {
     "name": "stdout",
     "output_type": "stream",
     "text": [
      "Media errores K = 21, distancia euclídea, datos normalizados:  0.049645390070922\n"
     ]
    }
   ],
   "source": [
    "clasificador = Clasificador.ClasificadorVecinosProximos(K = 21, distancia = \"Euclidea\", normalizado = True)\n",
    "dataset = Datos.Datos('ConjuntosDatosP2/wdbc.data')\n",
    "validacionCruzada = EstrategiaParticionado.ValidacionCruzada(4)\n",
    "particiones = validacionCruzada.creaParticiones(dataset.datos)\n",
    "errores4, std_errores = clasificador.validacion(validacionCruzada, dataset, clasificador, seed=None)\n",
    "print(\"Media errores K = 21, distancia euclídea, datos normalizados: \", errores4)"
   ]
  },
  {
   "cell_type": "markdown",
   "metadata": {},
   "source": [
    "##### Distancia de Manhattan"
   ]
  },
  {
   "cell_type": "code",
   "execution_count": 85,
   "metadata": {},
   "outputs": [
    {
     "name": "stdout",
     "output_type": "stream",
     "text": [
      "Media errores K = 1, distancia de Manhattan, datos normalizados:  0.04255319148936171\n"
     ]
    }
   ],
   "source": [
    "clasificador = Clasificador.ClasificadorVecinosProximos(K = 1, distancia = \"Manhattan\", normalizado = True)\n",
    "dataset = Datos.Datos('ConjuntosDatosP2/wdbc.data')\n",
    "validacionCruzada = EstrategiaParticionado.ValidacionCruzada(4)\n",
    "particiones = validacionCruzada.creaParticiones(dataset.datos)\n",
    "errores5, std_errores = clasificador.validacion(validacionCruzada, dataset, clasificador, seed=None)\n",
    "print(\"Media errores K = 1, distancia de Manhattan, datos normalizados: \", errores5)"
   ]
  },
  {
   "cell_type": "code",
   "execution_count": 86,
   "metadata": {},
   "outputs": [
    {
     "name": "stdout",
     "output_type": "stream",
     "text": [
      "Media errores K = 5, distancia de Manhattan, datos normalizados:  0.023049645390070927\n"
     ]
    }
   ],
   "source": [
    "clasificador = Clasificador.ClasificadorVecinosProximos(K = 5, distancia = \"Manhattan\", normalizado = True)\n",
    "dataset = Datos.Datos('ConjuntosDatosP2/wdbc.data')\n",
    "validacionCruzada = EstrategiaParticionado.ValidacionCruzada(4)\n",
    "particiones = validacionCruzada.creaParticiones(dataset.datos)\n",
    "errores6, std_errores = clasificador.validacion(validacionCruzada, dataset, clasificador, seed=None)\n",
    "print(\"Media errores K = 5, distancia de Manhattan, datos normalizados: \", errores6)"
   ]
  },
  {
   "cell_type": "code",
   "execution_count": 87,
   "metadata": {},
   "outputs": [
    {
     "name": "stdout",
     "output_type": "stream",
     "text": [
      "Media errores K = 11, distancia de Manhattan, datos normalizados:  0.044326241134751754\n"
     ]
    }
   ],
   "source": [
    "clasificador = Clasificador.ClasificadorVecinosProximos(K = 11, distancia = \"Manhattan\", normalizado = True)\n",
    "dataset = Datos.Datos('ConjuntosDatosP2/wdbc.data')\n",
    "validacionCruzada = EstrategiaParticionado.ValidacionCruzada(4)\n",
    "particiones = validacionCruzada.creaParticiones(dataset.datos)\n",
    "errores7, std_errores = clasificador.validacion(validacionCruzada, dataset, clasificador, seed=None)\n",
    "print(\"Media errores K = 11, distancia de Manhattan, datos normalizados: \", errores7)"
   ]
  },
  {
   "cell_type": "code",
   "execution_count": 88,
   "metadata": {},
   "outputs": [
    {
     "name": "stdout",
     "output_type": "stream",
     "text": [
      "Media errores K = 21, distancia de Manhattan, datos normalizados:  0.05141843971631205\n"
     ]
    }
   ],
   "source": [
    "clasificador = Clasificador.ClasificadorVecinosProximos(K = 21, distancia = \"Manhattan\", normalizado = True)\n",
    "dataset = Datos.Datos('ConjuntosDatosP2/wdbc.data')\n",
    "validacionCruzada = EstrategiaParticionado.ValidacionCruzada(4)\n",
    "particiones = validacionCruzada.creaParticiones(dataset.datos)\n",
    "errores8, std_errores = clasificador.validacion(validacionCruzada, dataset, clasificador, seed=None)\n",
    "print(\"Media errores K = 21, distancia de Manhattan, datos normalizados: \", errores8)"
   ]
  },
  {
   "cell_type": "markdown",
   "metadata": {},
   "source": [
    "#### Datos sin normalizar"
   ]
  },
  {
   "cell_type": "markdown",
   "metadata": {},
   "source": [
    "##### Distancia Euclídea"
   ]
  },
  {
   "cell_type": "code",
   "execution_count": 89,
   "metadata": {},
   "outputs": [
    {
     "name": "stdout",
     "output_type": "stream",
     "text": [
      "Media errores K = 1, distancia euclídea, datos sin normalizar:  0.0797872340425532\n"
     ]
    }
   ],
   "source": [
    "clasificador = Clasificador.ClasificadorVecinosProximos(K = 1, distancia = \"Euclidea\", normalizado = False)\n",
    "dataset = Datos.Datos('ConjuntosDatosP2/wdbc.data')\n",
    "validacionCruzada = EstrategiaParticionado.ValidacionCruzada(4)\n",
    "particiones = validacionCruzada.creaParticiones(dataset.datos)\n",
    "errores9, std_errores = clasificador.validacion(validacionCruzada, dataset, clasificador, seed=None)\n",
    "print(\"Media errores K = 1, distancia euclídea, datos sin normalizar: \", errores9)"
   ]
  },
  {
   "cell_type": "code",
   "execution_count": 90,
   "metadata": {},
   "outputs": [
    {
     "name": "stdout",
     "output_type": "stream",
     "text": [
      "Media errores K = 5, distancia euclídea, datos sin normalizar:  0.07801418439716312\n"
     ]
    }
   ],
   "source": [
    "clasificador = Clasificador.ClasificadorVecinosProximos(K = 5, distancia = \"Euclidea\", normalizado = False)\n",
    "dataset = Datos.Datos('ConjuntosDatosP2/wdbc.data')\n",
    "validacionCruzada = EstrategiaParticionado.ValidacionCruzada(4)\n",
    "particiones = validacionCruzada.creaParticiones(dataset.datos)\n",
    "errores10, std_errores = clasificador.validacion(validacionCruzada, dataset, clasificador, seed=None)\n",
    "print(\"Media errores K = 5, distancia euclídea, datos sin normalizar: \", errores10)"
   ]
  },
  {
   "cell_type": "code",
   "execution_count": 91,
   "metadata": {},
   "outputs": [
    {
     "name": "stdout",
     "output_type": "stream",
     "text": [
      "Media errores K = 11, distancia euclídea, datos sin normalizar:  0.0726950354609929\n"
     ]
    }
   ],
   "source": [
    "clasificador = Clasificador.ClasificadorVecinosProximos(K = 11, distancia = \"Euclidea\", normalizado = False)\n",
    "dataset = Datos.Datos('ConjuntosDatosP2/wdbc.data')\n",
    "validacionCruzada = EstrategiaParticionado.ValidacionCruzada(4)\n",
    "particiones = validacionCruzada.creaParticiones(dataset.datos)\n",
    "errores11, std_errores = clasificador.validacion(validacionCruzada, dataset, clasificador, seed=None)\n",
    "print(\"Media errores K = 11, distancia euclídea, datos sin normalizar: \", errores11)"
   ]
  },
  {
   "cell_type": "code",
   "execution_count": 92,
   "metadata": {},
   "outputs": [
    {
     "name": "stdout",
     "output_type": "stream",
     "text": [
      "Media errores K = 21, distancia euclídea, datos sin normalizar:  0.07801418439716312\n"
     ]
    }
   ],
   "source": [
    "clasificador = Clasificador.ClasificadorVecinosProximos(K = 21, distancia = \"Euclidea\", normalizado = False)\n",
    "dataset = Datos.Datos('ConjuntosDatosP2/wdbc.data')\n",
    "validacionCruzada = EstrategiaParticionado.ValidacionCruzada(4)\n",
    "particiones = validacionCruzada.creaParticiones(dataset.datos)\n",
    "errores12, std_errores = clasificador.validacion(validacionCruzada, dataset, clasificador, seed=None)\n",
    "print(\"Media errores K = 21, distancia euclídea, datos sin normalizar: \", errores12)"
   ]
  },
  {
   "cell_type": "markdown",
   "metadata": {},
   "source": [
    "##### Distancia de Manhattan"
   ]
  },
  {
   "cell_type": "code",
   "execution_count": 93,
   "metadata": {},
   "outputs": [
    {
     "name": "stdout",
     "output_type": "stream",
     "text": [
      "Media errores K = 1, distancia de Manhattan, datos sin normalizar:  0.06560283687943261\n"
     ]
    }
   ],
   "source": [
    "clasificador = Clasificador.ClasificadorVecinosProximos(K = 1, distancia = \"Manhattan\", normalizado = False)\n",
    "dataset = Datos.Datos('ConjuntosDatosP2/wdbc.data')\n",
    "validacionCruzada = EstrategiaParticionado.ValidacionCruzada(4)\n",
    "particiones = validacionCruzada.creaParticiones(dataset.datos)\n",
    "errores13, std_errores = clasificador.validacion(validacionCruzada, dataset, clasificador, seed=None)\n",
    "print(\"Media errores K = 1, distancia de Manhattan, datos sin normalizar: \", errores13)"
   ]
  },
  {
   "cell_type": "code",
   "execution_count": 94,
   "metadata": {},
   "outputs": [
    {
     "name": "stdout",
     "output_type": "stream",
     "text": [
      "Media errores K = 5, distancia de Manhattan, datos sin normalizar:  0.05851063829787234\n"
     ]
    }
   ],
   "source": [
    "clasificador = Clasificador.ClasificadorVecinosProximos(K = 5, distancia = \"Manhattan\", normalizado = False)\n",
    "dataset = Datos.Datos('ConjuntosDatosP2/wdbc.data')\n",
    "validacionCruzada = EstrategiaParticionado.ValidacionCruzada(4)\n",
    "particiones = validacionCruzada.creaParticiones(dataset.datos)\n",
    "errores14, std_errores = clasificador.validacion(validacionCruzada, dataset, clasificador, seed=None)\n",
    "print(\"Media errores K = 5, distancia de Manhattan, datos sin normalizar: \", errores14)"
   ]
  },
  {
   "cell_type": "code",
   "execution_count": 95,
   "metadata": {},
   "outputs": [
    {
     "name": "stdout",
     "output_type": "stream",
     "text": [
      "Media errores K = 11, distancia de Manhattan, datos sin normalizar:  0.05673758865248227\n"
     ]
    }
   ],
   "source": [
    "clasificador = Clasificador.ClasificadorVecinosProximos(K = 11, distancia = \"Manhattan\", normalizado = False)\n",
    "dataset = Datos.Datos('ConjuntosDatosP2/wdbc.data')\n",
    "validacionCruzada = EstrategiaParticionado.ValidacionCruzada(4)\n",
    "particiones = validacionCruzada.creaParticiones(dataset.datos)\n",
    "errores15, std_errores = clasificador.validacion(validacionCruzada, dataset, clasificador, seed=None)\n",
    "print(\"Media errores K = 11, distancia de Manhattan, datos sin normalizar: \", errores15)"
   ]
  },
  {
   "cell_type": "code",
   "execution_count": 96,
   "metadata": {},
   "outputs": [
    {
     "name": "stdout",
     "output_type": "stream",
     "text": [
      "Media errores K = 21, distancia de Manhattan, datos sin normalizar:  0.06914893617021275\n"
     ]
    }
   ],
   "source": [
    "clasificador = Clasificador.ClasificadorVecinosProximos(K = 21, distancia = \"Manhattan\", normalizado = False)\n",
    "dataset = Datos.Datos('ConjuntosDatosP2/wdbc.data')\n",
    "validacionCruzada = EstrategiaParticionado.ValidacionCruzada(4)\n",
    "particiones = validacionCruzada.creaParticiones(dataset.datos)\n",
    "errores16, std_errores = clasificador.validacion(validacionCruzada, dataset, clasificador, seed=None)\n",
    "print(\"Media errores K = 21, distancia de Manhattan, datos sin normalizar: \", errores16)"
   ]
  },
  {
   "cell_type": "markdown",
   "metadata": {},
   "source": [
    "### KNN: pima-indians-diabetes.data con Validación Cruzada"
   ]
  },
  {
   "cell_type": "markdown",
   "metadata": {},
   "source": [
    "#### Datos Normalizados"
   ]
  },
  {
   "cell_type": "markdown",
   "metadata": {},
   "source": [
    "##### Distancia Euclídea"
   ]
  },
  {
   "cell_type": "code",
   "execution_count": 97,
   "metadata": {},
   "outputs": [
    {
     "name": "stdout",
     "output_type": "stream",
     "text": [
      "Media errores K = 1, distancia Euclidea, datos normalizados:  0.34293193717277487\n"
     ]
    }
   ],
   "source": [
    "clasificador = Clasificador.ClasificadorVecinosProximos(K = 1, distancia = \"Euclidea\", normalizado = True)\n",
    "dataset = Datos.Datos('ConjuntosDatosP2/pima-indians-diabetes.data')\n",
    "validacionCruzada = EstrategiaParticionado.ValidacionCruzada(4)\n",
    "particiones = validacionCruzada.creaParticiones(dataset.datos)\n",
    "errores17, std_errores = clasificador.validacion(validacionCruzada, dataset, clasificador, seed=None)\n",
    "print(\"Media errores K = 1, distancia Euclidea, datos normalizados: \", errores17)"
   ]
  },
  {
   "cell_type": "code",
   "execution_count": 98,
   "metadata": {},
   "outputs": [
    {
     "name": "stdout",
     "output_type": "stream",
     "text": [
      "Media errores K = 5, distancia Euclidea, datos normalizados:  0.3442408376963351\n"
     ]
    }
   ],
   "source": [
    "clasificador = Clasificador.ClasificadorVecinosProximos(K = 5, distancia = \"Euclidea\", normalizado = True)\n",
    "dataset = Datos.Datos('ConjuntosDatosP2/pima-indians-diabetes.data')\n",
    "validacionCruzada = EstrategiaParticionado.ValidacionCruzada(4)\n",
    "particiones = validacionCruzada.creaParticiones(dataset.datos)\n",
    "errores18, std_errores = clasificador.validacion(validacionCruzada, dataset, clasificador, seed=None)\n",
    "print(\"Media errores K = 5, distancia Euclidea, datos normalizados: \", errores18)"
   ]
  },
  {
   "cell_type": "code",
   "execution_count": 99,
   "metadata": {},
   "outputs": [
    {
     "name": "stdout",
     "output_type": "stream",
     "text": [
      "Media errores K = 11, distancia Euclidea, datos normalizados:  0.31937172774869105\n"
     ]
    }
   ],
   "source": [
    "clasificador = Clasificador.ClasificadorVecinosProximos(K = 11, distancia = \"Euclidea\", normalizado = True)\n",
    "dataset = Datos.Datos('ConjuntosDatosP2/pima-indians-diabetes.data')\n",
    "validacionCruzada = EstrategiaParticionado.ValidacionCruzada(4)\n",
    "particiones = validacionCruzada.creaParticiones(dataset.datos)\n",
    "errores19, std_errores = clasificador.validacion(validacionCruzada, dataset, clasificador, seed=None)\n",
    "print(\"Media errores K = 11, distancia Euclidea, datos normalizados: \", errores19)"
   ]
  },
  {
   "cell_type": "code",
   "execution_count": 100,
   "metadata": {},
   "outputs": [
    {
     "name": "stdout",
     "output_type": "stream",
     "text": [
      "Media errores K = 21, distancia Euclidea, datos normalizados:  0.3612565445026178\n"
     ]
    }
   ],
   "source": [
    "clasificador = Clasificador.ClasificadorVecinosProximos(K = 21, distancia = \"Euclidea\", normalizado = True)\n",
    "dataset = Datos.Datos('ConjuntosDatosP2/pima-indians-diabetes.data')\n",
    "validacionCruzada = EstrategiaParticionado.ValidacionCruzada(4)\n",
    "particiones = validacionCruzada.creaParticiones(dataset.datos)\n",
    "errores20, std_errores = clasificador.validacion(validacionCruzada, dataset, clasificador, seed=None)\n",
    "print(\"Media errores K = 21, distancia Euclidea, datos normalizados: \", errores20)"
   ]
  },
  {
   "cell_type": "markdown",
   "metadata": {},
   "source": [
    "##### Distancia de Manhattan"
   ]
  },
  {
   "cell_type": "code",
   "execution_count": 101,
   "metadata": {},
   "outputs": [
    {
     "name": "stdout",
     "output_type": "stream",
     "text": [
      "Media errores K = 1, distancia de Manhattan, datos normalizados:  0.3612565445026178\n"
     ]
    }
   ],
   "source": [
    "clasificador = Clasificador.ClasificadorVecinosProximos(K = 1, distancia = \"Manhattan\", normalizado = True)\n",
    "dataset = Datos.Datos('ConjuntosDatosP2/pima-indians-diabetes.data')\n",
    "validacionCruzada = EstrategiaParticionado.ValidacionCruzada(4)\n",
    "particiones = validacionCruzada.creaParticiones(dataset.datos)\n",
    "errores21, std_errores = clasificador.validacion(validacionCruzada, dataset, clasificador, seed=None)\n",
    "print(\"Media errores K = 1, distancia de Manhattan, datos normalizados: \", errores21)"
   ]
  },
  {
   "cell_type": "code",
   "execution_count": 102,
   "metadata": {},
   "outputs": [
    {
     "name": "stdout",
     "output_type": "stream",
     "text": [
      "Media errores K = 5, distancia de Manhattan, datos normalizados:  0.35471204188481675\n"
     ]
    }
   ],
   "source": [
    "clasificador = Clasificador.ClasificadorVecinosProximos(K = 5, distancia = \"Manhattan\", normalizado = True)\n",
    "dataset = Datos.Datos('ConjuntosDatosP2/pima-indians-diabetes.data')\n",
    "validacionCruzada = EstrategiaParticionado.ValidacionCruzada(4)\n",
    "particiones = validacionCruzada.creaParticiones(dataset.datos)\n",
    "errores22, std_errores = clasificador.validacion(validacionCruzada, dataset, clasificador, seed=None)\n",
    "print(\"Media errores K = 5, distancia de Manhattan, datos normalizados: \", errores22)"
   ]
  },
  {
   "cell_type": "code",
   "execution_count": 103,
   "metadata": {},
   "outputs": [
    {
     "name": "stdout",
     "output_type": "stream",
     "text": [
      "Media errores K = 11, distancia de Manhattan, datos normalizados:  0.3403141361256544\n"
     ]
    }
   ],
   "source": [
    "clasificador = Clasificador.ClasificadorVecinosProximos(K = 11, distancia = \"Manhattan\", normalizado = True)\n",
    "dataset = Datos.Datos('ConjuntosDatosP2/pima-indians-diabetes.data')\n",
    "validacionCruzada = EstrategiaParticionado.ValidacionCruzada(4)\n",
    "particiones = validacionCruzada.creaParticiones(dataset.datos)\n",
    "errores23, std_errores = clasificador.validacion(validacionCruzada, dataset, clasificador, seed=None)\n",
    "print(\"Media errores K = 11, distancia de Manhattan, datos normalizados: \", errores23)"
   ]
  },
  {
   "cell_type": "code",
   "execution_count": 104,
   "metadata": {},
   "outputs": [
    {
     "name": "stdout",
     "output_type": "stream",
     "text": [
      "Media errores K = 21, distancia de Manhattan, datos normalizados:  0.35732984293193715\n"
     ]
    }
   ],
   "source": [
    "clasificador = Clasificador.ClasificadorVecinosProximos(K = 21, distancia = \"Manhattan\", normalizado = True)\n",
    "dataset = Datos.Datos('ConjuntosDatosP2/pima-indians-diabetes.data')\n",
    "validacionCruzada = EstrategiaParticionado.ValidacionCruzada(4)\n",
    "particiones = validacionCruzada.creaParticiones(dataset.datos)\n",
    "errores24, std_errores = clasificador.validacion(validacionCruzada, dataset, clasificador, seed=None)\n",
    "print(\"Media errores K = 21, distancia de Manhattan, datos normalizados: \", errores24)"
   ]
  },
  {
   "cell_type": "markdown",
   "metadata": {},
   "source": [
    "#### Datos sin normalizar"
   ]
  },
  {
   "cell_type": "markdown",
   "metadata": {},
   "source": [
    "##### Distancia Euclidea"
   ]
  },
  {
   "cell_type": "code",
   "execution_count": 105,
   "metadata": {},
   "outputs": [
    {
     "name": "stdout",
     "output_type": "stream",
     "text": [
      "Media errores K = 1, distancia Euclidea, datos sin normalizar:  0.331151832460733\n"
     ]
    }
   ],
   "source": [
    "clasificador = Clasificador.ClasificadorVecinosProximos(K = 1, distancia = \"Euclidea\", normalizado = False)\n",
    "dataset = Datos.Datos('ConjuntosDatosP2/pima-indians-diabetes.data')\n",
    "validacionCruzada = EstrategiaParticionado.ValidacionCruzada(4)\n",
    "particiones = validacionCruzada.creaParticiones(dataset.datos)\n",
    "errores25, std_errores = clasificador.validacion(validacionCruzada, dataset, clasificador, seed=None)\n",
    "print(\"Media errores K = 1, distancia Euclidea, datos sin normalizar: \", errores25)"
   ]
  },
  {
   "cell_type": "code",
   "execution_count": 106,
   "metadata": {},
   "outputs": [
    {
     "name": "stdout",
     "output_type": "stream",
     "text": [
      "Media errores K = 5, distancia Euclidea, datos sin normalizar:  0.2696335078534031\n"
     ]
    }
   ],
   "source": [
    "clasificador = Clasificador.ClasificadorVecinosProximos(K = 5, distancia = \"Euclidea\", normalizado = False)\n",
    "dataset = Datos.Datos('ConjuntosDatosP2/pima-indians-diabetes.data')\n",
    "validacionCruzada = EstrategiaParticionado.ValidacionCruzada(4)\n",
    "particiones = validacionCruzada.creaParticiones(dataset.datos)\n",
    "errores26, std_errores = clasificador.validacion(validacionCruzada, dataset, clasificador, seed=None)\n",
    "print(\"Media errores K = 5, distancia Euclidea, datos sin normalizar: \", errores26)"
   ]
  },
  {
   "cell_type": "code",
   "execution_count": 107,
   "metadata": {},
   "outputs": [
    {
     "name": "stdout",
     "output_type": "stream",
     "text": [
      "Media errores K = 11, distancia Euclidea, datos sin normalizar:  0.24738219895287958\n"
     ]
    }
   ],
   "source": [
    "clasificador = Clasificador.ClasificadorVecinosProximos(K = 11, distancia = \"Euclidea\", normalizado = False)\n",
    "dataset = Datos.Datos('ConjuntosDatosP2/pima-indians-diabetes.data')\n",
    "validacionCruzada = EstrategiaParticionado.ValidacionCruzada(4)\n",
    "particiones = validacionCruzada.creaParticiones(dataset.datos)\n",
    "errores27, std_errores = clasificador.validacion(validacionCruzada, dataset, clasificador, seed=None)\n",
    "print(\"Media errores K = 11, distancia Euclidea, datos sin normalizar: \", errores27)"
   ]
  },
  {
   "cell_type": "code",
   "execution_count": 108,
   "metadata": {},
   "outputs": [
    {
     "name": "stdout",
     "output_type": "stream",
     "text": [
      "Media errores K = 21, distancia Euclidea, datos sin normalizar:  0.2892670157068063\n"
     ]
    }
   ],
   "source": [
    "clasificador = Clasificador.ClasificadorVecinosProximos(K = 21, distancia = \"Euclidea\", normalizado = False)\n",
    "dataset = Datos.Datos('ConjuntosDatosP2/pima-indians-diabetes.data')\n",
    "validacionCruzada = EstrategiaParticionado.ValidacionCruzada(4)\n",
    "particiones = validacionCruzada.creaParticiones(dataset.datos)\n",
    "errores28, std_errores = clasificador.validacion(validacionCruzada, dataset, clasificador, seed=None)\n",
    "print(\"Media errores K = 21, distancia Euclidea, datos sin normalizar: \", errores28)"
   ]
  },
  {
   "cell_type": "markdown",
   "metadata": {},
   "source": [
    "##### Distancia de Manhattan"
   ]
  },
  {
   "cell_type": "code",
   "execution_count": 109,
   "metadata": {},
   "outputs": [
    {
     "name": "stdout",
     "output_type": "stream",
     "text": [
      "Media errores K = 1, distancia de Manhattan, datos sin normalizar:  0.3049738219895288\n"
     ]
    }
   ],
   "source": [
    "clasificador = Clasificador.ClasificadorVecinosProximos(K = 1, distancia = \"Manhattan\", normalizado = False)\n",
    "dataset = Datos.Datos('ConjuntosDatosP2/pima-indians-diabetes.data')\n",
    "validacionCruzada = EstrategiaParticionado.ValidacionCruzada(4)\n",
    "particiones = validacionCruzada.creaParticiones(dataset.datos)\n",
    "errores29, std_errores = clasificador.validacion(validacionCruzada, dataset, clasificador, seed=None)\n",
    "print(\"Media errores K = 1, distancia de Manhattan, datos sin normalizar: \", errores29)"
   ]
  },
  {
   "cell_type": "code",
   "execution_count": 110,
   "metadata": {},
   "outputs": [
    {
     "name": "stdout",
     "output_type": "stream",
     "text": [
      "Media errores K = 5, distancia de Manhattan, datos sin normalizar:  0.2604712041884817\n"
     ]
    }
   ],
   "source": [
    "clasificador = Clasificador.ClasificadorVecinosProximos(K = 5, distancia = \"Manhattan\", normalizado = False)\n",
    "dataset = Datos.Datos('ConjuntosDatosP2/pima-indians-diabetes.data')\n",
    "validacionCruzada = EstrategiaParticionado.ValidacionCruzada(4)\n",
    "particiones = validacionCruzada.creaParticiones(dataset.datos)\n",
    "errores30, std_errores = clasificador.validacion(validacionCruzada, dataset, clasificador, seed=None)\n",
    "print(\"Media errores K = 5, distancia de Manhattan, datos sin normalizar: \", errores30)"
   ]
  },
  {
   "cell_type": "code",
   "execution_count": 111,
   "metadata": {},
   "outputs": [
    {
     "name": "stdout",
     "output_type": "stream",
     "text": [
      "Media errores K = 11, distancia de Manhattan, datos sin normalizar:  0.25261780104712045\n"
     ]
    }
   ],
   "source": [
    "clasificador = Clasificador.ClasificadorVecinosProximos(K = 11, distancia = \"Manhattan\", normalizado = False)\n",
    "dataset = Datos.Datos('ConjuntosDatosP2/pima-indians-diabetes.data')\n",
    "validacionCruzada = EstrategiaParticionado.ValidacionCruzada(4)\n",
    "particiones = validacionCruzada.creaParticiones(dataset.datos)\n",
    "errores31, std_errores = clasificador.validacion(validacionCruzada, dataset, clasificador, seed=None)\n",
    "print(\"Media errores K = 11, distancia de Manhattan, datos sin normalizar: \", errores31)"
   ]
  },
  {
   "cell_type": "code",
   "execution_count": 112,
   "metadata": {},
   "outputs": [
    {
     "name": "stdout",
     "output_type": "stream",
     "text": [
      "Media errores K = 21, distancia de Manhattan, datos sin normalizar:  0.24345549738219896\n"
     ]
    }
   ],
   "source": [
    "clasificador = Clasificador.ClasificadorVecinosProximos(K = 21, distancia = \"Manhattan\", normalizado = False)\n",
    "dataset = Datos.Datos('ConjuntosDatosP2/pima-indians-diabetes.data')\n",
    "validacionCruzada = EstrategiaParticionado.ValidacionCruzada(4)\n",
    "particiones = validacionCruzada.creaParticiones(dataset.datos)\n",
    "errores32, std_errores = clasificador.validacion(validacionCruzada, dataset, clasificador, seed=None)\n",
    "print(\"Media errores K = 21, distancia de Manhattan, datos sin normalizar: \", errores32)"
   ]
  },
  {
   "cell_type": "markdown",
   "metadata": {},
   "source": [
    "## Tablas para comparar"
   ]
  },
  {
   "cell_type": "code",
   "execution_count": 113,
   "metadata": {},
   "outputs": [
    {
     "name": "stdout",
     "output_type": "stream",
     "text": [
      "Tablas wdbc.data\n",
      "\n",
      " K  Distancia Normalizado Media Error\n",
      "--- --------- ----------- -----------\n",
      "  1  Euclídea          Sí       0.048\n",
      "  5  Euclídea          Sí       0.034\n",
      " 11  Euclídea          Sí       0.059\n",
      " 21  Euclídea          Sí        0.05\n",
      "\n",
      "\n",
      " K  Distancia Normalizado Media Error\n",
      "--- --------- ----------- -----------\n",
      "  1 Manhattan          Sí       0.043\n",
      "  5 Manhattan          Sí       0.023\n",
      " 11 Manhattan          Sí       0.044\n",
      " 21 Manhattan          Sí       0.051\n",
      "\n",
      "\n",
      " K  Distancia Normalizado Media Error\n",
      "--- --------- ----------- -----------\n",
      "  1  Euclídea          No        0.08\n",
      "  5  Euclídea          No       0.078\n",
      " 11  Euclídea          No       0.073\n",
      " 21  Euclídea          No       0.078\n",
      "\n",
      "\n",
      " K  Distancia Normalizado Media Error\n",
      "--- --------- ----------- -----------\n",
      "  1 Manhattan          No       0.066\n",
      "  5 Manhattan          No       0.059\n",
      " 11 Manhattan          No       0.057\n",
      " 21 Manhattan          No       0.069\n",
      "\n",
      "\n"
     ]
    }
   ],
   "source": [
    "a = [1, 5, 11, 21]\n",
    "b = [\"Euclídea\", \"Euclídea\", \"Euclídea\", \"Euclídea\"]\n",
    "c = [\"Sí\", \"Sí\", \"Sí\", \"Sí\"]\n",
    "d = [round(errores1, 3), round(errores2, 3), round(errores3, 3), round(errores4, 3)]\n",
    "t = Table([a, b, c, d], names=('K', 'Distancia', 'Normalizado', 'Media Error'))\n",
    "print(\"Tablas wdbc.data para VALIDACION CRUZADA\\n\")\n",
    "print(t)\n",
    "print(\"\\n\")\n",
    "a = [1, 5, 11, 21]\n",
    "b = [\"Manhattan\", \"Manhattan\", \"Manhattan\", \"Manhattan\"]\n",
    "c = [\"Sí\", \"Sí\", \"Sí\", \"Sí\"]\n",
    "d = [round(errores5, 3), round(errores6, 3), round(errores7, 3), round(errores8, 3)]\n",
    "t = Table([a, b, c, d], names=('K', 'Distancia', 'Normalizado', 'Media Error'))\n",
    "print(t)\n",
    "print(\"\\n\")\n",
    "\n",
    "a = [1, 5, 11, 21]\n",
    "b = [\"Euclídea\", \"Euclídea\", \"Euclídea\", \"Euclídea\"]\n",
    "c = [\"No\", \"No\", \"No\", \"No\"]\n",
    "d = [round(errores9, 3), round(errores10, 3), round(errores11, 3), round(errores12, 3)]\n",
    "t = Table([a, b, c, d], names=('K', 'Distancia', 'Normalizado', 'Media Error'))\n",
    "print(t)\n",
    "print(\"\\n\")\n",
    "a = [1, 5, 11, 21]\n",
    "b = [\"Manhattan\", \"Manhattan\", \"Manhattan\", \"Manhattan\"]\n",
    "c = [\"No\", \"No\", \"No\", \"No\"]\n",
    "d = [round(errores13, 3), round(errores14, 3), round(errores15, 3), round(errores16, 3)]\n",
    "t = Table([a, b, c, d], names=('K', 'Distancia', 'Normalizado', 'Media Error'))\n",
    "print(t)\n",
    "print(\"\\n\")"
   ]
  },
  {
   "cell_type": "code",
   "execution_count": 114,
   "metadata": {},
   "outputs": [
    {
     "name": "stdout",
     "output_type": "stream",
     "text": [
      "Tablas pima-indians-diabetes.data\n",
      "\n",
      " K  Distancia Normalizado Media Error\n",
      "--- --------- ----------- -----------\n",
      "  1  Euclídea          Sí       0.343\n",
      "  5  Euclídea          Sí       0.344\n",
      " 11  Euclídea          Sí       0.319\n",
      " 21  Euclídea          Sí       0.361\n",
      "\n",
      "\n",
      " K  Distancia Normalizado Media Error\n",
      "--- --------- ----------- -----------\n",
      "  1 Manhattan          Sí       0.361\n",
      "  5 Manhattan          Sí       0.355\n",
      " 11 Manhattan          Sí        0.34\n",
      " 21 Manhattan          Sí       0.357\n",
      "\n",
      "\n",
      " K  Distancia Normalizado Media Error\n",
      "--- --------- ----------- -----------\n",
      "  1  Euclídea          No       0.331\n",
      "  5  Euclídea          No        0.27\n",
      " 11  Euclídea          No       0.247\n",
      " 21  Euclídea          No       0.289\n",
      "\n",
      "\n",
      " K  Distancia Normalizado Media Error\n",
      "--- --------- ----------- -----------\n",
      "  1 Manhattan          No       0.305\n",
      "  5 Manhattan          No        0.26\n",
      " 11 Manhattan          No       0.253\n",
      " 21 Manhattan          No       0.243\n",
      "\n",
      "\n"
     ]
    }
   ],
   "source": [
    "a = [1, 5, 11, 21]\n",
    "b = [\"Euclídea\", \"Euclídea\", \"Euclídea\", \"Euclídea\"]\n",
    "c = [\"Sí\", \"Sí\", \"Sí\", \"Sí\"]\n",
    "d = [round(errores17, 3), round(errores18, 3), round(errores19, 3), round(errores20, 3)]\n",
    "t = Table([a, b, c, d], names=('K', 'Distancia', 'Normalizado', 'Media Error'))\n",
    "print(\"Tablas pima-indians-diabetes.data para VALIDACION CRUZADA\\n\")\n",
    "print(t)\n",
    "print(\"\\n\")\n",
    "a = [1, 5, 11, 21]\n",
    "b = [\"Manhattan\", \"Manhattan\", \"Manhattan\", \"Manhattan\"]\n",
    "c = [\"Sí\", \"Sí\", \"Sí\", \"Sí\"]\n",
    "d = [round(errores21, 3), round(errores22, 3), round(errores23, 3), round(errores24, 3)]\n",
    "t = Table([a, b, c, d], names=('K', 'Distancia', 'Normalizado', 'Media Error'))\n",
    "print(t)\n",
    "print(\"\\n\")\n",
    "\n",
    "a = [1, 5, 11, 21]\n",
    "b = [\"Euclídea\", \"Euclídea\", \"Euclídea\", \"Euclídea\"]\n",
    "c = [\"No\", \"No\", \"No\", \"No\"]\n",
    "d = [round(errores25, 3), round(errores26, 3), round(errores27, 3), round(errores28, 3)]\n",
    "t = Table([a, b, c, d], names=('K', 'Distancia', 'Normalizado', 'Media Error'))\n",
    "print(t)\n",
    "print(\"\\n\")\n",
    "a = [1, 5, 11, 21]\n",
    "b = [\"Manhattan\", \"Manhattan\", \"Manhattan\", \"Manhattan\"]\n",
    "c = [\"No\", \"No\", \"No\", \"No\"]\n",
    "d = [round(errores29, 3), round(errores30, 3), round(errores31, 3), round(errores32, 3)]\n",
    "t = Table([a, b, c, d], names=('K', 'Distancia', 'Normalizado', 'Media Error'))\n",
    "print(t)\n",
    "print(\"\\n\")"
   ]
  },
  {
   "cell_type": "markdown",
   "metadata": {},
   "source": [
    "### KNN: wdbc.data con Validación Simple"
   ]
  },
  {
   "cell_type": "markdown",
   "metadata": {},
   "source": [
    "#### Datos normalizados"
   ]
  },
  {
   "cell_type": "markdown",
   "metadata": {},
   "source": [
    "##### Distancia Euclídea"
   ]
  },
  {
   "cell_type": "code",
   "execution_count": 6,
   "metadata": {},
   "outputs": [
    {
     "name": "stdout",
     "output_type": "stream",
     "text": [
      "Media errores K = 1, distancia euclídea, datos normalizados:  0.04240282685512364\n"
     ]
    }
   ],
   "source": [
    "clasificador = Clasificador.ClasificadorVecinosProximos(K = 1, distancia = \"Euclidea\", normalizado = True)\n",
    "dataset = Datos.Datos('ConjuntosDatosP2/wdbc.data')\n",
    "validacionSimple = EstrategiaParticionado.ValidacionSimple(0.5, 1)\n",
    "particiones = validacionSimple.creaParticiones(dataset.datos)\n",
    "errores33, std_errores = clasificador.validacion(validacionSimple, dataset, clasificador, seed=None)\n",
    "print(\"Media errores K = 1, distancia euclídea, datos normalizados: \", errores33)"
   ]
  },
  {
   "cell_type": "code",
   "execution_count": 7,
   "metadata": {},
   "outputs": [
    {
     "name": "stdout",
     "output_type": "stream",
     "text": [
      "Media errores K = 5, distancia euclídea, datos normalizados:  0.06360424028268552\n"
     ]
    }
   ],
   "source": [
    "clasificador = Clasificador.ClasificadorVecinosProximos(K = 5, distancia = \"Euclidea\", normalizado = True)\n",
    "dataset = Datos.Datos('ConjuntosDatosP2/wdbc.data')\n",
    "validacionSimple = EstrategiaParticionado.ValidacionSimple(0.5, 1)\n",
    "particiones = validacionSimple.creaParticiones(dataset.datos)\n",
    "errores34, std_errores = clasificador.validacion(validacionSimple, dataset, clasificador, seed=None)\n",
    "print(\"Media errores K = 5, distancia euclídea, datos normalizados: \", errores34)"
   ]
  },
  {
   "cell_type": "code",
   "execution_count": 8,
   "metadata": {},
   "outputs": [
    {
     "name": "stdout",
     "output_type": "stream",
     "text": [
      "Media errores K = 11, distancia euclídea, datos normalizados:  0.035335689045936425\n"
     ]
    }
   ],
   "source": [
    "clasificador = Clasificador.ClasificadorVecinosProximos(K = 11, distancia = \"Euclidea\", normalizado = True)\n",
    "dataset = Datos.Datos('ConjuntosDatosP2/wdbc.data')\n",
    "validacionSimple = EstrategiaParticionado.ValidacionSimple(0.5, 1)\n",
    "particiones = validacionSimple.creaParticiones(dataset.datos)\n",
    "errores35, std_errores = clasificador.validacion(validacionSimple, dataset, clasificador, seed=None)\n",
    "print(\"Media errores K = 11, distancia euclídea, datos normalizados: \", errores35)"
   ]
  },
  {
   "cell_type": "code",
   "execution_count": 9,
   "metadata": {},
   "outputs": [
    {
     "name": "stdout",
     "output_type": "stream",
     "text": [
      "Media errores K = 21, distancia euclídea, datos normalizados:  0.06713780918727918\n"
     ]
    }
   ],
   "source": [
    "clasificador = Clasificador.ClasificadorVecinosProximos(K = 21, distancia = \"Euclidea\", normalizado = True)\n",
    "dataset = Datos.Datos('ConjuntosDatosP2/wdbc.data')\n",
    "validacionSimple = EstrategiaParticionado.ValidacionSimple(0.5, 1)\n",
    "particiones = validacionSimple.creaParticiones(dataset.datos)\n",
    "errores36, std_errores = clasificador.validacion(validacionSimple, dataset, clasificador, seed=None)\n",
    "print(\"Media errores K = 21, distancia euclídea, datos normalizados: \", errores36)"
   ]
  },
  {
   "cell_type": "markdown",
   "metadata": {},
   "source": [
    "##### Distancia de Manhattan"
   ]
  },
  {
   "cell_type": "code",
   "execution_count": 10,
   "metadata": {},
   "outputs": [
    {
     "name": "stdout",
     "output_type": "stream",
     "text": [
      "Media errores K = 1, distancia de Manhattan, datos normalizados:  0.08127208480565373\n"
     ]
    }
   ],
   "source": [
    "clasificador = Clasificador.ClasificadorVecinosProximos(K = 1, distancia = \"Manhattan\", normalizado = True)\n",
    "dataset = Datos.Datos('ConjuntosDatosP2/wdbc.data')\n",
    "validacionSimple = EstrategiaParticionado.ValidacionSimple(0.5, 1)\n",
    "particiones = validacionSimple.creaParticiones(dataset.datos)\n",
    "errores37, std_errores = clasificador.validacion(validacionSimple, dataset, clasificador, seed=None)\n",
    "print(\"Media errores K = 1, distancia de Manhattan, datos normalizados: \", errores37)"
   ]
  },
  {
   "cell_type": "code",
   "execution_count": 11,
   "metadata": {},
   "outputs": [
    {
     "name": "stdout",
     "output_type": "stream",
     "text": [
      "Media errores K = 5, distancia de Manhattan, datos normalizados:  0.05653710247349819\n"
     ]
    }
   ],
   "source": [
    "clasificador = Clasificador.ClasificadorVecinosProximos(K = 5, distancia = \"Manhattan\", normalizado = True)\n",
    "dataset = Datos.Datos('ConjuntosDatosP2/wdbc.data')\n",
    "validacionSimple = EstrategiaParticionado.ValidacionSimple(0.5, 1)\n",
    "particiones = validacionSimple.creaParticiones(dataset.datos)\n",
    "errores38, std_errores = clasificador.validacion(validacionSimple, dataset, clasificador, seed=None)\n",
    "print(\"Media errores K = 5, distancia de Manhattan, datos normalizados: \", errores38)"
   ]
  },
  {
   "cell_type": "code",
   "execution_count": 12,
   "metadata": {},
   "outputs": [
    {
     "name": "stdout",
     "output_type": "stream",
     "text": [
      "Media errores K = 11, distancia de Manhattan, datos normalizados:  0.028268551236749095\n"
     ]
    }
   ],
   "source": [
    "clasificador = Clasificador.ClasificadorVecinosProximos(K = 11, distancia = \"Manhattan\", normalizado = True)\n",
    "dataset = Datos.Datos('ConjuntosDatosP2/wdbc.data')\n",
    "validacionSimple = EstrategiaParticionado.ValidacionSimple(0.5, 1)\n",
    "particiones = validacionSimple.creaParticiones(dataset.datos)\n",
    "errores39, std_errores = clasificador.validacion(validacionSimple, dataset, clasificador, seed=None)\n",
    "print(\"Media errores K = 11, distancia de Manhattan, datos normalizados: \", errores39)"
   ]
  },
  {
   "cell_type": "code",
   "execution_count": 13,
   "metadata": {},
   "outputs": [
    {
     "name": "stdout",
     "output_type": "stream",
     "text": [
      "Media errores K = 21, distancia de Manhattan, datos normalizados:  0.04240282685512364\n"
     ]
    }
   ],
   "source": [
    "clasificador = Clasificador.ClasificadorVecinosProximos(K = 21, distancia = \"Manhattan\", normalizado = True)\n",
    "dataset = Datos.Datos('ConjuntosDatosP2/wdbc.data')\n",
    "validacionSimple = EstrategiaParticionado.ValidacionSimple(0.5, 1)\n",
    "particiones = validacionSimple.creaParticiones(dataset.datos)\n",
    "errores40, std_errores = clasificador.validacion(validacionSimple, dataset, clasificador, seed=None)\n",
    "print(\"Media errores K = 21, distancia de Manhattan, datos normalizados: \", errores40)"
   ]
  },
  {
   "cell_type": "markdown",
   "metadata": {},
   "source": [
    "#### Datos sin normalizar"
   ]
  },
  {
   "cell_type": "markdown",
   "metadata": {},
   "source": [
    "##### Distancia Euclídea"
   ]
  },
  {
   "cell_type": "code",
   "execution_count": 14,
   "metadata": {},
   "outputs": [
    {
     "name": "stdout",
     "output_type": "stream",
     "text": [
      "Media errores K = 1, distancia Euclídea, datos sin normalizar:  0.09540636042402828\n"
     ]
    }
   ],
   "source": [
    "clasificador = Clasificador.ClasificadorVecinosProximos(K = 1, distancia = \"Euclidea\", normalizado = False)\n",
    "dataset = Datos.Datos('ConjuntosDatosP2/wdbc.data')\n",
    "validacionSimple = EstrategiaParticionado.ValidacionSimple(0.5, 1)\n",
    "particiones = validacionSimple.creaParticiones(dataset.datos)\n",
    "errores41, std_errores = clasificador.validacion(validacionSimple, dataset, clasificador, seed=None)\n",
    "print(\"Media errores K = 1, distancia Euclídea, datos sin normalizar: \", errores41)"
   ]
  },
  {
   "cell_type": "code",
   "execution_count": 15,
   "metadata": {},
   "outputs": [
    {
     "name": "stdout",
     "output_type": "stream",
     "text": [
      "Media errores K = 5, distancia Euclídea, datos sin normalizar:  0.060070671378091856\n"
     ]
    }
   ],
   "source": [
    "clasificador = Clasificador.ClasificadorVecinosProximos(K = 5, distancia = \"Euclidea\", normalizado = False)\n",
    "dataset = Datos.Datos('ConjuntosDatosP2/wdbc.data')\n",
    "validacionSimple = EstrategiaParticionado.ValidacionSimple(0.5, 1)\n",
    "particiones = validacionSimple.creaParticiones(dataset.datos)\n",
    "errores42, std_errores = clasificador.validacion(validacionSimple, dataset, clasificador, seed=None)\n",
    "print(\"Media errores K = 5, distancia Euclídea, datos sin normalizar: \", errores42)"
   ]
  },
  {
   "cell_type": "code",
   "execution_count": 16,
   "metadata": {},
   "outputs": [
    {
     "name": "stdout",
     "output_type": "stream",
     "text": [
      "Media errores K = 11, distancia Euclídea, datos sin normalizar:  0.06713780918727918\n"
     ]
    }
   ],
   "source": [
    "clasificador = Clasificador.ClasificadorVecinosProximos(K = 11, distancia = \"Euclidea\", normalizado = False)\n",
    "dataset = Datos.Datos('ConjuntosDatosP2/wdbc.data')\n",
    "validacionSimple = EstrategiaParticionado.ValidacionSimple(0.5, 1)\n",
    "particiones = validacionSimple.creaParticiones(dataset.datos)\n",
    "errores43, std_errores = clasificador.validacion(validacionSimple, dataset, clasificador, seed=None)\n",
    "print(\"Media errores K = 11, distancia Euclídea, datos sin normalizar: \", errores43)"
   ]
  },
  {
   "cell_type": "code",
   "execution_count": 17,
   "metadata": {},
   "outputs": [
    {
     "name": "stdout",
     "output_type": "stream",
     "text": [
      "Media errores K = 21, distancia Euclídea, datos sin normalizar:  0.08833922261484095\n"
     ]
    }
   ],
   "source": [
    "clasificador = Clasificador.ClasificadorVecinosProximos(K = 21, distancia = \"Euclidea\", normalizado = False)\n",
    "dataset = Datos.Datos('ConjuntosDatosP2/wdbc.data')\n",
    "validacionSimple = EstrategiaParticionado.ValidacionSimple(0.5, 1)\n",
    "particiones = validacionSimple.creaParticiones(dataset.datos)\n",
    "errores44, std_errores = clasificador.validacion(validacionSimple, dataset, clasificador, seed=None)\n",
    "print(\"Media errores K = 21, distancia Euclídea, datos sin normalizar: \", errores44)"
   ]
  },
  {
   "cell_type": "markdown",
   "metadata": {},
   "source": [
    "##### Distancia de Manhattan"
   ]
  },
  {
   "cell_type": "code",
   "execution_count": 27,
   "metadata": {},
   "outputs": [
    {
     "name": "stdout",
     "output_type": "stream",
     "text": [
      "Media errores K = 1, distancia de Manhattan, datos sin normalizar:  0.0848056537102474\n"
     ]
    }
   ],
   "source": [
    "clasificador = Clasificador.ClasificadorVecinosProximos(K = 1, distancia = \"Manhattan\", normalizado = False)\n",
    "dataset = Datos.Datos('ConjuntosDatosP2/wdbc.data')\n",
    "validacionSimple = EstrategiaParticionado.ValidacionSimple(0.5, 1)\n",
    "particiones = validacionSimple.creaParticiones(dataset.datos)\n",
    "errores45, std_errores = clasificador.validacion(validacionSimple, dataset, clasificador, seed=None)\n",
    "print(\"Media errores K = 1, distancia de Manhattan, datos sin normalizar: \", errores45)"
   ]
  },
  {
   "cell_type": "code",
   "execution_count": 23,
   "metadata": {},
   "outputs": [
    {
     "name": "stdout",
     "output_type": "stream",
     "text": [
      "Media errores K = 5, distancia de Manhattan, datos sin normalizar:  0.08127208480565373\n"
     ]
    }
   ],
   "source": [
    "clasificador = Clasificador.ClasificadorVecinosProximos(K = 5, distancia = \"Manhattan\", normalizado = False)\n",
    "dataset = Datos.Datos('ConjuntosDatosP2/wdbc.data')\n",
    "validacionSimple = EstrategiaParticionado.ValidacionSimple(0.5, 1)\n",
    "particiones = validacionSimple.creaParticiones(dataset.datos)\n",
    "errores46, std_errores = clasificador.validacion(validacionSimple, dataset, clasificador, seed=None)\n",
    "print(\"Media errores K = 5, distancia de Manhattan, datos sin normalizar: \", errores46)"
   ]
  },
  {
   "cell_type": "code",
   "execution_count": 24,
   "metadata": {},
   "outputs": [
    {
     "name": "stdout",
     "output_type": "stream",
     "text": [
      "Media errores K = 11, distancia de Manhattan, datos sin normalizar:  0.05300353356890464\n"
     ]
    }
   ],
   "source": [
    "clasificador = Clasificador.ClasificadorVecinosProximos(K = 11, distancia = \"Manhattan\", normalizado = False)\n",
    "dataset = Datos.Datos('ConjuntosDatosP2/wdbc.data')\n",
    "validacionSimple = EstrategiaParticionado.ValidacionSimple(0.5, 1)\n",
    "particiones = validacionSimple.creaParticiones(dataset.datos)\n",
    "errores47, std_errores = clasificador.validacion(validacionSimple, dataset, clasificador, seed=None)\n",
    "print(\"Media errores K = 11, distancia de Manhattan, datos sin normalizar: \", errores47)"
   ]
  },
  {
   "cell_type": "code",
   "execution_count": 21,
   "metadata": {},
   "outputs": [
    {
     "name": "stdout",
     "output_type": "stream",
     "text": [
      "Media errores K = 21, distancia de Manhattan, datos sin normalizar:  0.07067137809187274\n"
     ]
    }
   ],
   "source": [
    "clasificador = Clasificador.ClasificadorVecinosProximos(K = 21, distancia = \"Manhattan\", normalizado = False)\n",
    "dataset = Datos.Datos('ConjuntosDatosP2/wdbc.data')\n",
    "validacionSimple = EstrategiaParticionado.ValidacionSimple(0.5, 1)\n",
    "particiones = validacionSimple.creaParticiones(dataset.datos)\n",
    "errores48, std_errores = clasificador.validacion(validacionSimple, dataset, clasificador, seed=None)\n",
    "print(\"Media errores K = 21, distancia de Manhattan, datos sin normalizar: \", errores48)"
   ]
  },
  {
   "cell_type": "markdown",
   "metadata": {},
   "source": [
    "### KNN: pima-indians-diabetes.data con Validación Simple"
   ]
  },
  {
   "cell_type": "markdown",
   "metadata": {},
   "source": [
    "#### Datos normalizados"
   ]
  },
  {
   "cell_type": "markdown",
   "metadata": {},
   "source": [
    "##### Distancia Euclídea"
   ]
  },
  {
   "cell_type": "code",
   "execution_count": 28,
   "metadata": {},
   "outputs": [
    {
     "name": "stdout",
     "output_type": "stream",
     "text": [
      "Media errores K = 1, distancia Euclídea, datos normalizados:  0.3263707571801566\n"
     ]
    }
   ],
   "source": [
    "clasificador = Clasificador.ClasificadorVecinosProximos(K = 1, distancia = \"Euclidea\", normalizado = True)\n",
    "dataset = Datos.Datos('ConjuntosDatosP2/pima-indians-diabetes.data')\n",
    "validacionSimple = EstrategiaParticionado.ValidacionSimple(0.5, 1)\n",
    "particiones = validacionSimple.creaParticiones(dataset.datos)\n",
    "errores49, std_errores = clasificador.validacion(validacionSimple, dataset, clasificador, seed=None)\n",
    "print(\"Media errores K = 1, distancia Euclídea, datos normalizados: \", errores49)"
   ]
  },
  {
   "cell_type": "code",
   "execution_count": 29,
   "metadata": {},
   "outputs": [
    {
     "name": "stdout",
     "output_type": "stream",
     "text": [
      "Media errores K = 5, distancia Euclídea, datos normalizados:  0.3655352480417755\n"
     ]
    }
   ],
   "source": [
    "clasificador = Clasificador.ClasificadorVecinosProximos(K = 5, distancia = \"Euclidea\", normalizado = True)\n",
    "dataset = Datos.Datos('ConjuntosDatosP2/pima-indians-diabetes.data')\n",
    "validacionSimple = EstrategiaParticionado.ValidacionSimple(0.5, 1)\n",
    "particiones = validacionSimple.creaParticiones(dataset.datos)\n",
    "errores50, std_errores = clasificador.validacion(validacionSimple, dataset, clasificador, seed=None)\n",
    "print(\"Media errores K = 5, distancia Euclídea, datos normalizados: \", errores50)"
   ]
  },
  {
   "cell_type": "code",
   "execution_count": 30,
   "metadata": {},
   "outputs": [
    {
     "name": "stdout",
     "output_type": "stream",
     "text": [
      "Media errores K = 11, distancia Euclídea, datos normalizados:  0.360313315926893\n"
     ]
    }
   ],
   "source": [
    "clasificador = Clasificador.ClasificadorVecinosProximos(K = 11, distancia = \"Euclidea\", normalizado = True)\n",
    "dataset = Datos.Datos('ConjuntosDatosP2/pima-indians-diabetes.data')\n",
    "validacionSimple = EstrategiaParticionado.ValidacionSimple(0.5, 1)\n",
    "particiones = validacionSimple.creaParticiones(dataset.datos)\n",
    "errores51, std_errores = clasificador.validacion(validacionSimple, dataset, clasificador, seed=None)\n",
    "print(\"Media errores K = 11, distancia Euclídea, datos normalizados: \", errores51)"
   ]
  },
  {
   "cell_type": "code",
   "execution_count": 31,
   "metadata": {},
   "outputs": [
    {
     "name": "stdout",
     "output_type": "stream",
     "text": [
      "Media errores K = 21, distancia Euclídea, datos normalizados:  0.34725848563968664\n"
     ]
    }
   ],
   "source": [
    "clasificador = Clasificador.ClasificadorVecinosProximos(K = 21, distancia = \"Euclidea\", normalizado = True)\n",
    "dataset = Datos.Datos('ConjuntosDatosP2/pima-indians-diabetes.data')\n",
    "validacionSimple = EstrategiaParticionado.ValidacionSimple(0.5, 1)\n",
    "particiones = validacionSimple.creaParticiones(dataset.datos)\n",
    "errores52, std_errores = clasificador.validacion(validacionSimple, dataset, clasificador, seed=None)\n",
    "print(\"Media errores K = 21, distancia Euclídea, datos normalizados: \", errores52)"
   ]
  },
  {
   "cell_type": "markdown",
   "metadata": {},
   "source": [
    "##### Distancia de Manhattan"
   ]
  },
  {
   "cell_type": "code",
   "execution_count": 33,
   "metadata": {},
   "outputs": [
    {
     "name": "stdout",
     "output_type": "stream",
     "text": [
      "Media errores K = 1, distancia de Manhattan, datos normalizados:  0.33159268929503916\n"
     ]
    }
   ],
   "source": [
    "clasificador = Clasificador.ClasificadorVecinosProximos(K = 1, distancia = \"Manhattan\", normalizado = True)\n",
    "dataset = Datos.Datos('ConjuntosDatosP2/pima-indians-diabetes.data')\n",
    "validacionSimple = EstrategiaParticionado.ValidacionSimple(0.5, 1)\n",
    "particiones = validacionSimple.creaParticiones(dataset.datos)\n",
    "errores53, std_errores = clasificador.validacion(validacionSimple, dataset, clasificador, seed=None)\n",
    "print(\"Media errores K = 1, distancia de Manhattan, datos normalizados: \", errores53)"
   ]
  },
  {
   "cell_type": "code",
   "execution_count": 34,
   "metadata": {},
   "outputs": [
    {
     "name": "stdout",
     "output_type": "stream",
     "text": [
      "Media errores K = 5, distancia de Manhattan, datos normalizados:  0.30809399477806787\n"
     ]
    }
   ],
   "source": [
    "clasificador = Clasificador.ClasificadorVecinosProximos(K = 5, distancia = \"Manhattan\", normalizado = True)\n",
    "dataset = Datos.Datos('ConjuntosDatosP2/pima-indians-diabetes.data')\n",
    "validacionSimple = EstrategiaParticionado.ValidacionSimple(0.5, 1)\n",
    "particiones = validacionSimple.creaParticiones(dataset.datos)\n",
    "errores54, std_errores = clasificador.validacion(validacionSimple, dataset, clasificador, seed=None)\n",
    "print(\"Media errores K = 5, distancia de Manhattan, datos normalizados: \", errores54)"
   ]
  },
  {
   "cell_type": "code",
   "execution_count": 35,
   "metadata": {},
   "outputs": [
    {
     "name": "stdout",
     "output_type": "stream",
     "text": [
      "Media errores K = 11, distancia de Manhattan, datos normalizados:  0.37075718015665793\n"
     ]
    }
   ],
   "source": [
    "clasificador = Clasificador.ClasificadorVecinosProximos(K = 11, distancia = \"Manhattan\", normalizado = True)\n",
    "dataset = Datos.Datos('ConjuntosDatosP2/pima-indians-diabetes.data')\n",
    "validacionSimple = EstrategiaParticionado.ValidacionSimple(0.5, 1)\n",
    "particiones = validacionSimple.creaParticiones(dataset.datos)\n",
    "errores55, std_errores = clasificador.validacion(validacionSimple, dataset, clasificador, seed=None)\n",
    "print(\"Media errores K = 11, distancia de Manhattan, datos normalizados: \", errores55)"
   ]
  },
  {
   "cell_type": "code",
   "execution_count": 36,
   "metadata": {},
   "outputs": [
    {
     "name": "stdout",
     "output_type": "stream",
     "text": [
      "Media errores K = 21, distancia de Manhattan, datos normalizados:  0.3133159268929504\n"
     ]
    }
   ],
   "source": [
    "clasificador = Clasificador.ClasificadorVecinosProximos(K = 21, distancia = \"Manhattan\", normalizado = True)\n",
    "dataset = Datos.Datos('ConjuntosDatosP2/pima-indians-diabetes.data')\n",
    "validacionSimple = EstrategiaParticionado.ValidacionSimple(0.5, 1)\n",
    "particiones = validacionSimple.creaParticiones(dataset.datos)\n",
    "errores56, std_errores = clasificador.validacion(validacionSimple, dataset, clasificador, seed=None)\n",
    "print(\"Media errores K = 21, distancia de Manhattan, datos normalizados: \", errores56)"
   ]
  },
  {
   "cell_type": "markdown",
   "metadata": {},
   "source": [
    "#### Datos sin normalizar"
   ]
  },
  {
   "cell_type": "markdown",
   "metadata": {},
   "source": [
    "##### Distancia Euclídea"
   ]
  },
  {
   "cell_type": "code",
   "execution_count": 39,
   "metadata": {},
   "outputs": [
    {
     "name": "stdout",
     "output_type": "stream",
     "text": [
      "Media errores K = 1, distancia Euclídea, datos sin normalizar:  0.3289817232375979\n"
     ]
    }
   ],
   "source": [
    "clasificador = Clasificador.ClasificadorVecinosProximos(K = 1, distancia = \"Euclidea\", normalizado = False)\n",
    "dataset = Datos.Datos('ConjuntosDatosP2/pima-indians-diabetes.data')\n",
    "validacionSimple = EstrategiaParticionado.ValidacionSimple(0.5, 1)\n",
    "particiones = validacionSimple.creaParticiones(dataset.datos)\n",
    "errores57, std_errores = clasificador.validacion(validacionSimple, dataset, clasificador, seed=None)\n",
    "print(\"Media errores K = 1, distancia Euclídea, datos sin normalizar: \", errores57)"
   ]
  },
  {
   "cell_type": "code",
   "execution_count": 40,
   "metadata": {},
   "outputs": [
    {
     "name": "stdout",
     "output_type": "stream",
     "text": [
      "Media errores K = 5, distancia Euclídea, datos sin normalizar:  0.30026109660574407\n"
     ]
    }
   ],
   "source": [
    "clasificador = Clasificador.ClasificadorVecinosProximos(K = 5, distancia = \"Euclidea\", normalizado = False)\n",
    "dataset = Datos.Datos('ConjuntosDatosP2/pima-indians-diabetes.data')\n",
    "validacionSimple = EstrategiaParticionado.ValidacionSimple(0.5, 1)\n",
    "particiones = validacionSimple.creaParticiones(dataset.datos)\n",
    "errores58, std_errores = clasificador.validacion(validacionSimple, dataset, clasificador, seed=None)\n",
    "print(\"Media errores K = 5, distancia Euclídea, datos sin normalizar: \", errores58)"
   ]
  },
  {
   "cell_type": "code",
   "execution_count": 41,
   "metadata": {},
   "outputs": [
    {
     "name": "stdout",
     "output_type": "stream",
     "text": [
      "Media errores K = 11, distancia Euclídea, datos sin normalizar:  0.25848563968668403\n"
     ]
    }
   ],
   "source": [
    "clasificador = Clasificador.ClasificadorVecinosProximos(K = 11, distancia = \"Euclidea\", normalizado = False)\n",
    "dataset = Datos.Datos('ConjuntosDatosP2/pima-indians-diabetes.data')\n",
    "validacionSimple = EstrategiaParticionado.ValidacionSimple(0.5, 1)\n",
    "particiones = validacionSimple.creaParticiones(dataset.datos)\n",
    "errores59, std_errores = clasificador.validacion(validacionSimple, dataset, clasificador, seed=None)\n",
    "print(\"Media errores K = 11, distancia Euclídea, datos sin normalizar: \", errores59)"
   ]
  },
  {
   "cell_type": "code",
   "execution_count": 42,
   "metadata": {},
   "outputs": [
    {
     "name": "stdout",
     "output_type": "stream",
     "text": [
      "Media errores K = 21, distancia Euclídea, datos sin normalizar:  0.27154046997389036\n"
     ]
    }
   ],
   "source": [
    "clasificador = Clasificador.ClasificadorVecinosProximos(K = 21, distancia = \"Euclidea\", normalizado = False)\n",
    "dataset = Datos.Datos('ConjuntosDatosP2/pima-indians-diabetes.data')\n",
    "validacionSimple = EstrategiaParticionado.ValidacionSimple(0.5, 1)\n",
    "particiones = validacionSimple.creaParticiones(dataset.datos)\n",
    "errores60, std_errores = clasificador.validacion(validacionSimple, dataset, clasificador, seed=None)\n",
    "print(\"Media errores K = 21, distancia Euclídea, datos sin normalizar: \", errores60)"
   ]
  },
  {
   "cell_type": "markdown",
   "metadata": {},
   "source": [
    "##### Distancia de Manhattan"
   ]
  },
  {
   "cell_type": "code",
   "execution_count": 43,
   "metadata": {},
   "outputs": [
    {
     "name": "stdout",
     "output_type": "stream",
     "text": [
      "Media errores K = 1, distancia de Manhattan, datos sin normalizar:  0.2976501305483029\n"
     ]
    }
   ],
   "source": [
    "clasificador = Clasificador.ClasificadorVecinosProximos(K = 1, distancia = \"Manhattan\", normalizado = False)\n",
    "dataset = Datos.Datos('ConjuntosDatosP2/pima-indians-diabetes.data')\n",
    "validacionSimple = EstrategiaParticionado.ValidacionSimple(0.5, 1)\n",
    "particiones = validacionSimple.creaParticiones(dataset.datos)\n",
    "errores61, std_errores = clasificador.validacion(validacionSimple, dataset, clasificador, seed=None)\n",
    "print(\"Media errores K = 1, distancia de Manhattan, datos sin normalizar: \", errores61)"
   ]
  },
  {
   "cell_type": "code",
   "execution_count": 44,
   "metadata": {},
   "outputs": [
    {
     "name": "stdout",
     "output_type": "stream",
     "text": [
      "Media errores K = 5, distancia de Manhattan, datos sin normalizar:  0.2898172323759791\n"
     ]
    }
   ],
   "source": [
    "clasificador = Clasificador.ClasificadorVecinosProximos(K = 5, distancia = \"Manhattan\", normalizado = False)\n",
    "dataset = Datos.Datos('ConjuntosDatosP2/pima-indians-diabetes.data')\n",
    "validacionSimple = EstrategiaParticionado.ValidacionSimple(0.5, 1)\n",
    "particiones = validacionSimple.creaParticiones(dataset.datos)\n",
    "errores62, std_errores = clasificador.validacion(validacionSimple, dataset, clasificador, seed=None)\n",
    "print(\"Media errores K = 5, distancia de Manhattan, datos sin normalizar: \", errores62)"
   ]
  },
  {
   "cell_type": "code",
   "execution_count": 45,
   "metadata": {},
   "outputs": [
    {
     "name": "stdout",
     "output_type": "stream",
     "text": [
      "Media errores K = 11, distancia de Manhattan, datos sin normalizar:  0.2610966057441253\n"
     ]
    }
   ],
   "source": [
    "clasificador = Clasificador.ClasificadorVecinosProximos(K = 11, distancia = \"Manhattan\", normalizado = False)\n",
    "dataset = Datos.Datos('ConjuntosDatosP2/pima-indians-diabetes.data')\n",
    "validacionSimple = EstrategiaParticionado.ValidacionSimple(0.5, 1)\n",
    "particiones = validacionSimple.creaParticiones(dataset.datos)\n",
    "errores63, std_errores = clasificador.validacion(validacionSimple, dataset, clasificador, seed=None)\n",
    "print(\"Media errores K = 11, distancia de Manhattan, datos sin normalizar: \", errores63)"
   ]
  },
  {
   "cell_type": "code",
   "execution_count": 46,
   "metadata": {},
   "outputs": [
    {
     "name": "stdout",
     "output_type": "stream",
     "text": [
      "Media errores K = 21, distancia de Manhattan, datos sin normalizar:  0.24281984334203655\n"
     ]
    }
   ],
   "source": [
    "clasificador = Clasificador.ClasificadorVecinosProximos(K = 21, distancia = \"Manhattan\", normalizado = False)\n",
    "dataset = Datos.Datos('ConjuntosDatosP2/pima-indians-diabetes.data')\n",
    "validacionSimple = EstrategiaParticionado.ValidacionSimple(0.5, 1)\n",
    "particiones = validacionSimple.creaParticiones(dataset.datos)\n",
    "errores64, std_errores = clasificador.validacion(validacionSimple, dataset, clasificador, seed=None)\n",
    "print(\"Media errores K = 21, distancia de Manhattan, datos sin normalizar: \", errores64)"
   ]
  },
  {
   "cell_type": "markdown",
   "metadata": {},
   "source": [
    "## Tablas para comparar"
   ]
  },
  {
   "cell_type": "code",
   "execution_count": 48,
   "metadata": {},
   "outputs": [
    {
     "name": "stdout",
     "output_type": "stream",
     "text": [
      "Tablas wdbc.data para VALIDACION SIMPLE\n",
      "\n",
      " K  Distancia Normalizado Media Error\n",
      "--- --------- ----------- -----------\n",
      "  1  Euclídea          Sí       0.042\n",
      "  5  Euclídea          Sí       0.064\n",
      " 11  Euclídea          Sí       0.035\n",
      " 21  Euclídea          Sí       0.067\n",
      "\n",
      "\n",
      " K  Distancia Normalizado Media Error\n",
      "--- --------- ----------- -----------\n",
      "  1 Manhattan          Sí       0.081\n",
      "  5 Manhattan          Sí       0.057\n",
      " 11 Manhattan          Sí       0.028\n",
      " 21 Manhattan          Sí       0.042\n",
      "\n",
      "\n",
      " K  Distancia Normalizado Media Error\n",
      "--- --------- ----------- -----------\n",
      "  1  Euclídea          No       0.095\n",
      "  5  Euclídea          No        0.06\n",
      " 11  Euclídea          No       0.067\n",
      " 21  Euclídea          No       0.088\n",
      "\n",
      "\n",
      " K  Distancia Normalizado Media Error\n",
      "--- --------- ----------- -----------\n",
      "  1 Manhattan          No       0.085\n",
      "  5 Manhattan          No       0.081\n",
      " 11 Manhattan          No       0.053\n",
      " 21 Manhattan          No       0.071\n",
      "\n",
      "\n"
     ]
    }
   ],
   "source": [
    "a = [1, 5, 11, 21]\n",
    "b = [\"Euclídea\", \"Euclídea\", \"Euclídea\", \"Euclídea\"]\n",
    "c = [\"Sí\", \"Sí\", \"Sí\", \"Sí\"]\n",
    "d = [round(errores33, 3), round(errores34, 3), round(errores35, 3), round(errores36, 3)]\n",
    "t = Table([a, b, c, d], names=('K', 'Distancia', 'Normalizado', 'Media Error'))\n",
    "print(\"Tablas wdbc.data para VALIDACION SIMPLE\\n\")\n",
    "print(t)\n",
    "print(\"\\n\")\n",
    "a = [1, 5, 11, 21]\n",
    "b = [\"Manhattan\", \"Manhattan\", \"Manhattan\", \"Manhattan\"]\n",
    "c = [\"Sí\", \"Sí\", \"Sí\", \"Sí\"]\n",
    "d = [round(errores37, 3), round(errores38, 3), round(errores39, 3), round(errores40, 3)]\n",
    "t = Table([a, b, c, d], names=('K', 'Distancia', 'Normalizado', 'Media Error'))\n",
    "print(t)\n",
    "print(\"\\n\")\n",
    "\n",
    "a = [1, 5, 11, 21]\n",
    "b = [\"Euclídea\", \"Euclídea\", \"Euclídea\", \"Euclídea\"]\n",
    "c = [\"No\", \"No\", \"No\", \"No\"]\n",
    "d = [round(errores41, 3), round(errores42, 3), round(errores43, 3), round(errores44, 3)]\n",
    "t = Table([a, b, c, d], names=('K', 'Distancia', 'Normalizado', 'Media Error'))\n",
    "print(t)\n",
    "print(\"\\n\")\n",
    "a = [1, 5, 11, 21]\n",
    "b = [\"Manhattan\", \"Manhattan\", \"Manhattan\", \"Manhattan\"]\n",
    "c = [\"No\", \"No\", \"No\", \"No\"]\n",
    "d = [round(errores45, 3), round(errores46, 3), round(errores47, 3), round(errores48, 3)]\n",
    "t = Table([a, b, c, d], names=('K', 'Distancia', 'Normalizado', 'Media Error'))\n",
    "print(t)\n",
    "print(\"\\n\")"
   ]
  },
  {
   "cell_type": "code",
   "execution_count": 47,
   "metadata": {},
   "outputs": [
    {
     "name": "stdout",
     "output_type": "stream",
     "text": [
      "Tablas pima-indians-diabetes.data para VALIDACION SIMPLE\n",
      "\n",
      " K  Distancia Normalizado Media Error\n",
      "--- --------- ----------- -----------\n",
      "  1  Euclídea          Sí       0.326\n",
      "  5  Euclídea          Sí       0.366\n",
      " 11  Euclídea          Sí        0.36\n",
      " 21  Euclídea          Sí       0.347\n",
      "\n",
      "\n",
      " K  Distancia Normalizado Media Error\n",
      "--- --------- ----------- -----------\n",
      "  1 Manhattan          Sí       0.332\n",
      "  5 Manhattan          Sí       0.308\n",
      " 11 Manhattan          Sí       0.329\n",
      " 21 Manhattan          Sí       0.313\n",
      "\n",
      "\n",
      " K  Distancia Normalizado Media Error\n",
      "--- --------- ----------- -----------\n",
      "  1  Euclídea          No       0.329\n",
      "  5  Euclídea          No         0.3\n",
      " 11  Euclídea          No       0.258\n",
      " 21  Euclídea          No       0.272\n",
      "\n",
      "\n",
      " K  Distancia Normalizado Media Error\n",
      "--- --------- ----------- -----------\n",
      "  1 Manhattan          No       0.298\n",
      "  5 Manhattan          No        0.29\n",
      " 11 Manhattan          No       0.261\n",
      " 21 Manhattan          No       0.243\n",
      "\n",
      "\n"
     ]
    }
   ],
   "source": [
    "a = [1, 5, 11, 21]\n",
    "b = [\"Euclídea\", \"Euclídea\", \"Euclídea\", \"Euclídea\"]\n",
    "c = [\"Sí\", \"Sí\", \"Sí\", \"Sí\"]\n",
    "d = [round(errores49, 3), round(errores50, 3), round(errores51, 3), round(errores52, 3)]\n",
    "t = Table([a, b, c, d], names=('K', 'Distancia', 'Normalizado', 'Media Error'))\n",
    "print(\"Tablas pima-indians-diabetes.data para VALIDACION SIMPLE\\n\")\n",
    "print(t)\n",
    "print(\"\\n\")\n",
    "a = [1, 5, 11, 21]\n",
    "b = [\"Manhattan\", \"Manhattan\", \"Manhattan\", \"Manhattan\"]\n",
    "c = [\"Sí\", \"Sí\", \"Sí\", \"Sí\"]\n",
    "d = [round(errores53, 3), round(errores54, 3), round(errores55, 3), round(errores56, 3)]\n",
    "t = Table([a, b, c, d], names=('K', 'Distancia', 'Normalizado', 'Media Error'))\n",
    "print(t)\n",
    "print(\"\\n\")\n",
    "\n",
    "a = [1, 5, 11, 21]\n",
    "b = [\"Euclídea\", \"Euclídea\", \"Euclídea\", \"Euclídea\"]\n",
    "c = [\"No\", \"No\", \"No\", \"No\"]\n",
    "d = [round(errores57, 3), round(errores58, 3), round(errores59, 3), round(errores60, 3)]\n",
    "t = Table([a, b, c, d], names=('K', 'Distancia', 'Normalizado', 'Media Error'))\n",
    "print(t)\n",
    "print(\"\\n\")\n",
    "a = [1, 5, 11, 21]\n",
    "b = [\"Manhattan\", \"Manhattan\", \"Manhattan\", \"Manhattan\"]\n",
    "c = [\"No\", \"No\", \"No\", \"No\"]\n",
    "d = [round(errores61, 3), round(errores62, 3), round(errores63, 3), round(errores64, 3)]\n",
    "t = Table([a, b, c, d], names=('K', 'Distancia', 'Normalizado', 'Media Error'))\n",
    "print(t)\n",
    "print(\"\\n\")"
   ]
  },
  {
   "cell_type": "markdown",
   "metadata": {},
   "source": [
    "### Análisis de los resultados"
   ]
  },
  {
   "cell_type": "markdown",
   "metadata": {},
   "source": [
    "Como primera observación, se distingue que la normalización no tiene mucho efecto si los datos tienen tamaños similares entre si, como sucede en el pima-indians-diabetes.data; mientras que en el wdbc.data hay más rango en sus datos, y tras la normalización el error disminuye.\n",
    "Otra diferencia entre los archivos es el error encontrado, que disminuye considerablemente en wdbc.data ***\n",
    "Diferencias entre distintos valores de K: al aumentar su valor el error disminuye ligeramente, sin embargo, si se aumenta demasiado, el error vuelve a empeorar; esto es debido a que está haciendo overfitting al coger un número de vecinos demasiado grande y provocar más errores.\n",
    "En cuanto a distancias: en el fichero wdbc.data la distancia de Manhattan resulta mejor. En el pima-indians-diabetes.data, la diferencia no está tan clara."
   ]
  },
  {
   "cell_type": "markdown",
   "metadata": {},
   "source": [
    "## Apartado 2: Regresión Logística"
   ]
  },
  {
   "cell_type": "markdown",
   "metadata": {},
   "source": [
    "### Regresión Logística: pima-indians-diabetes con Validación Cruzada"
   ]
  },
  {
   "cell_type": "code",
   "execution_count": 115,
   "metadata": {},
   "outputs": [
    {
     "name": "stderr",
     "output_type": "stream",
     "text": [
      "/home/mario/Documents/4º/faa/p2/Clasificador.py:319: RuntimeWarning: overflow encountered in exp\n",
      "  sig = 1 / (1 + np.exp(- prodEscalar))\n"
     ]
    },
    {
     "name": "stdout",
     "output_type": "stream",
     "text": [
      "Media errores k aprendizaje = 0.1 y pasos = 150:  0.32460732984293195\n"
     ]
    }
   ],
   "source": [
    "clasificador = Clasificador.ClasificadorRegresionLogistica(0.1, 150, None)\n",
    "dataset = Datos.Datos('ConjuntosDatosP2/pima-indians-diabetes.data')\n",
    "validacionCruzada = EstrategiaParticionado.ValidacionCruzada(4)\n",
    "particiones = validacionCruzada.creaParticiones(dataset.datos)\n",
    "media_erroresA01P150Pima, std_errores = clasificador.validacion(validacionCruzada, dataset, clasificador, seed=None)\n",
    "print(\"Media errores k aprendizaje = 0.1 y pasos = 150: \", media_erroresA01P150Pima)"
   ]
  },
  {
   "cell_type": "code",
   "execution_count": 116,
   "metadata": {},
   "outputs": [
    {
     "name": "stdout",
     "output_type": "stream",
     "text": [
      "Media errores k aprendizaje = 0.1 y pasos = 100:  0.37041884816753934\n"
     ]
    }
   ],
   "source": [
    "clasificador = Clasificador.ClasificadorRegresionLogistica(0.1, 100, None)\n",
    "dataset = Datos.Datos('ConjuntosDatosP2/pima-indians-diabetes.data')\n",
    "validacionCruzada = EstrategiaParticionado.ValidacionCruzada(4)\n",
    "particiones = validacionCruzada.creaParticiones(dataset.datos)\n",
    "media_erroresA01P100Pima, std_errores = clasificador.validacion(validacionCruzada, dataset, clasificador, seed=None)\n",
    "print(\"Media errores k aprendizaje = 0.1 y pasos = 100: \", media_erroresA01P100Pima)"
   ]
  },
  {
   "cell_type": "code",
   "execution_count": 117,
   "metadata": {},
   "outputs": [
    {
     "name": "stdout",
     "output_type": "stream",
     "text": [
      "Media errores k aprendizaje = 0.1 y pasos = 50:  0.5170157068062827\n"
     ]
    }
   ],
   "source": [
    "clasificador = Clasificador.ClasificadorRegresionLogistica(0.1, 50, None)\n",
    "dataset = Datos.Datos('ConjuntosDatosP2/pima-indians-diabetes.data')\n",
    "validacionCruzada = EstrategiaParticionado.ValidacionCruzada(4)\n",
    "particiones = validacionCruzada.creaParticiones(dataset.datos)\n",
    "media_erroresA01P50Pima, std_errores = clasificador.validacion(validacionCruzada, dataset, clasificador, seed=None)\n",
    "print(\"Media errores k aprendizaje = 0.1 y pasos = 50: \", media_erroresA01P50Pima)"
   ]
  },
  {
   "cell_type": "code",
   "execution_count": 118,
   "metadata": {},
   "outputs": [
    {
     "name": "stdout",
     "output_type": "stream",
     "text": [
      "Media errores k aprendizaje = 0.01 y pasos = 150:  0.43717277486911\n"
     ]
    }
   ],
   "source": [
    "clasificador = Clasificador.ClasificadorRegresionLogistica(0.01, 150, None)\n",
    "dataset = Datos.Datos('ConjuntosDatosP2/pima-indians-diabetes.data')\n",
    "validacionCruzada = EstrategiaParticionado.ValidacionCruzada(4)\n",
    "particiones = validacionCruzada.creaParticiones(dataset.datos)\n",
    "media_erroresA001P150Pima, std_errores = clasificador.validacion(validacionCruzada, dataset, clasificador, seed=None)\n",
    "print(\"Media errores k aprendizaje = 0.01 y pasos = 150: \", media_erroresA001P150Pima)"
   ]
  },
  {
   "cell_type": "code",
   "execution_count": 119,
   "metadata": {},
   "outputs": [
    {
     "name": "stdout",
     "output_type": "stream",
     "text": [
      "Media errores k aprendizaje = 0.01 y pasos = 100:  0.36910994764397903\n"
     ]
    }
   ],
   "source": [
    "clasificador = Clasificador.ClasificadorRegresionLogistica(0.01, 100, None)\n",
    "dataset = Datos.Datos('ConjuntosDatosP2/pima-indians-diabetes.data')\n",
    "validacionCruzada = EstrategiaParticionado.ValidacionCruzada(4)\n",
    "particiones = validacionCruzada.creaParticiones(dataset.datos)\n",
    "media_erroresA001P100Pima, std_errores = clasificador.validacion(validacionCruzada, dataset, clasificador, seed=None)\n",
    "print(\"Media errores k aprendizaje = 0.01 y pasos = 100: \", media_erroresA001P100Pima)"
   ]
  },
  {
   "cell_type": "code",
   "execution_count": 120,
   "metadata": {},
   "outputs": [
    {
     "name": "stdout",
     "output_type": "stream",
     "text": [
      "Media errores k aprendizaje = 0.01 y pasos = 50:  0.45811518324607325\n"
     ]
    }
   ],
   "source": [
    "clasificador = Clasificador.ClasificadorRegresionLogistica(0.01, 50, None)\n",
    "dataset = Datos.Datos('ConjuntosDatosP2/pima-indians-diabetes.data')\n",
    "validacionCruzada = EstrategiaParticionado.ValidacionCruzada(4)\n",
    "particiones = validacionCruzada.creaParticiones(dataset.datos)\n",
    "media_erroresA001P50Pima, std_errores = clasificador.validacion(validacionCruzada, dataset, clasificador, seed=None)\n",
    "print(\"Media errores k aprendizaje = 0.01 y pasos = 50: \", media_erroresA001P50Pima)"
   ]
  },
  {
   "cell_type": "code",
   "execution_count": 121,
   "metadata": {},
   "outputs": [
    {
     "name": "stdout",
     "output_type": "stream",
     "text": [
      "Media errores k aprendizaje = 1 y pasos = 150:  0.47513089005235604\n"
     ]
    }
   ],
   "source": [
    "clasificador = Clasificador.ClasificadorRegresionLogistica(1, 150, None)\n",
    "dataset = Datos.Datos('ConjuntosDatosP2/pima-indians-diabetes.data')\n",
    "validacionCruzada = EstrategiaParticionado.ValidacionCruzada(4)\n",
    "particiones = validacionCruzada.creaParticiones(dataset.datos)\n",
    "media_erroresA1P150Pima, std_errores = clasificador.validacion(validacionCruzada, dataset, clasificador, seed=None)\n",
    "print(\"Media errores k aprendizaje = 1 y pasos = 150: \", media_erroresA1P150Pima)"
   ]
  },
  {
   "cell_type": "code",
   "execution_count": 122,
   "metadata": {},
   "outputs": [
    {
     "name": "stdout",
     "output_type": "stream",
     "text": [
      "Media errores k aprendizaje = 1 y pasos = 100:  0.4921465968586388\n"
     ]
    }
   ],
   "source": [
    "clasificador = Clasificador.ClasificadorRegresionLogistica(1, 100, None)\n",
    "dataset = Datos.Datos('ConjuntosDatosP2/pima-indians-diabetes.data')\n",
    "validacionCruzada = EstrategiaParticionado.ValidacionCruzada(4)\n",
    "particiones = validacionCruzada.creaParticiones(dataset.datos)\n",
    "media_erroresA1P100Pima, std_errores = clasificador.validacion(validacionCruzada, dataset, clasificador, seed=None)\n",
    "print(\"Media errores k aprendizaje = 1 y pasos = 100: \", media_erroresA1P100Pima)"
   ]
  },
  {
   "cell_type": "code",
   "execution_count": 123,
   "metadata": {},
   "outputs": [
    {
     "name": "stdout",
     "output_type": "stream",
     "text": [
      "Media errores k aprendizaje = 1 y pasos = 50:  0.4921465968586387\n"
     ]
    }
   ],
   "source": [
    "clasificador = Clasificador.ClasificadorRegresionLogistica(1, 50, None)\n",
    "dataset = Datos.Datos('ConjuntosDatosP2/pima-indians-diabetes.data')\n",
    "validacionCruzada = EstrategiaParticionado.ValidacionCruzada(4)\n",
    "particiones = validacionCruzada.creaParticiones(dataset.datos)\n",
    "media_erroresA1P50Pima, std_errores = clasificador.validacion(validacionCruzada, dataset, clasificador, seed=None)\n",
    "print(\"Media errores k aprendizaje = 1 y pasos = 50: \", media_erroresA1P50Pima)"
   ]
  },
  {
   "cell_type": "markdown",
   "metadata": {},
   "source": [
    "### Regresión Logistica: wdbc.data con Validación Cruzada"
   ]
  },
  {
   "cell_type": "code",
   "execution_count": 124,
   "metadata": {},
   "outputs": [
    {
     "name": "stdout",
     "output_type": "stream",
     "text": [
      "Media errores k aprendizaje = 0.1 y pasos = 150:  0.1223404255319149\n"
     ]
    }
   ],
   "source": [
    "clasificador = Clasificador.ClasificadorRegresionLogistica(0.1, 150, None)\n",
    "dataset = Datos.Datos('ConjuntosDatosP2/wdbc.data')\n",
    "validacionCruzada = EstrategiaParticionado.ValidacionCruzada(4)\n",
    "particiones = validacionCruzada.creaParticiones(dataset.datos)\n",
    "media_erroresA01P150wdbc, std_errores = clasificador.validacion(validacionCruzada, dataset, clasificador, seed=None)\n",
    "print(\"Media errores k aprendizaje = 0.1 y pasos = 150: \", media_erroresA01P150wdbc)"
   ]
  },
  {
   "cell_type": "code",
   "execution_count": 125,
   "metadata": {},
   "outputs": [
    {
     "name": "stdout",
     "output_type": "stream",
     "text": [
      "Media errores k aprendizaje = 0.1 y pasos = 100:  0.10992907801418442\n"
     ]
    }
   ],
   "source": [
    "clasificador = Clasificador.ClasificadorRegresionLogistica(0.1, 100, None)\n",
    "dataset = Datos.Datos('ConjuntosDatosP2/wdbc.data')\n",
    "validacionCruzada = EstrategiaParticionado.ValidacionCruzada(4)\n",
    "particiones = validacionCruzada.creaParticiones(dataset.datos)\n",
    "media_erroresA01P100wdbc, std_errores = clasificador.validacion(validacionCruzada, dataset, clasificador, seed=None)\n",
    "print(\"Media errores k aprendizaje = 0.1 y pasos = 100: \", media_erroresA01P100wdbc)"
   ]
  },
  {
   "cell_type": "code",
   "execution_count": 126,
   "metadata": {},
   "outputs": [
    {
     "name": "stdout",
     "output_type": "stream",
     "text": [
      "Media errores k aprendizaje = 0.1 y pasos = 50:  0.17375886524822698\n"
     ]
    }
   ],
   "source": [
    "clasificador = Clasificador.ClasificadorRegresionLogistica(0.1, 50, None)\n",
    "dataset = Datos.Datos('ConjuntosDatosP2/wdbc.data')\n",
    "validacionCruzada = EstrategiaParticionado.ValidacionCruzada(4)\n",
    "particiones = validacionCruzada.creaParticiones(dataset.datos)\n",
    "media_erroresA01P50wdbc, std_errores = clasificador.validacion(validacionCruzada, dataset, clasificador, seed=None)\n",
    "print(\"Media errores k aprendizaje = 0.1 y pasos = 50: \", media_erroresA01P50wdbc)"
   ]
  },
  {
   "cell_type": "code",
   "execution_count": 127,
   "metadata": {},
   "outputs": [
    {
     "name": "stdout",
     "output_type": "stream",
     "text": [
      "Media errores k aprendizaje = 0.01 y pasos = 150:  0.1223404255319149\n"
     ]
    }
   ],
   "source": [
    "clasificador = Clasificador.ClasificadorRegresionLogistica(0.01, 150, None)\n",
    "dataset = Datos.Datos('ConjuntosDatosP2/wdbc.data')\n",
    "validacionCruzada = EstrategiaParticionado.ValidacionCruzada(4)\n",
    "particiones = validacionCruzada.creaParticiones(dataset.datos)\n",
    "media_erroresA001P150wdbc, std_errores = clasificador.validacion(validacionCruzada, dataset, clasificador, seed=None)\n",
    "print(\"Media errores k aprendizaje = 0.01 y pasos = 150: \", media_erroresA01P150wdbc)"
   ]
  },
  {
   "cell_type": "code",
   "execution_count": 128,
   "metadata": {},
   "outputs": [
    {
     "name": "stdout",
     "output_type": "stream",
     "text": [
      "Media errores k aprendizaje = 0.01 y pasos = 100:  0.10992907801418442\n"
     ]
    }
   ],
   "source": [
    "clasificador = Clasificador.ClasificadorRegresionLogistica(0.01, 100, None)\n",
    "dataset = Datos.Datos('ConjuntosDatosP2/wdbc.data')\n",
    "validacionCruzada = EstrategiaParticionado.ValidacionCruzada(4)\n",
    "particiones = validacionCruzada.creaParticiones(dataset.datos)\n",
    "media_erroresA001P100wdbc, std_errores = clasificador.validacion(validacionCruzada, dataset, clasificador, seed=None)\n",
    "print(\"Media errores k aprendizaje = 0.01 y pasos = 100: \", media_erroresA01P100wdbc)"
   ]
  },
  {
   "cell_type": "code",
   "execution_count": 129,
   "metadata": {},
   "outputs": [
    {
     "name": "stdout",
     "output_type": "stream",
     "text": [
      "Media errores k aprendizaje = 0.01 y pasos = 50:  0.1276595744680851\n"
     ]
    }
   ],
   "source": [
    "clasificador = Clasificador.ClasificadorRegresionLogistica(0.01, 50, None)\n",
    "dataset = Datos.Datos('ConjuntosDatosP2/wdbc.data')\n",
    "validacionCruzada = EstrategiaParticionado.ValidacionCruzada(4)\n",
    "particiones = validacionCruzada.creaParticiones(dataset.datos)\n",
    "media_erroresA001P50wdbc, std_errores = clasificador.validacion(validacionCruzada, dataset, clasificador, seed=None)\n",
    "print(\"Media errores k aprendizaje = 0.01 y pasos = 50: \", media_erroresA001P50wdbc)"
   ]
  },
  {
   "cell_type": "code",
   "execution_count": 130,
   "metadata": {},
   "outputs": [
    {
     "name": "stdout",
     "output_type": "stream",
     "text": [
      "Media errores k aprendizaje = 1 y pasos = 150:  0.13297872340425534\n"
     ]
    }
   ],
   "source": [
    "clasificador = Clasificador.ClasificadorRegresionLogistica(1, 150, None)\n",
    "dataset = Datos.Datos('ConjuntosDatosP2/wdbc.data')\n",
    "validacionCruzada = EstrategiaParticionado.ValidacionCruzada(4)\n",
    "particiones = validacionCruzada.creaParticiones(dataset.datos)\n",
    "media_erroresA1P150wdbc, std_errores = clasificador.validacion(validacionCruzada, dataset, clasificador, seed=None)\n",
    "print(\"Media errores k aprendizaje = 1 y pasos = 150: \", media_erroresA1P150wdbc)"
   ]
  },
  {
   "cell_type": "code",
   "execution_count": 131,
   "metadata": {},
   "outputs": [
    {
     "name": "stdout",
     "output_type": "stream",
     "text": [
      "Media errores k aprendizaje = 1 y pasos = 100:  0.13297872340425532\n"
     ]
    }
   ],
   "source": [
    "clasificador = Clasificador.ClasificadorRegresionLogistica(1, 100, None)\n",
    "dataset = Datos.Datos('ConjuntosDatosP2/wdbc.data')\n",
    "validacionCruzada = EstrategiaParticionado.ValidacionCruzada(4)\n",
    "particiones = validacionCruzada.creaParticiones(dataset.datos)\n",
    "media_erroresA1P100wdbc, std_errores = clasificador.validacion(validacionCruzada, dataset, clasificador, seed=None)\n",
    "print(\"Media errores k aprendizaje = 1 y pasos = 100: \", media_erroresA1P100wdbc)"
   ]
  },
  {
   "cell_type": "code",
   "execution_count": 132,
   "metadata": {},
   "outputs": [
    {
     "name": "stdout",
     "output_type": "stream",
     "text": [
      "Media errores k aprendizaje = 1 y pasos = 50:  0.09397163120567376\n"
     ]
    }
   ],
   "source": [
    "clasificador = Clasificador.ClasificadorRegresionLogistica(1, 50, None)\n",
    "dataset = Datos.Datos('ConjuntosDatosP2/wdbc.data')\n",
    "validacionCruzada = EstrategiaParticionado.ValidacionCruzada(4)\n",
    "particiones = validacionCruzada.creaParticiones(dataset.datos)\n",
    "media_erroresA1P50wdbc, std_errores = clasificador.validacion(validacionCruzada, dataset, clasificador, seed=None)\n",
    "print(\"Media errores k aprendizaje = 1 y pasos = 50: \", media_erroresA1P50wdbc)"
   ]
  },
  {
   "cell_type": "markdown",
   "metadata": {},
   "source": [
    "### Regresión Logística: pima-indians-diabetes.data con Validación Simple"
   ]
  },
  {
   "cell_type": "code",
   "execution_count": 49,
   "metadata": {},
   "outputs": [
    {
     "name": "stderr",
     "output_type": "stream",
     "text": [
      "/home/juan/Documentos/Ingeniería Informática/4º año/FAA/PRÁCTICAS/PRACTICA2/Clasificador.py:319: RuntimeWarning: overflow encountered in exp\n",
      "  sig = 1 / (1 + np.exp(- prodEscalar))\n"
     ]
    },
    {
     "name": "stdout",
     "output_type": "stream",
     "text": [
      "Media errores k aprendizaje = 0.1 y pasos = 150:  0.3263707571801566\n"
     ]
    }
   ],
   "source": [
    "clasificador = Clasificador.ClasificadorRegresionLogistica(0.1, 150, None)\n",
    "dataset = Datos.Datos('ConjuntosDatosP2/pima-indians-diabetes.data')\n",
    "validacionSimple = EstrategiaParticionado.ValidacionSimple(0.5, 1)\n",
    "particiones = validacionSimple.creaParticiones(dataset.datos)\n",
    "media_erroresA01P150PimaVS, std_errores = clasificador.validacion(validacionSimple, dataset, clasificador, seed=None)\n",
    "print(\"Media errores k aprendizaje = 0.1 y pasos = 150: \", media_erroresA01P150PimaVS)"
   ]
  },
  {
   "cell_type": "code",
   "execution_count": 50,
   "metadata": {},
   "outputs": [
    {
     "name": "stdout",
     "output_type": "stream",
     "text": [
      "Media errores k aprendizaje = 0.1 y pasos = 100:  0.47519582245430814\n"
     ]
    }
   ],
   "source": [
    "clasificador = Clasificador.ClasificadorRegresionLogistica(0.1, 100, None)\n",
    "dataset = Datos.Datos('ConjuntosDatosP2/pima-indians-diabetes.data')\n",
    "validacionSimple = EstrategiaParticionado.ValidacionSimple(0.5, 1)\n",
    "particiones = validacionSimple.creaParticiones(dataset.datos)\n",
    "media_erroresA01P100PimaVS, std_errores = clasificador.validacion(validacionSimple, dataset, clasificador, seed=None)\n",
    "print(\"Media errores k aprendizaje = 0.1 y pasos = 100: \", media_erroresA01P100PimaVS)"
   ]
  },
  {
   "cell_type": "code",
   "execution_count": 51,
   "metadata": {},
   "outputs": [
    {
     "name": "stdout",
     "output_type": "stream",
     "text": [
      "Media errores k aprendizaje = 0.1 y pasos = 50:  0.36292428198433424\n"
     ]
    }
   ],
   "source": [
    "clasificador = Clasificador.ClasificadorRegresionLogistica(0.1, 50, None)\n",
    "dataset = Datos.Datos('ConjuntosDatosP2/pima-indians-diabetes.data')\n",
    "validacionSimple = EstrategiaParticionado.ValidacionSimple(0.5, 1)\n",
    "particiones = validacionSimple.creaParticiones(dataset.datos)\n",
    "media_erroresA01P50PimaVS, std_errores = clasificador.validacion(validacionSimple, dataset, clasificador, seed=None)\n",
    "print(\"Media errores k aprendizaje = 0.1 y pasos = 50: \", media_erroresA01P50PimaVS)"
   ]
  },
  {
   "cell_type": "code",
   "execution_count": 54,
   "metadata": {},
   "outputs": [
    {
     "name": "stdout",
     "output_type": "stream",
     "text": [
      "Media errores k aprendizaje = 0.1 y pasos = 150:  0.3655352480417755\n"
     ]
    }
   ],
   "source": [
    "clasificador = Clasificador.ClasificadorRegresionLogistica(0.1, 150, None)\n",
    "dataset = Datos.Datos('ConjuntosDatosP2/pima-indians-diabetes.data')\n",
    "validacionSimple = EstrategiaParticionado.ValidacionSimple(0.5, 1)\n",
    "particiones = validacionSimple.creaParticiones(dataset.datos)\n",
    "media_erroresA01P150PimaVS, std_errores = clasificador.validacion(validacionSimple, dataset, clasificador, seed=None)\n",
    "print(\"Media errores k aprendizaje = 0.1 y pasos = 150: \", media_erroresA01P150PimaVS)"
   ]
  },
  {
   "cell_type": "code",
   "execution_count": 55,
   "metadata": {},
   "outputs": [
    {
     "name": "stdout",
     "output_type": "stream",
     "text": [
      "Media errores k aprendizaje = 0.01 y pasos = 150:  0.32375979112271536\n"
     ]
    }
   ],
   "source": [
    "clasificador = Clasificador.ClasificadorRegresionLogistica(0.01, 150, None)\n",
    "dataset = Datos.Datos('ConjuntosDatosP2/pima-indians-diabetes.data')\n",
    "validacionSimple = EstrategiaParticionado.ValidacionSimple(0.5, 1)\n",
    "particiones = validacionSimple.creaParticiones(dataset.datos)\n",
    "media_erroresA001P150PimaVS, std_errores = clasificador.validacion(validacionSimple, dataset, clasificador, seed=None)\n",
    "print(\"Media errores k aprendizaje = 0.01 y pasos = 150: \", media_erroresA001P150PimaVS)"
   ]
  },
  {
   "cell_type": "code",
   "execution_count": 56,
   "metadata": {},
   "outputs": [
    {
     "name": "stdout",
     "output_type": "stream",
     "text": [
      "Media errores k aprendizaje = 0.01 y pasos = 100:  0.3577023498694517\n"
     ]
    }
   ],
   "source": [
    "clasificador = Clasificador.ClasificadorRegresionLogistica(0.01, 100, None)\n",
    "dataset = Datos.Datos('ConjuntosDatosP2/pima-indians-diabetes.data')\n",
    "validacionSimple = EstrategiaParticionado.ValidacionSimple(0.5, 1)\n",
    "particiones = validacionSimple.creaParticiones(dataset.datos)\n",
    "media_erroresA001P100PimaVS, std_errores = clasificador.validacion(validacionSimple, dataset, clasificador, seed=None)\n",
    "print(\"Media errores k aprendizaje = 0.01 y pasos = 100: \", media_erroresA001P100PimaVS)"
   ]
  },
  {
   "cell_type": "code",
   "execution_count": 58,
   "metadata": {},
   "outputs": [
    {
     "name": "stdout",
     "output_type": "stream",
     "text": [
      "Media errores k aprendizaje = 0.01 y pasos = 50:  0.48825065274151436\n"
     ]
    }
   ],
   "source": [
    "clasificador = Clasificador.ClasificadorRegresionLogistica(0.01, 50, None)\n",
    "dataset = Datos.Datos('ConjuntosDatosP2/pima-indians-diabetes.data')\n",
    "validacionSimple = EstrategiaParticionado.ValidacionSimple(0.5, 1)\n",
    "particiones = validacionSimple.creaParticiones(dataset.datos)\n",
    "media_erroresA001P50PimaVS, std_errores = clasificador.validacion(validacionSimple, dataset, clasificador, seed=None)\n",
    "print(\"Media errores k aprendizaje = 0.01 y pasos = 50: \", media_erroresA001P50PimaVS)"
   ]
  },
  {
   "cell_type": "code",
   "execution_count": 59,
   "metadata": {},
   "outputs": [
    {
     "name": "stdout",
     "output_type": "stream",
     "text": [
      "Media errores k aprendizaje = 1 y pasos = 150:  0.40731070496083555\n"
     ]
    }
   ],
   "source": [
    "clasificador = Clasificador.ClasificadorRegresionLogistica(1, 150, None)\n",
    "dataset = Datos.Datos('ConjuntosDatosP2/pima-indians-diabetes.data')\n",
    "validacionSimple = EstrategiaParticionado.ValidacionSimple(0.5, 1)\n",
    "particiones = validacionSimple.creaParticiones(dataset.datos)\n",
    "media_erroresA1P150PimaVS, std_errores = clasificador.validacion(validacionSimple, dataset, clasificador, seed=None)\n",
    "print(\"Media errores k aprendizaje = 1 y pasos = 150: \", media_erroresA1P150PimaVS)"
   ]
  },
  {
   "cell_type": "code",
   "execution_count": 60,
   "metadata": {},
   "outputs": [
    {
     "name": "stdout",
     "output_type": "stream",
     "text": [
      "Media errores k aprendizaje = 1 y pasos = 100:  0.3368146214099217\n"
     ]
    }
   ],
   "source": [
    "clasificador = Clasificador.ClasificadorRegresionLogistica(1, 100, None)\n",
    "dataset = Datos.Datos('ConjuntosDatosP2/pima-indians-diabetes.data')\n",
    "validacionSimple = EstrategiaParticionado.ValidacionSimple(0.5, 1)\n",
    "particiones = validacionSimple.creaParticiones(dataset.datos)\n",
    "media_erroresA1P100PimaVS, std_errores = clasificador.validacion(validacionSimple, dataset, clasificador, seed=None)\n",
    "print(\"Media errores k aprendizaje = 1 y pasos = 100: \", media_erroresA1P100PimaVS)"
   ]
  },
  {
   "cell_type": "code",
   "execution_count": 61,
   "metadata": {},
   "outputs": [
    {
     "name": "stdout",
     "output_type": "stream",
     "text": [
      "Media errores k aprendizaje = 1 y pasos = 50:  0.33159268929503916\n"
     ]
    }
   ],
   "source": [
    "clasificador = Clasificador.ClasificadorRegresionLogistica(1, 50, None)\n",
    "dataset = Datos.Datos('ConjuntosDatosP2/pima-indians-diabetes.data')\n",
    "validacionSimple = EstrategiaParticionado.ValidacionSimple(0.5, 1)\n",
    "particiones = validacionSimple.creaParticiones(dataset.datos)\n",
    "media_erroresA1P50PimaVS, std_errores = clasificador.validacion(validacionSimple, dataset, clasificador, seed=None)\n",
    "print(\"Media errores k aprendizaje = 1 y pasos = 50: \", media_erroresA1P50PimaVS)"
   ]
  },
  {
   "cell_type": "markdown",
   "metadata": {},
   "source": [
    "### Regresión Logística: wdbc.data con Validación Simple"
   ]
  },
  {
   "cell_type": "code",
   "execution_count": 62,
   "metadata": {},
   "outputs": [
    {
     "name": "stdout",
     "output_type": "stream",
     "text": [
      "Media errores k aprendizaje = 0.1 y pasos = 150:  0.09893992932862195\n"
     ]
    }
   ],
   "source": [
    "clasificador = Clasificador.ClasificadorRegresionLogistica(0.1, 150, None)\n",
    "dataset = Datos.Datos('ConjuntosDatosP2/wdbc.data')\n",
    "validacionSimple = EstrategiaParticionado.ValidacionSimple(0.5, 1)\n",
    "particiones = validacionSimple.creaParticiones(dataset.datos)\n",
    "media_erroresA01P150wdbcVS, std_errores = clasificador.validacion(validacionSimple, dataset, clasificador, seed=None)\n",
    "print(\"Media errores k aprendizaje = 0.1 y pasos = 150: \", media_erroresA01P150wdbcVS)"
   ]
  },
  {
   "cell_type": "code",
   "execution_count": 66,
   "metadata": {},
   "outputs": [
    {
     "name": "stdout",
     "output_type": "stream",
     "text": [
      "Media errores k aprendizaje = 0.1 y pasos = 100:  0.1024734982332155\n"
     ]
    }
   ],
   "source": [
    "clasificador = Clasificador.ClasificadorRegresionLogistica(0.1, 100, None)\n",
    "dataset = Datos.Datos('ConjuntosDatosP2/wdbc.data')\n",
    "validacionSimple = EstrategiaParticionado.ValidacionSimple(0.5, 1)\n",
    "particiones = validacionSimple.creaParticiones(dataset.datos)\n",
    "media_erroresA01P100wdbcVS, std_errores = clasificador.validacion(validacionSimple, dataset, clasificador, seed=None)\n",
    "print(\"Media errores k aprendizaje = 0.1 y pasos = 100: \", media_erroresA01P100wdbcVS)"
   ]
  },
  {
   "cell_type": "code",
   "execution_count": 68,
   "metadata": {},
   "outputs": [
    {
     "name": "stdout",
     "output_type": "stream",
     "text": [
      "Media errores k aprendizaje = 0.1 y pasos = 50:  0.18374558303886923\n"
     ]
    }
   ],
   "source": [
    "clasificador = Clasificador.ClasificadorRegresionLogistica(0.1, 50, None)\n",
    "dataset = Datos.Datos('ConjuntosDatosP2/wdbc.data')\n",
    "validacionSimple = EstrategiaParticionado.ValidacionSimple(0.5, 1)\n",
    "particiones = validacionSimple.creaParticiones(dataset.datos)\n",
    "media_erroresA01P50wdbcVS, std_errores = clasificador.validacion(validacionSimple, dataset, clasificador, seed=None)\n",
    "print(\"Media errores k aprendizaje = 0.1 y pasos = 50: \", media_erroresA01P50wdbcVS)"
   ]
  },
  {
   "cell_type": "code",
   "execution_count": 69,
   "metadata": {},
   "outputs": [
    {
     "name": "stdout",
     "output_type": "stream",
     "text": [
      "Media errores k aprendizaje = 0.01 y pasos = 150:  0.10600706713780916\n"
     ]
    }
   ],
   "source": [
    "clasificador = Clasificador.ClasificadorRegresionLogistica(0.01, 150, None)\n",
    "dataset = Datos.Datos('ConjuntosDatosP2/wdbc.data')\n",
    "validacionSimple = EstrategiaParticionado.ValidacionSimple(0.5, 1)\n",
    "particiones = validacionSimple.creaParticiones(dataset.datos)\n",
    "media_erroresA001P150wdbcVS, std_errores = clasificador.validacion(validacionSimple, dataset, clasificador, seed=None)\n",
    "print(\"Media errores k aprendizaje = 0.01 y pasos = 150: \", media_erroresA001P150wdbcVS)"
   ]
  },
  {
   "cell_type": "code",
   "execution_count": 70,
   "metadata": {},
   "outputs": [
    {
     "name": "stdout",
     "output_type": "stream",
     "text": [
      "Media errores k aprendizaje = 0.01 y pasos = 100:  0.09893992932862195\n"
     ]
    }
   ],
   "source": [
    "clasificador = Clasificador.ClasificadorRegresionLogistica(0.01, 100, None)\n",
    "dataset = Datos.Datos('ConjuntosDatosP2/wdbc.data')\n",
    "validacionSimple = EstrategiaParticionado.ValidacionSimple(0.5, 1)\n",
    "particiones = validacionSimple.creaParticiones(dataset.datos)\n",
    "media_erroresA001P100wdbcVS, std_errores = clasificador.validacion(validacionSimple, dataset, clasificador, seed=None)\n",
    "print(\"Media errores k aprendizaje = 0.01 y pasos = 100: \", media_erroresA001P100wdbcVS)"
   ]
  },
  {
   "cell_type": "code",
   "execution_count": 71,
   "metadata": {},
   "outputs": [
    {
     "name": "stdout",
     "output_type": "stream",
     "text": [
      "Media errores k aprendizaje = 0.01 y pasos = 50:  0.1024734982332155\n"
     ]
    }
   ],
   "source": [
    "clasificador = Clasificador.ClasificadorRegresionLogistica(0.01, 50, None)\n",
    "dataset = Datos.Datos('ConjuntosDatosP2/wdbc.data')\n",
    "validacionSimple = EstrategiaParticionado.ValidacionSimple(0.5, 1)\n",
    "particiones = validacionSimple.creaParticiones(dataset.datos)\n",
    "media_erroresA001P50wdbcVS, std_errores = clasificador.validacion(validacionSimple, dataset, clasificador, seed=None)\n",
    "print(\"Media errores k aprendizaje = 0.01 y pasos = 50: \", media_erroresA001P50wdbcVS)"
   ]
  },
  {
   "cell_type": "code",
   "execution_count": 72,
   "metadata": {},
   "outputs": [
    {
     "name": "stdout",
     "output_type": "stream",
     "text": [
      "Media errores k aprendizaje = 1 y pasos = 150:  0.0742049469964664\n"
     ]
    }
   ],
   "source": [
    "clasificador = Clasificador.ClasificadorRegresionLogistica(1, 150, None)\n",
    "dataset = Datos.Datos('ConjuntosDatosP2/wdbc.data')\n",
    "validacionSimple = EstrategiaParticionado.ValidacionSimple(0.5, 1)\n",
    "particiones = validacionSimple.creaParticiones(dataset.datos)\n",
    "media_erroresA1P150wdbcVS, std_errores = clasificador.validacion(validacionSimple, dataset, clasificador, seed=None)\n",
    "print(\"Media errores k aprendizaje = 1 y pasos = 150: \", media_erroresA1P150wdbcVS)"
   ]
  },
  {
   "cell_type": "code",
   "execution_count": 73,
   "metadata": {},
   "outputs": [
    {
     "name": "stdout",
     "output_type": "stream",
     "text": [
      "Media errores k aprendizaje = 1 y pasos = 100:  0.07067137809187274\n"
     ]
    }
   ],
   "source": [
    "clasificador = Clasificador.ClasificadorRegresionLogistica(1, 100, None)\n",
    "dataset = Datos.Datos('ConjuntosDatosP2/wdbc.data')\n",
    "validacionSimple = EstrategiaParticionado.ValidacionSimple(0.5, 1)\n",
    "particiones = validacionSimple.creaParticiones(dataset.datos)\n",
    "media_erroresA1P100wdbcVS, std_errores = clasificador.validacion(validacionSimple, dataset, clasificador, seed=None)\n",
    "print(\"Media errores k aprendizaje = 1 y pasos = 100: \", media_erroresA1P100wdbcVS)"
   ]
  },
  {
   "cell_type": "code",
   "execution_count": 75,
   "metadata": {},
   "outputs": [
    {
     "name": "stdout",
     "output_type": "stream",
     "text": [
      "Media errores k aprendizaje = 1 y pasos = 50:  0.13427561837455826\n"
     ]
    }
   ],
   "source": [
    "clasificador = Clasificador.ClasificadorRegresionLogistica(1, 50, None)\n",
    "dataset = Datos.Datos('ConjuntosDatosP2/wdbc.data')\n",
    "validacionSimple = EstrategiaParticionado.ValidacionSimple(0.5, 1)\n",
    "particiones = validacionSimple.creaParticiones(dataset.datos)\n",
    "media_erroresA1P50wdbcVS, std_errores = clasificador.validacion(validacionSimple, dataset, clasificador, seed=None)\n",
    "print(\"Media errores k aprendizaje = 1 y pasos = 50: \", media_erroresA1P50wdbcVS)"
   ]
  },
  {
   "cell_type": "markdown",
   "metadata": {},
   "source": [
    "### Tablas para comparar"
   ]
  },
  {
   "cell_type": "code",
   "execution_count": 133,
   "metadata": {},
   "outputs": [
    {
     "name": "stdout",
     "output_type": "stream",
     "text": [
      "Tabla pima-indians-diabetes.data\n",
      "K Aprendizaje 50 Pasos  100 Pasos 150 pasos\n",
      "------------- -------- ---------- ---------\n",
      "         0.01    0.458      0.369     0.437\n",
      "          0.1    0.517       0.37     0.325\n",
      "          1.0    0.492      0.492     0.475\n"
     ]
    }
   ],
   "source": [
    "print(\"Tabla pima-indians-diabetes.data VALIDACION CRUZADA\")\n",
    "a = [0.01, 0.1, 1]\n",
    "b = [round(media_erroresA001P50Pima, 3), round(media_erroresA01P50Pima, 3), round(media_erroresA1P50Pima, 3)]\n",
    "c = [round(media_erroresA001P100Pima, 3), round(media_erroresA01P100Pima, 3), round(media_erroresA1P100Pima, 3)]\n",
    "d = [round(media_erroresA001P150Pima, 3), round(media_erroresA01P150Pima, 3), round(media_erroresA1P150Pima, 3)]\n",
    "t = Table([a, b, c, d], names=('K Aprendizaje', '50 Pasos', ' 100 Pasos', '150 pasos'))\n",
    "print(t)"
   ]
  },
  {
   "cell_type": "code",
   "execution_count": 77,
   "metadata": {},
   "outputs": [
    {
     "name": "stdout",
     "output_type": "stream",
     "text": [
      "Tabla wdbc.data VALIDACION CRUZADA\n"
     ]
    },
    {
     "ename": "NameError",
     "evalue": "name 'media_erroresA001P50wdbc' is not defined",
     "output_type": "error",
     "traceback": [
      "\u001b[0;31m---------------------------------------------------------------------------\u001b[0m",
      "\u001b[0;31mNameError\u001b[0m                                 Traceback (most recent call last)",
      "\u001b[0;32m<ipython-input-77-9708f8e926a0>\u001b[0m in \u001b[0;36m<module>\u001b[0;34m\u001b[0m\n\u001b[1;32m      1\u001b[0m \u001b[0mprint\u001b[0m\u001b[0;34m(\u001b[0m\u001b[0;34m\"Tabla wdbc.data VALIDACION CRUZADA\"\u001b[0m\u001b[0;34m)\u001b[0m\u001b[0;34m\u001b[0m\u001b[0;34m\u001b[0m\u001b[0m\n\u001b[1;32m      2\u001b[0m \u001b[0ma\u001b[0m \u001b[0;34m=\u001b[0m \u001b[0;34m[\u001b[0m\u001b[0;36m0.01\u001b[0m\u001b[0;34m,\u001b[0m \u001b[0;36m0.1\u001b[0m\u001b[0;34m,\u001b[0m \u001b[0;36m1\u001b[0m\u001b[0;34m]\u001b[0m\u001b[0;34m\u001b[0m\u001b[0;34m\u001b[0m\u001b[0m\n\u001b[0;32m----> 3\u001b[0;31m \u001b[0mb\u001b[0m \u001b[0;34m=\u001b[0m \u001b[0;34m[\u001b[0m\u001b[0mround\u001b[0m\u001b[0;34m(\u001b[0m\u001b[0mmedia_erroresA001P50wdbc\u001b[0m\u001b[0;34m,\u001b[0m \u001b[0;36m3\u001b[0m\u001b[0;34m)\u001b[0m\u001b[0;34m,\u001b[0m \u001b[0mround\u001b[0m\u001b[0;34m(\u001b[0m\u001b[0mmedia_erroresA01P50wdbc\u001b[0m\u001b[0;34m,\u001b[0m \u001b[0;36m3\u001b[0m\u001b[0;34m)\u001b[0m\u001b[0;34m,\u001b[0m \u001b[0mround\u001b[0m\u001b[0;34m(\u001b[0m\u001b[0mmedia_erroresA1P50wdbc\u001b[0m\u001b[0;34m,\u001b[0m \u001b[0;36m3\u001b[0m\u001b[0;34m)\u001b[0m\u001b[0;34m]\u001b[0m\u001b[0;34m\u001b[0m\u001b[0;34m\u001b[0m\u001b[0m\n\u001b[0m\u001b[1;32m      4\u001b[0m \u001b[0mc\u001b[0m \u001b[0;34m=\u001b[0m \u001b[0;34m[\u001b[0m\u001b[0mround\u001b[0m\u001b[0;34m(\u001b[0m\u001b[0mmedia_erroresA001P100wdbc\u001b[0m\u001b[0;34m,\u001b[0m \u001b[0;36m3\u001b[0m\u001b[0;34m)\u001b[0m\u001b[0;34m,\u001b[0m \u001b[0mround\u001b[0m\u001b[0;34m(\u001b[0m\u001b[0mmedia_erroresA01P100wdbc\u001b[0m\u001b[0;34m,\u001b[0m \u001b[0;36m3\u001b[0m\u001b[0;34m)\u001b[0m\u001b[0;34m,\u001b[0m \u001b[0mround\u001b[0m\u001b[0;34m(\u001b[0m\u001b[0mmedia_erroresA1P100wdbc\u001b[0m\u001b[0;34m,\u001b[0m \u001b[0;36m3\u001b[0m\u001b[0;34m)\u001b[0m\u001b[0;34m]\u001b[0m\u001b[0;34m\u001b[0m\u001b[0;34m\u001b[0m\u001b[0m\n\u001b[1;32m      5\u001b[0m \u001b[0md\u001b[0m \u001b[0;34m=\u001b[0m \u001b[0;34m[\u001b[0m\u001b[0mround\u001b[0m\u001b[0;34m(\u001b[0m\u001b[0mmedia_erroresA001P150wdbc\u001b[0m\u001b[0;34m,\u001b[0m \u001b[0;36m3\u001b[0m\u001b[0;34m)\u001b[0m\u001b[0;34m,\u001b[0m \u001b[0mround\u001b[0m\u001b[0;34m(\u001b[0m\u001b[0mmedia_erroresA01P150wdbc\u001b[0m\u001b[0;34m,\u001b[0m \u001b[0;36m3\u001b[0m\u001b[0;34m)\u001b[0m\u001b[0;34m,\u001b[0m \u001b[0mround\u001b[0m\u001b[0;34m(\u001b[0m\u001b[0mmedia_erroresA1P150wdbc\u001b[0m\u001b[0;34m,\u001b[0m \u001b[0;36m3\u001b[0m\u001b[0;34m)\u001b[0m\u001b[0;34m]\u001b[0m\u001b[0;34m\u001b[0m\u001b[0;34m\u001b[0m\u001b[0m\n",
      "\u001b[0;31mNameError\u001b[0m: name 'media_erroresA001P50wdbc' is not defined"
     ]
    }
   ],
   "source": [
    "print(\"Tabla wdbc.data VALIDACION CRUZADA\")\n",
    "a = [0.01, 0.1, 1]\n",
    "b = [round(media_erroresA001P50wdbc, 3), round(media_erroresA01P50wdbc, 3), round(media_erroresA1P50wdbc, 3)]\n",
    "c = [round(media_erroresA001P100wdbc, 3), round(media_erroresA01P100wdbc, 3), round(media_erroresA1P100wdbc, 3)]\n",
    "d = [round(media_erroresA001P150wdbc, 3), round(media_erroresA01P150wdbc, 3), round(media_erroresA1P150wdbc, 3)]\n",
    "t = Table([a, b, c, d], names=('K Aprendizaje', '50 Pasos', ' 100 Pasos', '150 pasos'))\n",
    "print(t)"
   ]
  },
  {
   "cell_type": "code",
   "execution_count": 78,
   "metadata": {},
   "outputs": [
    {
     "name": "stdout",
     "output_type": "stream",
     "text": [
      "Tabla wdbc.data VALIDACION SIMPLE\n",
      "K Aprendizaje 50 Pasos  100 Pasos 150 pasos\n",
      "------------- -------- ---------- ---------\n",
      "         0.01    0.102      0.099     0.106\n",
      "          0.1    0.184      0.102     0.099\n",
      "          1.0    0.134      0.071     0.074\n"
     ]
    }
   ],
   "source": [
    "print(\"Tabla wdbc.data VALIDACION SIMPLE\")\n",
    "a = [0.01, 0.1, 1]\n",
    "b = [round(media_erroresA001P50wdbcVS, 3), round(media_erroresA01P50wdbcVS, 3), round(media_erroresA1P50wdbcVS, 3)]\n",
    "c = [round(media_erroresA001P100wdbcVS, 3), round(media_erroresA01P100wdbcVS, 3), round(media_erroresA1P100wdbcVS, 3)]\n",
    "d = [round(media_erroresA001P150wdbcVS, 3), round(media_erroresA01P150wdbcVS, 3), round(media_erroresA1P150wdbcVS, 3)]\n",
    "t = Table([a, b, c, d], names=('K Aprendizaje', '50 Pasos', ' 100 Pasos', '150 pasos'))\n",
    "print(t)"
   ]
  },
  {
   "cell_type": "code",
   "execution_count": 79,
   "metadata": {},
   "outputs": [
    {
     "name": "stdout",
     "output_type": "stream",
     "text": [
      "Tabla pima-indians-diabetes.data VALIDACION SIMPLE\n",
      "K Aprendizaje 50 Pasos  100 Pasos 150 pasos\n",
      "------------- -------- ---------- ---------\n",
      "         0.01    0.488      0.358     0.324\n",
      "          0.1    0.363      0.475     0.366\n",
      "          1.0    0.332      0.337     0.407\n"
     ]
    }
   ],
   "source": [
    "print(\"Tabla pima-indians-diabetes.data VALIDACION SIMPLE\")\n",
    "a = [0.01, 0.1, 1]\n",
    "b = [round(media_erroresA001P50PimaVS, 3), round(media_erroresA01P50PimaVS, 3), round(media_erroresA1P50PimaVS, 3)]\n",
    "c = [round(media_erroresA001P100PimaVS, 3), round(media_erroresA01P100PimaVS, 3), round(media_erroresA1P100PimaVS, 3)]\n",
    "d = [round(media_erroresA001P150PimaVS, 3), round(media_erroresA01P150PimaVS, 3), round(media_erroresA1P150PimaVS, 3)]\n",
    "t = Table([a, b, c, d], names=('K Aprendizaje', '50 Pasos', ' 100 Pasos', '150 pasos'))\n",
    "print(t)"
   ]
  },
  {
   "cell_type": "code",
   "execution_count": null,
   "metadata": {},
   "outputs": [],
   "source": []
  },
  {
   "cell_type": "markdown",
   "metadata": {},
   "source": [
    "### Análisis y Resultados"
   ]
  },
  {
   "cell_type": "markdown",
   "metadata": {},
   "source": [
    "Al comparar podemos ver en ambos archivos que se pueden alcanzar los mismos resultados ajustando los valores de la constante de aprendizaje y el número de etapas: con k = 0.01 y 100 pasos se logra el mismo resultado que con k = 0.1 y 50 pasos en el archivo wdbc.data. Similar respuesta en el pima-indians-diabetes.data con k = 0.01 y 50 pasos y k= 1 y 150 pasos. Lógicamente si se tiene en cuenta el tiempo de ejecución, lo más obtimo es usar el mínimo numero de pasos\n",
    "\n",
    "Otra diferencia entre los archivos es el error encontrado, que disminuye considerablemente en wdbc.data ***"
   ]
  },
  {
   "cell_type": "markdown",
   "metadata": {},
   "source": [
    "# Apartado 3: SKLearn"
   ]
  },
  {
   "cell_type": "markdown",
   "metadata": {},
   "source": [
    "### KNN con wdbc.data\n",
    "Datos sin normalizar"
   ]
  },
  {
   "cell_type": "code",
   "execution_count": 135,
   "metadata": {},
   "outputs": [],
   "source": [
    "dataset = Datos.Datos('ConjuntosDatosP2/wdbc.data')\n",
    "X = dataset.datos[:, :-1]\n",
    "Y = dataset.datos[:, -1]"
   ]
  },
  {
   "cell_type": "code",
   "execution_count": 136,
   "metadata": {},
   "outputs": [
    {
     "name": "stdout",
     "output_type": "stream",
     "text": [
      "Media errores k vecinos = 1, dist = euclidea:  0.08957943464985718\n"
     ]
    }
   ],
   "source": [
    "clf = KNeighborsClassifier(n_neighbors=1, p=2, metric='euclidean')\n",
    "score = cross_val_score(clf, X, Y, cv=4,n_jobs=-1)\n",
    "errores_mediaK1EUCwdbc = 1 - score.mean()\n",
    "print(\"Media errores k vecinos = 1, dist = euclidea: \", errores_mediaK1EUCwdbc)"
   ]
  },
  {
   "cell_type": "code",
   "execution_count": 137,
   "metadata": {},
   "outputs": [
    {
     "name": "stdout",
     "output_type": "stream",
     "text": [
      "Media errores k vecinos = 5, dist = euclidea:  0.0720107357431301\n"
     ]
    }
   ],
   "source": [
    "clf = KNeighborsClassifier(n_neighbors=5, p=2, metric='euclidean')\n",
    "score = cross_val_score(clf, X, Y, cv=4,n_jobs=-1)\n",
    "errores_mediaK5EUCwdbc = 1 - score.mean()\n",
    "print(\"Media errores k vecinos = 5, dist = euclidea: \", errores_mediaK5EUCwdbc)"
   ]
  },
  {
   "cell_type": "code",
   "execution_count": 138,
   "metadata": {},
   "outputs": [
    {
     "name": "stdout",
     "output_type": "stream",
     "text": [
      "Media errores k vecinos = 11, dist = euclidea:  0.06671673397025513\n"
     ]
    }
   ],
   "source": [
    "clf = KNeighborsClassifier(n_neighbors=11, p=2, metric='euclidean')\n",
    "score = cross_val_score(clf, X, Y, cv=4,n_jobs=-1)\n",
    "errores_mediaK11EUCwdbc = 1 - score.mean()\n",
    "print(\"Media errores k vecinos = 11, dist = euclidea: \", errores_mediaK11EUCwdbc)"
   ]
  },
  {
   "cell_type": "code",
   "execution_count": 139,
   "metadata": {},
   "outputs": [
    {
     "name": "stdout",
     "output_type": "stream",
     "text": [
      "Media errores k vecinos = 21, dist = euclidea:  0.07022554909878864\n"
     ]
    }
   ],
   "source": [
    "clf = KNeighborsClassifier(n_neighbors=21, p=2, metric='euclidean')\n",
    "score = cross_val_score(clf, X, Y, cv=4,n_jobs=-1)\n",
    "errores_mediaK21EUCwdbc = 1 - score.mean()\n",
    "print(\"Media errores k vecinos = 21, dist = euclidea: \", errores_mediaK21EUCwdbc)"
   ]
  },
  {
   "cell_type": "code",
   "execution_count": 140,
   "metadata": {},
   "outputs": [
    {
     "name": "stdout",
     "output_type": "stream",
     "text": [
      "Media errores k vecinos = 1, dist = manhattan:  0.07901605436816705\n"
     ]
    }
   ],
   "source": [
    "clf = KNeighborsClassifier(n_neighbors=1, p=2, metric='manhattan')\n",
    "score = cross_val_score(clf, X, Y, cv=4,n_jobs=-1)\n",
    "errores_mediaK1MANwdbc = 1 - score.mean()\n",
    "print(\"Media errores k vecinos = 1, dist = manhattan: \", errores_mediaK1MANwdbc)"
   ]
  },
  {
   "cell_type": "code",
   "execution_count": 141,
   "metadata": {},
   "outputs": [
    {
     "name": "stdout",
     "output_type": "stream",
     "text": [
      "Media errores k vecinos = 5, dist = manhattan:  0.0667290456022851\n"
     ]
    }
   ],
   "source": [
    "clf = KNeighborsClassifier(n_neighbors=5, p=2, metric='manhattan')\n",
    "score = cross_val_score(clf, X, Y, cv=4,n_jobs=-1)\n",
    "errores_mediaK5MANwdbc = 1 - score.mean()\n",
    "print(\"Media errores k vecinos = 5, dist = manhattan: \", errores_mediaK5MANwdbc)"
   ]
  },
  {
   "cell_type": "code",
   "execution_count": 142,
   "metadata": {},
   "outputs": [
    {
     "name": "stdout",
     "output_type": "stream",
     "text": [
      "Media errores k vecinos = 11, dist = manhattan:  0.06493154732591355\n"
     ]
    }
   ],
   "source": [
    "clf = KNeighborsClassifier(n_neighbors=11, p=2, metric='manhattan')\n",
    "score = cross_val_score(clf, X, Y, cv=4,n_jobs=-1)\n",
    "errores_mediaK11MANwdbc = 1 - score.mean()\n",
    "print(\"Media errores k vecinos = 11, dist = manhattan: \", errores_mediaK11MANwdbc)"
   ]
  },
  {
   "cell_type": "code",
   "execution_count": 143,
   "metadata": {},
   "outputs": [
    {
     "name": "stdout",
     "output_type": "stream",
     "text": [
      "Media errores k vecinos = 21, dist = manhattan:  0.0702009258347287\n"
     ]
    }
   ],
   "source": [
    "clf = KNeighborsClassifier(n_neighbors=21, p=2, metric='manhattan')\n",
    "score = cross_val_score(clf, X, Y, cv=4,n_jobs=-1)\n",
    "errores_mediaK21MANwdbc = 1 - score.mean()\n",
    "print(\"Media errores k vecinos = 21, dist = manhattan: \", errores_mediaK21MANwdbc)"
   ]
  },
  {
   "cell_type": "code",
   "execution_count": 144,
   "metadata": {},
   "outputs": [
    {
     "name": "stdout",
     "output_type": "stream",
     "text": [
      "Media errores k vecinos = 1, dist = mahalanobis:  0.1914581896976264\n"
     ]
    }
   ],
   "source": [
    "clf = KNeighborsClassifier(n_neighbors=1, p=2, algorithm= 'brute', metric='mahalanobis', metric_params={'V': np.cov(X.astype(np.float))})\n",
    "score = cross_val_score(clf, X.astype(np.float), Y.astype(np.float), cv=4,n_jobs=-1)\n",
    "errores_mediaK1MAHwdbc = 1 - score.mean()\n",
    "print(\"Media errores k vecinos = 1, dist = mahalanobis: \", errores_mediaK1MAHwdbc)"
   ]
  },
  {
   "cell_type": "code",
   "execution_count": 145,
   "metadata": {},
   "outputs": [
    {
     "name": "stdout",
     "output_type": "stream",
     "text": [
      "Media errores k vecinos = 5, dist = mahalanobis:  0.21089825667290452\n"
     ]
    }
   ],
   "source": [
    "clf = KNeighborsClassifier(n_neighbors=5, p=2, algorithm= 'brute', metric='mahalanobis', metric_params={'V': np.cov(X.astype(np.float))})\n",
    "score = cross_val_score(clf, X.astype(np.float), Y.astype(np.float), cv=4,n_jobs=-1)\n",
    "errores_mediaK5MAHwdbc = 1 - score.mean()\n",
    "print(\"Media errores k vecinos = 5, dist = mahalanobis: \", errores_mediaK5MAHwdbc)"
   ]
  },
  {
   "cell_type": "code",
   "execution_count": 146,
   "metadata": {},
   "outputs": [
    {
     "name": "stdout",
     "output_type": "stream",
     "text": [
      "Media errores k vecinos = 11, dist = mahalanobis:  0.2618437900128041\n"
     ]
    }
   ],
   "source": [
    "clf = KNeighborsClassifier(n_neighbors=11, p=2, algorithm= 'brute', metric='mahalanobis', metric_params={'V': np.cov(X.astype(np.float))})\n",
    "score = cross_val_score(clf, X.astype(np.float), Y.astype(np.float), cv=4,n_jobs=-1)\n",
    "errores_mediaK11MAHwdbc = 1 - score.mean()\n",
    "print(\"Media errores k vecinos = 11, dist = mahalanobis: \", errores_mediaK11MAHwdbc)"
   ]
  },
  {
   "cell_type": "code",
   "execution_count": 147,
   "metadata": {},
   "outputs": [
    {
     "name": "stdout",
     "output_type": "stream",
     "text": [
      "Media errores k vecinos = 21, dist = mahalanobis:  0.3092805082241702\n"
     ]
    }
   ],
   "source": [
    "clf = KNeighborsClassifier(n_neighbors=21, p=2, algorithm= 'brute', metric='mahalanobis', metric_params={'V': np.cov(X.astype(np.float))})\n",
    "score = cross_val_score(clf, X.astype(np.float), Y.astype(np.float), cv=4,n_jobs=-1)\n",
    "errores_mediaK21MAHwdbc = 1 - score.mean()\n",
    "print(\"Media errores k vecinos = 21, dist = mahalanobis: \", errores_mediaK21MAHwdbc)"
   ]
  },
  {
   "cell_type": "markdown",
   "metadata": {},
   "source": [
    "### KNN con pime-indians-diabetes.data\n",
    "Datos sin normalizar"
   ]
  },
  {
   "cell_type": "code",
   "execution_count": 148,
   "metadata": {},
   "outputs": [],
   "source": [
    "dataset = Datos.Datos('ConjuntosDatosP2/pima-indians-diabetes.data')\n",
    "encAtributos = preprocessing.OneHotEncoder(categories=dataset.nominalAtributos[:-1], sparse=False)\n",
    "X = dataset.datos[:, :-1]\n",
    "Y = dataset.datos[:, -1]"
   ]
  },
  {
   "cell_type": "code",
   "execution_count": 149,
   "metadata": {},
   "outputs": [
    {
     "name": "stdout",
     "output_type": "stream",
     "text": [
      "Media errores k vecinos = 1, dist = euclidea:  0.32682291666666674\n"
     ]
    }
   ],
   "source": [
    "clf = KNeighborsClassifier(n_neighbors=1, p=2, metric='euclidean')\n",
    "score = cross_val_score(clf, X, Y, cv=4,n_jobs=-1)\n",
    "errores_mediaK1EUCpima = 1 - score.mean()\n",
    "print(\"Media errores k vecinos = 1, dist = euclidea: \", errores_mediaK1EUCpima)"
   ]
  },
  {
   "cell_type": "code",
   "execution_count": 150,
   "metadata": {},
   "outputs": [
    {
     "name": "stdout",
     "output_type": "stream",
     "text": [
      "Media errores k vecinos = 5, dist = euclidea:  0.28776041666666674\n"
     ]
    }
   ],
   "source": [
    "clf = KNeighborsClassifier(n_neighbors=5, p=2, metric='euclidean')\n",
    "score = cross_val_score(clf, X, Y, cv=4,n_jobs=-1)\n",
    "errores_mediaK5EUCpima = 1 - score.mean()\n",
    "print(\"Media errores k vecinos = 5, dist = euclidea: \", errores_mediaK5EUCpima)"
   ]
  },
  {
   "cell_type": "code",
   "execution_count": 151,
   "metadata": {},
   "outputs": [
    {
     "name": "stdout",
     "output_type": "stream",
     "text": [
      "Media errores k vecinos = 11, dist = euclidea:  0.26302083333333326\n"
     ]
    }
   ],
   "source": [
    "clf = KNeighborsClassifier(n_neighbors=11, p=2, metric='euclidean')\n",
    "score = cross_val_score(clf, X, Y, cv=4,n_jobs=-1)\n",
    "errores_mediaK11EUCpima = 1 - score.mean()\n",
    "print(\"Media errores k vecinos = 11, dist = euclidea: \", errores_mediaK11EUCpima)"
   ]
  },
  {
   "cell_type": "code",
   "execution_count": 152,
   "metadata": {},
   "outputs": [
    {
     "name": "stdout",
     "output_type": "stream",
     "text": [
      "Media errores k vecinos = 21, dist = euclidea:  0.26822916666666663\n"
     ]
    }
   ],
   "source": [
    "clf = KNeighborsClassifier(n_neighbors=21, p=2, metric='euclidean')\n",
    "score = cross_val_score(clf, X, Y, cv=4,n_jobs=-1)\n",
    "errores_mediaK21EUCpima = 1 - score.mean()\n",
    "print(\"Media errores k vecinos = 21, dist = euclidea: \", errores_mediaK21EUCpima)"
   ]
  },
  {
   "cell_type": "code",
   "execution_count": 153,
   "metadata": {},
   "outputs": [
    {
     "name": "stdout",
     "output_type": "stream",
     "text": [
      "Media errores k vecinos = 1, dist = manhattan:  0.31380208333333337\n"
     ]
    }
   ],
   "source": [
    "clf = KNeighborsClassifier(n_neighbors=1, p=2, metric='manhattan')\n",
    "score = cross_val_score(clf, X, Y, cv=4,n_jobs=-1)\n",
    "errores_mediaK1MANpima = 1 - score.mean()\n",
    "print(\"Media errores k vecinos = 1, dist = manhattan: \", errores_mediaK1MANpima)"
   ]
  },
  {
   "cell_type": "code",
   "execution_count": 154,
   "metadata": {},
   "outputs": [
    {
     "name": "stdout",
     "output_type": "stream",
     "text": [
      "Media errores k vecinos = 5, dist = manhattan:  0.26953125\n"
     ]
    }
   ],
   "source": [
    "clf = KNeighborsClassifier(n_neighbors=5, p=2, metric='manhattan')\n",
    "score = cross_val_score(clf, X, Y, cv=4,n_jobs=-1)\n",
    "errores_mediaK5MANpima = 1 - score.mean()\n",
    "print(\"Media errores k vecinos = 5, dist = manhattan: \", errores_mediaK5MANpima)"
   ]
  },
  {
   "cell_type": "code",
   "execution_count": 155,
   "metadata": {},
   "outputs": [
    {
     "name": "stdout",
     "output_type": "stream",
     "text": [
      "Media errores k vecinos = 11, dist = manhattan:  0.24739583333333337\n"
     ]
    }
   ],
   "source": [
    "clf = KNeighborsClassifier(n_neighbors=11, p=2, metric='manhattan')\n",
    "score = cross_val_score(clf, X, Y, cv=4,n_jobs=-1)\n",
    "errores_mediaK11MANpima = 1 - score.mean()\n",
    "print(\"Media errores k vecinos = 11, dist = manhattan: \", errores_mediaK11MANpima)"
   ]
  },
  {
   "cell_type": "code",
   "execution_count": 156,
   "metadata": {},
   "outputs": [
    {
     "name": "stdout",
     "output_type": "stream",
     "text": [
      "Media errores k vecinos = 21, dist = manhattan:  0.24348958333333337\n"
     ]
    }
   ],
   "source": [
    "clf = KNeighborsClassifier(n_neighbors=21, p=2, metric='manhattan')\n",
    "score = cross_val_score(clf, X, Y, cv=4,n_jobs=-1)\n",
    "errores_mediaK21MANpima = 1 - score.mean()\n",
    "print(\"Media errores k vecinos = 21, dist = manhattan: \", errores_mediaK21MANpima)"
   ]
  },
  {
   "cell_type": "code",
   "execution_count": 157,
   "metadata": {},
   "outputs": [
    {
     "name": "stdout",
     "output_type": "stream",
     "text": [
      "Media errores k vecinos = 1, dist = mahalanobis:  0.29427083333333326\n"
     ]
    }
   ],
   "source": [
    "clf = KNeighborsClassifier(n_neighbors=1, p=2, algorithm= 'brute', metric='mahalanobis', metric_params={'V': np.cov(X.astype(np.float))})\n",
    "score = cross_val_score(clf, X.astype(np.float), Y.astype(np.float), cv=4,n_jobs=-1)\n",
    "errores_mediaK1MAHpima = 1 - score.mean()\n",
    "print(\"Media errores k vecinos = 1, dist = mahalanobis: \", errores_mediaK1MAHpima)"
   ]
  },
  {
   "cell_type": "code",
   "execution_count": 158,
   "metadata": {},
   "outputs": [
    {
     "name": "stdout",
     "output_type": "stream",
     "text": [
      "Media errores k vecinos = 5, dist = mahalanobis:  0.2539062499999999\n"
     ]
    }
   ],
   "source": [
    "clf = KNeighborsClassifier(n_neighbors=5, p=2, algorithm= 'brute', metric='mahalanobis', metric_params={'V': np.cov(X.astype(np.float))})\n",
    "score = cross_val_score(clf, X.astype(np.float), Y.astype(np.float), cv=4,n_jobs=-1)\n",
    "errores_mediaK5MAHpima = 1 - score.mean()\n",
    "print(\"Media errores k vecinos = 5, dist = mahalanobis: \", errores_mediaK5MAHpima)"
   ]
  },
  {
   "cell_type": "code",
   "execution_count": 159,
   "metadata": {},
   "outputs": [
    {
     "name": "stdout",
     "output_type": "stream",
     "text": [
      "Media errores k vecinos = 11, dist = mahalanobis:  0.24479166666666663\n"
     ]
    }
   ],
   "source": [
    "clf = KNeighborsClassifier(n_neighbors=11, p=2, algorithm= 'brute', metric='mahalanobis', metric_params={'V': np.cov(X.astype(np.float))})\n",
    "score = cross_val_score(clf, X.astype(np.float), Y.astype(np.float), cv=4,n_jobs=-1)\n",
    "errores_mediaK11MAHpima = 1 - score.mean()\n",
    "print(\"Media errores k vecinos = 11, dist = mahalanobis: \", errores_mediaK11MAHpima)"
   ]
  },
  {
   "cell_type": "code",
   "execution_count": 160,
   "metadata": {},
   "outputs": [
    {
     "name": "stdout",
     "output_type": "stream",
     "text": [
      "Media errores k vecinos = 21, dist = mahalanobis:  0.24609375\n"
     ]
    }
   ],
   "source": [
    "clf = KNeighborsClassifier(n_neighbors=21, p=2, algorithm= 'brute', metric='mahalanobis', metric_params={'V': np.cov(X.astype(np.float))})\n",
    "score = cross_val_score(clf, X.astype(np.float), Y.astype(np.float), cv=4,n_jobs=-1)\n",
    "errores_mediaK21MAHpima = 1 - score.mean()\n",
    "print(\"Media errores k vecinos = 21, dist = mahalanobis: \", errores_mediaK21MAHpima)"
   ]
  },
  {
   "cell_type": "markdown",
   "metadata": {},
   "source": [
    "### KNN con wdbc.data\n",
    "Datos normalizados"
   ]
  },
  {
   "cell_type": "code",
   "execution_count": 161,
   "metadata": {},
   "outputs": [],
   "source": [
    "dataset = Datos.Datos('ConjuntosDatosP2/wdbc.data')\n",
    "#Para normalizar los datos, usamos la función de normalizar de nuestra implementación \n",
    "clasificadorNuestro = Clasificador.ClasificadorVecinosProximos(K = 1, distancia = \"Manhattan\", normalizado = False)\n",
    "normalizedDataset = clasificadorNuestro.normalizarDatosGen(dataset.datos, dataset.nominalAtributos)\n",
    "X = normalizedDataset[:, :-1]\n",
    "Y = normalizedDataset[:, -1]"
   ]
  },
  {
   "cell_type": "code",
   "execution_count": 162,
   "metadata": {},
   "outputs": [
    {
     "name": "stdout",
     "output_type": "stream",
     "text": [
      "Media errores k vecinos = 1, dist = euclidea:  0.04744902984339605\n"
     ]
    }
   ],
   "source": [
    "clf = KNeighborsClassifier(n_neighbors=1, p=2, metric='euclidean')\n",
    "score = cross_val_score(clf, X, Y, cv=4,n_jobs=-1)\n",
    "errores_mediaK1EUCwdbcN = 1 - score.mean()\n",
    "print(\"Media errores k vecinos = 1, dist = euclidea: \", errores_mediaK1EUCwdbcN)"
   ]
  },
  {
   "cell_type": "code",
   "execution_count": 163,
   "metadata": {},
   "outputs": [
    {
     "name": "stdout",
     "output_type": "stream",
     "text": [
      "Media errores k vecinos = 5, dist = euclidea:  0.03513739781345415\n"
     ]
    }
   ],
   "source": [
    "clf = KNeighborsClassifier(n_neighbors=5, p=2, metric='euclidean')\n",
    "score = cross_val_score(clf, X, Y, cv=4,n_jobs=-1)\n",
    "errores_mediaK5EUCwdbcN = 1 - score.mean()\n",
    "print(\"Media errores k vecinos = 5, dist = euclidea: \", errores_mediaK5EUCwdbcN)"
   ]
  },
  {
   "cell_type": "code",
   "execution_count": 164,
   "metadata": {},
   "outputs": [
    {
     "name": "stdout",
     "output_type": "stream",
     "text": [
      "Media errores k vecinos = 11, dist = euclidea:  0.03865852457401764\n"
     ]
    }
   ],
   "source": [
    "clf = KNeighborsClassifier(n_neighbors=11, p=2, metric='euclidean')\n",
    "score = cross_val_score(clf, X, Y, cv=4,n_jobs=-1)\n",
    "errores_mediaK11EUCwdbcN = 1 - score.mean()\n",
    "print(\"Media errores k vecinos = 11, dist = euclidea: \", errores_mediaK11EUCwdbcN)"
   ]
  },
  {
   "cell_type": "code",
   "execution_count": 165,
   "metadata": {},
   "outputs": [
    {
     "name": "stdout",
     "output_type": "stream",
     "text": [
      "Media errores k vecinos = 21, dist = euclidea:  0.045663843199054366\n"
     ]
    }
   ],
   "source": [
    "clf = KNeighborsClassifier(n_neighbors=21, p=2, metric='euclidean')\n",
    "score = cross_val_score(clf, X, Y, cv=4,n_jobs=-1)\n",
    "errores_mediaK21EUCwdbcN = 1 - score.mean()\n",
    "print(\"Media errores k vecinos = 21, dist = euclidea: \", errores_mediaK21EUCwdbcN)"
   ]
  },
  {
   "cell_type": "code",
   "execution_count": 166,
   "metadata": {},
   "outputs": [
    {
     "name": "stdout",
     "output_type": "stream",
     "text": [
      "Media errores k vecinos = 1, dist = manhattan:  0.04565153156702462\n"
     ]
    }
   ],
   "source": [
    "clf = KNeighborsClassifier(n_neighbors=1, p=2, metric='manhattan')\n",
    "score = cross_val_score(clf, X, Y, cv=4,n_jobs=-1)\n",
    "errores_mediaK1MANwdbcN = 1 - score.mean()\n",
    "print(\"Media errores k vecinos = 1, dist = manhattan: \", errores_mediaK1MANwdbcN)"
   ]
  },
  {
   "cell_type": "code",
   "execution_count": 167,
   "metadata": {},
   "outputs": [
    {
     "name": "stdout",
     "output_type": "stream",
     "text": [
      "Media errores k vecinos = 5, dist = manhattan:  0.03512508618142418\n"
     ]
    }
   ],
   "source": [
    "clf = KNeighborsClassifier(n_neighbors=5, p=2, metric='manhattan')\n",
    "score = cross_val_score(clf, X, Y, cv=4,n_jobs=-1)\n",
    "errores_mediaK5MANwdbcN = 1 - score.mean()\n",
    "print(\"Media errores k vecinos = 5, dist = manhattan: \", errores_mediaK5MANwdbcN)"
   ]
  },
  {
   "cell_type": "code",
   "execution_count": 168,
   "metadata": {},
   "outputs": [
    {
     "name": "stdout",
     "output_type": "stream",
     "text": [
      "Media errores k vecinos = 11, dist = manhattan:  0.04567615483108445\n"
     ]
    }
   ],
   "source": [
    "clf = KNeighborsClassifier(n_neighbors=11, p=2, metric='manhattan')\n",
    "score = cross_val_score(clf, X, Y, cv=4,n_jobs=-1)\n",
    "errores_mediaK11MANwdbcN = 1 - score.mean()\n",
    "print(\"Media errores k vecinos = 11, dist = manhattan: \", errores_mediaK11MANwdbcN)"
   ]
  },
  {
   "cell_type": "code",
   "execution_count": 169,
   "metadata": {},
   "outputs": [
    {
     "name": "stdout",
     "output_type": "stream",
     "text": [
      "Media errores k vecinos = 21, dist = manhattan:  0.050945533339899596\n"
     ]
    }
   ],
   "source": [
    "clf = KNeighborsClassifier(n_neighbors=21, p=2, metric='manhattan')\n",
    "score = cross_val_score(clf, X, Y, cv=4,n_jobs=-1)\n",
    "errores_mediaK21MANwdbcN = 1 - score.mean()\n",
    "print(\"Media errores k vecinos = 21, dist = manhattan: \", errores_mediaK21MANwdbcN)"
   ]
  },
  {
   "cell_type": "code",
   "execution_count": 170,
   "metadata": {},
   "outputs": [
    {
     "name": "stdout",
     "output_type": "stream",
     "text": [
      "Media errores k vecinos = 1, dist = mahalanobis:  0.1914581896976264\n"
     ]
    }
   ],
   "source": [
    "clf = KNeighborsClassifier(n_neighbors=1, p=2, algorithm= 'brute', metric='mahalanobis', metric_params={'V': np.cov(X.astype(np.float))})\n",
    "score = cross_val_score(clf, X.astype(np.float), Y.astype(np.float), cv=4,n_jobs=-1)\n",
    "errores_mediaK1MAHwdbcN = 1 - score.mean()\n",
    "print(\"Media errores k vecinos = 1, dist = mahalanobis: \", errores_mediaK1MAHwdbcN)"
   ]
  },
  {
   "cell_type": "code",
   "execution_count": 171,
   "metadata": {},
   "outputs": [
    {
     "name": "stdout",
     "output_type": "stream",
     "text": [
      "Media errores k vecinos = 5, dist = mahalanobis:  0.21089825667290452\n"
     ]
    }
   ],
   "source": [
    "clf = KNeighborsClassifier(n_neighbors=5, p=2, algorithm= 'brute', metric='mahalanobis', metric_params={'V': np.cov(X.astype(np.float))})\n",
    "score = cross_val_score(clf, X.astype(np.float), Y.astype(np.float), cv=4,n_jobs=-1)\n",
    "errores_mediaK5MAHwdbcN = 1 - score.mean()\n",
    "print(\"Media errores k vecinos = 5, dist = mahalanobis: \", errores_mediaK5MAHwdbcN)"
   ]
  },
  {
   "cell_type": "code",
   "execution_count": 172,
   "metadata": {},
   "outputs": [
    {
     "name": "stdout",
     "output_type": "stream",
     "text": [
      "Media errores k vecinos = 11, dist = mahalanobis:  0.2618437900128041\n"
     ]
    }
   ],
   "source": [
    "clf = KNeighborsClassifier(n_neighbors=11, p=2, algorithm= 'brute', metric='mahalanobis', metric_params={'V': np.cov(X.astype(np.float))})\n",
    "score = cross_val_score(clf, X.astype(np.float), Y.astype(np.float), cv=4,n_jobs=-1)\n",
    "errores_mediaK11MAHwdbcN = 1 - score.mean()\n",
    "print(\"Media errores k vecinos = 11, dist = mahalanobis: \", errores_mediaK11MAHwdbcN)"
   ]
  },
  {
   "cell_type": "code",
   "execution_count": 173,
   "metadata": {},
   "outputs": [
    {
     "name": "stdout",
     "output_type": "stream",
     "text": [
      "Media errores k vecinos = 21, dist = mahalanobis:  0.3092805082241702\n"
     ]
    }
   ],
   "source": [
    "clf = KNeighborsClassifier(n_neighbors=21, p=2, algorithm= 'brute', metric='mahalanobis', metric_params={'V': np.cov(X.astype(np.float))})\n",
    "score = cross_val_score(clf, X.astype(np.float), Y.astype(np.float), cv=4,n_jobs=-1)\n",
    "errores_mediaK21MAHwdbcN = 1 - score.mean()\n",
    "print(\"Media errores k vecinos = 21, dist = mahalanobis: \", errores_mediaK21MAHwdbcN)"
   ]
  },
  {
   "cell_type": "markdown",
   "metadata": {},
   "source": [
    "### KNN con pime-indians-diabetes.data\n",
    "Datos sin normalizar"
   ]
  },
  {
   "cell_type": "code",
   "execution_count": 174,
   "metadata": {},
   "outputs": [],
   "source": [
    "dataset = Datos.Datos('ConjuntosDatosP2/pima-indians-diabetes.data')\n",
    "#Para normalizar los datos, usamos la función de normalizar de nuestra implementación \n",
    "clasificadorNuestro = Clasificador.ClasificadorVecinosProximos(K = 1, distancia = \"Manhattan\", normalizado = False)\n",
    "normalizedDataset = clasificadorNuestro.normalizarDatosGen(dataset.datos, dataset.nominalAtributos)\n",
    "X = normalizedDataset[:, :-1]\n",
    "Y = normalizedDataset[:, -1]"
   ]
  },
  {
   "cell_type": "code",
   "execution_count": 175,
   "metadata": {},
   "outputs": [
    {
     "name": "stdout",
     "output_type": "stream",
     "text": [
      "Media errores k vecinos = 1, dist = euclidea:  0.27604166666666674\n"
     ]
    }
   ],
   "source": [
    "clf = KNeighborsClassifier(n_neighbors=1, p=2, metric='euclidean')\n",
    "score = cross_val_score(clf, X, Y, cv=4,n_jobs=-1)\n",
    "errores_mediaK1EUCpimaN = 1 - score.mean()\n",
    "print(\"Media errores k vecinos = 1, dist = euclidea: \", errores_mediaK1EUCpimaN)"
   ]
  },
  {
   "cell_type": "code",
   "execution_count": 176,
   "metadata": {},
   "outputs": [
    {
     "name": "stdout",
     "output_type": "stream",
     "text": [
      "Media errores k vecinos = 5, dist = euclidea:  0.25651041666666663\n"
     ]
    }
   ],
   "source": [
    "clf = KNeighborsClassifier(n_neighbors=5, p=2, metric='euclidean')\n",
    "score = cross_val_score(clf, X, Y, cv=4,n_jobs=-1)\n",
    "errores_mediaK5EUCpimaN = 1 - score.mean()\n",
    "print(\"Media errores k vecinos = 5, dist = euclidea: \", errores_mediaK5EUCpimaN)"
   ]
  },
  {
   "cell_type": "code",
   "execution_count": 177,
   "metadata": {},
   "outputs": [
    {
     "name": "stdout",
     "output_type": "stream",
     "text": [
      "Media errores k vecinos = 11, dist = euclidea:  0.24869791666666674\n"
     ]
    }
   ],
   "source": [
    "clf = KNeighborsClassifier(n_neighbors=11, p=2, metric='euclidean')\n",
    "score = cross_val_score(clf, X, Y, cv=4,n_jobs=-1)\n",
    "errores_mediaK11EUCpimaN = 1 - score.mean()\n",
    "print(\"Media errores k vecinos = 11, dist = euclidea: \", errores_mediaK11EUCpimaN)"
   ]
  },
  {
   "cell_type": "code",
   "execution_count": 178,
   "metadata": {},
   "outputs": [
    {
     "name": "stdout",
     "output_type": "stream",
     "text": [
      "Media errores k vecinos = 21, dist = euclidea:  0.24348958333333337\n"
     ]
    }
   ],
   "source": [
    "clf = KNeighborsClassifier(n_neighbors=21, p=2, metric='euclidean')\n",
    "score = cross_val_score(clf, X, Y, cv=4,n_jobs=-1)\n",
    "errores_mediaK21EUCpimaN = 1 - score.mean()\n",
    "print(\"Media errores k vecinos = 21, dist = euclidea: \", errores_mediaK21EUCpimaN)"
   ]
  },
  {
   "cell_type": "code",
   "execution_count": 179,
   "metadata": {},
   "outputs": [
    {
     "name": "stdout",
     "output_type": "stream",
     "text": [
      "Media errores k vecinos = 1, dist = manhattan:  0.2890624999999999\n"
     ]
    }
   ],
   "source": [
    "clf = KNeighborsClassifier(n_neighbors=1, p=2, metric='manhattan')\n",
    "score = cross_val_score(clf, X, Y, cv=4,n_jobs=-1)\n",
    "errores_mediaK1MANpimaN = 1 - score.mean()\n",
    "print(\"Media errores k vecinos = 1, dist = manhattan: \", errores_mediaK1MANpimaN)"
   ]
  },
  {
   "cell_type": "code",
   "execution_count": 180,
   "metadata": {},
   "outputs": [
    {
     "name": "stdout",
     "output_type": "stream",
     "text": [
      "Media errores k vecinos = 5, dist = manhattan:  0.27083333333333337\n"
     ]
    }
   ],
   "source": [
    "clf = KNeighborsClassifier(n_neighbors=5, p=2, metric='manhattan')\n",
    "score = cross_val_score(clf, X, Y, cv=4,n_jobs=-1)\n",
    "errores_mediaK5MANpimaN = 1 - score.mean()\n",
    "print(\"Media errores k vecinos = 5, dist = manhattan: \", errores_mediaK5MANpimaN)"
   ]
  },
  {
   "cell_type": "code",
   "execution_count": 181,
   "metadata": {},
   "outputs": [
    {
     "name": "stdout",
     "output_type": "stream",
     "text": [
      "Media errores k vecinos = 11, dist = manhattan:  0.24479166666666674\n"
     ]
    }
   ],
   "source": [
    "clf = KNeighborsClassifier(n_neighbors=11, p=2, metric='manhattan')\n",
    "score = cross_val_score(clf, X, Y, cv=4,n_jobs=-1)\n",
    "errores_mediaK11MANpimaN = 1 - score.mean()\n",
    "print(\"Media errores k vecinos = 11, dist = manhattan: \", errores_mediaK11MANpimaN)"
   ]
  },
  {
   "cell_type": "code",
   "execution_count": 182,
   "metadata": {},
   "outputs": [
    {
     "name": "stdout",
     "output_type": "stream",
     "text": [
      "Media errores k vecinos = 21, dist = manhattan:  0.23177083333333326\n"
     ]
    }
   ],
   "source": [
    "clf = KNeighborsClassifier(n_neighbors=21, p=2, metric='manhattan')\n",
    "score = cross_val_score(clf, X, Y, cv=4,n_jobs=-1)\n",
    "errores_mediaK21MANpimaN = 1 - score.mean()\n",
    "print(\"Media errores k vecinos = 21, dist = manhattan: \", errores_mediaK21MANpimaN)"
   ]
  },
  {
   "cell_type": "code",
   "execution_count": 183,
   "metadata": {},
   "outputs": [
    {
     "name": "stdout",
     "output_type": "stream",
     "text": [
      "Media errores k vecinos = 1, dist = mahalanobis:  0.29427083333333326\n"
     ]
    }
   ],
   "source": [
    "clf = KNeighborsClassifier(n_neighbors=1, p=2, algorithm= 'brute', metric='mahalanobis', metric_params={'V': np.cov(X.astype(np.float))})\n",
    "score = cross_val_score(clf, X.astype(np.float), Y.astype(np.float), cv=4,n_jobs=-1)\n",
    "errores_mediaK1MAHpimaN = 1 - score.mean()\n",
    "print(\"Media errores k vecinos = 1, dist = mahalanobis: \", errores_mediaK1MAHpimaN)"
   ]
  },
  {
   "cell_type": "code",
   "execution_count": 184,
   "metadata": {},
   "outputs": [
    {
     "name": "stdout",
     "output_type": "stream",
     "text": [
      "Media errores k vecinos = 5, dist = mahalanobis:  0.2539062499999999\n"
     ]
    }
   ],
   "source": [
    "clf = KNeighborsClassifier(n_neighbors=5, p=2, algorithm= 'brute', metric='mahalanobis', metric_params={'V': np.cov(X.astype(np.float))})\n",
    "score = cross_val_score(clf, X.astype(np.float), Y.astype(np.float), cv=4,n_jobs=-1)\n",
    "errores_mediaK5MAHpimaN = 1 - score.mean()\n",
    "print(\"Media errores k vecinos = 5, dist = mahalanobis: \", errores_mediaK5MAHpimaN)"
   ]
  },
  {
   "cell_type": "code",
   "execution_count": 185,
   "metadata": {},
   "outputs": [
    {
     "name": "stdout",
     "output_type": "stream",
     "text": [
      "Media errores k vecinos = 11, dist = mahalanobis:  0.24479166666666663\n"
     ]
    }
   ],
   "source": [
    "clf = KNeighborsClassifier(n_neighbors=11, p=2, algorithm= 'brute', metric='mahalanobis', metric_params={'V': np.cov(X.astype(np.float))})\n",
    "score = cross_val_score(clf, X.astype(np.float), Y.astype(np.float), cv=4,n_jobs=-1)\n",
    "errores_mediaK11MAHpimaN = 1 - score.mean()\n",
    "print(\"Media errores k vecinos = 11, dist = mahalanobis: \", errores_mediaK11MAHpimaN)"
   ]
  },
  {
   "cell_type": "code",
   "execution_count": 186,
   "metadata": {},
   "outputs": [
    {
     "name": "stdout",
     "output_type": "stream",
     "text": [
      "Media errores k vecinos = 21, dist = mahalanobis:  0.24609375\n"
     ]
    }
   ],
   "source": [
    "clf = KNeighborsClassifier(n_neighbors=21, p=2, algorithm= 'brute', metric='mahalanobis', metric_params={'V': np.cov(X.astype(np.float))})\n",
    "score = cross_val_score(clf, X.astype(np.float), Y.astype(np.float), cv=4,n_jobs=-1)\n",
    "errores_mediaK21MAHpimaN = 1 - score.mean()\n",
    "print(\"Media errores k vecinos = 21, dist = mahalanobis: \", errores_mediaK21MAHpimaN)"
   ]
  },
  {
   "cell_type": "markdown",
   "metadata": {},
   "source": [
    "## Tablas y Resultados"
   ]
  },
  {
   "cell_type": "code",
   "execution_count": 187,
   "metadata": {},
   "outputs": [
    {
     "name": "stdout",
     "output_type": "stream",
     "text": [
      "Tabla con datos sin normalizar wdbc.data\n",
      " K  Error Euclidea Error Manhattan Error Mahalanobis\n",
      "--- -------------- --------------- -----------------\n",
      "  1           0.09           0.079             0.191\n",
      "  5          0.072           0.067             0.211\n",
      " 11          0.067           0.065             0.262\n",
      " 21           0.07            0.07             0.309\n",
      "\n",
      "\n",
      "Tabla con datos sin normalizar pime-indians-diabetes.data\n",
      " K  Error Euclidea Error Manhattan Error Mahalanobis\n",
      "--- -------------- --------------- -----------------\n",
      "  1          0.327           0.314             0.294\n",
      "  5          0.288            0.27             0.254\n",
      " 11          0.263           0.247             0.245\n",
      " 21          0.268           0.243             0.246\n",
      "\n",
      "\n",
      "Tabla con datos normalizados wdbc.data\n",
      " K  Error Euclidea Error Manhattan Error Mahalanobis\n",
      "--- -------------- --------------- -----------------\n",
      "  1          0.047           0.046             0.191\n",
      "  5          0.035           0.035             0.211\n",
      " 11          0.039           0.046             0.262\n",
      " 21          0.046           0.051             0.309\n",
      "\n",
      "\n",
      "Tabla con datos normalizados pime-indians-diabetes.data\n",
      " K  Error Euclidea Error Manhattan Error Mahalanobis\n",
      "--- -------------- --------------- -----------------\n",
      "  1          0.276           0.289             0.294\n",
      "  5          0.257           0.271             0.254\n",
      " 11          0.249           0.245             0.245\n",
      " 21          0.243           0.232             0.246\n"
     ]
    }
   ],
   "source": [
    "print(\"Tabla con datos sin normalizar wdbc.data\")\n",
    "a = [1, 5, 11, 21]\n",
    "b = [round(errores_mediaK1EUCwdbc, 3), round(errores_mediaK5EUCwdbc, 3), round(errores_mediaK11EUCwdbc, 3), round(errores_mediaK21EUCwdbc, 3)]\n",
    "c = [round(errores_mediaK1MANwdbc, 3), round(errores_mediaK5MANwdbc, 3), round(errores_mediaK11MANwdbc, 3), round(errores_mediaK21MANwdbc, 3)]\n",
    "d = [round(errores_mediaK1MAHwdbc, 3), round(errores_mediaK5MAHwdbc, 3), round(errores_mediaK11MAHwdbc, 3), round(errores_mediaK21MAHwdbc, 3)]\n",
    "t = Table([a, b, c, d], names=('K', 'Error Euclidea', 'Error Manhattan', 'Error Mahalanobis'))\n",
    "print(t)\n",
    "print(\"\\n\")\n",
    "\n",
    "print(\"Tabla con datos sin normalizar pime-indians-diabetes.data\")\n",
    "a = [1, 5, 11, 21]\n",
    "b = [round(errores_mediaK1EUCpima, 3), round(errores_mediaK5EUCpima, 3), round(errores_mediaK11EUCpima, 3), round(errores_mediaK21EUCpima, 3)]\n",
    "c = [round(errores_mediaK1MANpima, 3), round(errores_mediaK5MANpima, 3), round(errores_mediaK11MANpima, 3), round(errores_mediaK21MANpima, 3)]\n",
    "d = [round(errores_mediaK1MAHpima, 3), round(errores_mediaK5MAHpima, 3), round(errores_mediaK11MAHpima, 3), round(errores_mediaK21MAHpima, 3)]\n",
    "t = Table([a, b, c, d], names=('K', 'Error Euclidea', 'Error Manhattan', 'Error Mahalanobis'))\n",
    "print(t)\n",
    "print(\"\\n\")\n",
    "\n",
    "print(\"Tabla con datos normalizados wdbc.data\")\n",
    "a = [1, 5, 11, 21]\n",
    "b = [round(errores_mediaK1EUCwdbcN, 3), round(errores_mediaK5EUCwdbcN, 3), round(errores_mediaK11EUCwdbcN, 3), round(errores_mediaK21EUCwdbcN, 3)]\n",
    "c = [round(errores_mediaK1MANwdbcN, 3), round(errores_mediaK5MANwdbcN, 3), round(errores_mediaK11MANwdbcN, 3), round(errores_mediaK21MANwdbcN, 3)]\n",
    "d = [round(errores_mediaK1MAHwdbcN, 3), round(errores_mediaK5MAHwdbcN, 3), round(errores_mediaK11MAHwdbcN, 3), round(errores_mediaK21MAHwdbcN, 3)]\n",
    "t = Table([a, b, c, d], names=('K', 'Error Euclidea', 'Error Manhattan', 'Error Mahalanobis'))\n",
    "print(t)\n",
    "print(\"\\n\")\n",
    "\n",
    "print(\"Tabla con datos normalizados pime-indians-diabetes.data\")\n",
    "a = [1, 5, 11, 21]\n",
    "b = [round(errores_mediaK1EUCpimaN, 3), round(errores_mediaK5EUCpimaN, 3), round(errores_mediaK11EUCpimaN, 3), round(errores_mediaK21EUCpimaN, 3)]\n",
    "c = [round(errores_mediaK1MANpimaN, 3), round(errores_mediaK5MANpimaN, 3), round(errores_mediaK11MANpimaN, 3), round(errores_mediaK21MANpimaN, 3)]\n",
    "d = [round(errores_mediaK1MAHpimaN, 3), round(errores_mediaK5MAHpimaN, 3), round(errores_mediaK11MAHpimaN, 3), round(errores_mediaK21MAHpimaN, 3)]\n",
    "t = Table([a, b, c, d], names=('K', 'Error Euclidea', 'Error Manhattan', 'Error Mahalanobis'))\n",
    "print(t)"
   ]
  },
  {
   "cell_type": "markdown",
   "metadata": {},
   "source": [
    "## KNN Nuestra vs SKLearn"
   ]
  },
  {
   "cell_type": "markdown",
   "metadata": {},
   "source": [
    "Comparando todas las tablas concluimos que los resultados en cuanto al error son muy similares: las diferencias son muy pequeñas en todas las combinaciones con ambos ficheros. No hay una claro ganador ya que en algunos casos nuestra implementación consigue un error ligeramente más bajo y viceversa. La mayor ventaja que tiene SKLearn se encuentra en su tiempo de ejecución, ya que el nuestro es claramente mayor."
   ]
  },
  {
   "cell_type": "markdown",
   "metadata": {},
   "source": [
    "### Regresión Logística con wdbc.data"
   ]
  },
  {
   "cell_type": "code",
   "execution_count": 188,
   "metadata": {},
   "outputs": [],
   "source": [
    "dataset = Datos.Datos('ConjuntosDatosP2/wdbc.data')\n",
    "encAtributos = preprocessing.OneHotEncoder(categories=dataset.nominalAtributos[:-1], sparse=False)\n",
    "X = dataset.datos[:, :-1].astype(np.float64)\n",
    "Y = dataset.datos[:, -1].astype(np.float64)"
   ]
  },
  {
   "cell_type": "code",
   "execution_count": 189,
   "metadata": {},
   "outputs": [
    {
     "name": "stdout",
     "output_type": "stream",
     "text": [
      "Regresion logistica C = 0.01 y nEpocas = 50 -->  0.17944203683640292\n"
     ]
    }
   ],
   "source": [
    "clf = SGDClassifier(max_iter = 50, learning_rate = 'constant', eta0 = 0.01).fit(X, Y)\n",
    "media_SKerroresA001P50wdbc = cross_val_score(clf, X, Y, cv=4,n_jobs=-1)\n",
    "print(\"Regresion logistica C = 0.01 y nEpocas = 50 --> \", 1 - media_SKerroresA001P50wdbc.mean())"
   ]
  },
  {
   "cell_type": "code",
   "execution_count": 190,
   "metadata": {},
   "outputs": [
    {
     "name": "stdout",
     "output_type": "stream",
     "text": [
      "Regresion logistica C = 0.01 y nEpocas = 100 -->  0.09494730621491188\n"
     ]
    }
   ],
   "source": [
    "clf = SGDClassifier(max_iter = 100, learning_rate = 'constant', eta0 = 0.01).fit(X, Y)\n",
    "media_SKerroresA001P100wdbc = cross_val_score(clf, X, Y, cv=4,n_jobs=-1)\n",
    "print(\"Regresion logistica C = 0.01 y nEpocas = 100 --> \", 1 - media_SKerroresA001P100wdbc .mean())"
   ]
  },
  {
   "cell_type": "code",
   "execution_count": 191,
   "metadata": {},
   "outputs": [
    {
     "name": "stdout",
     "output_type": "stream",
     "text": [
      "Regresion logistica C = 0.01 y nEpocas = 150 -->  0.1404387865655471\n"
     ]
    }
   ],
   "source": [
    "clf = SGDClassifier(max_iter = 150, learning_rate = 'constant', eta0 = 0.01).fit(X, Y)\n",
    "media_SKerroresA001P150wdbc = cross_val_score(clf, X, Y, cv=4,n_jobs=-1)\n",
    "print(\"Regresion logistica C = 0.01 y nEpocas = 150 --> \", 1 - media_SKerroresA001P150wdbc.mean())"
   ]
  },
  {
   "cell_type": "code",
   "execution_count": 192,
   "metadata": {},
   "outputs": [
    {
     "name": "stdout",
     "output_type": "stream",
     "text": [
      "Regresion logistica C = 0.1 y nEpocas = 50 -->  0.15462178666404014\n"
     ]
    }
   ],
   "source": [
    "clf = SGDClassifier(max_iter = 50, learning_rate = 'constant', eta0 = 0.1).fit(X, Y)\n",
    "media_SKerroresA01P50wdbc = cross_val_score(clf, X, Y, cv=4,n_jobs=-1)\n",
    "print(\"Regresion logistica C = 0.1 y nEpocas = 50 --> \", 1 - media_SKerroresA01P50wdbc.mean())"
   ]
  },
  {
   "cell_type": "code",
   "execution_count": 193,
   "metadata": {},
   "outputs": [
    {
     "name": "stdout",
     "output_type": "stream",
     "text": [
      "Regresion logistica C = 0.1 y nEpocas = 100 -->  0.23218506845267406\n"
     ]
    }
   ],
   "source": [
    "clf = SGDClassifier(max_iter = 100, learning_rate = 'constant', eta0 = 0.1).fit(X, Y)\n",
    "media_SKerroresA01P100wdbc = cross_val_score(clf, X, Y, cv=4,n_jobs=-1)\n",
    "print(\"Regresion logistica C = 0.1 y nEpocas = 100 --> \", 1 - media_SKerroresA01P100wdbc.mean())"
   ]
  },
  {
   "cell_type": "code",
   "execution_count": 194,
   "metadata": {},
   "outputs": [
    {
     "name": "stdout",
     "output_type": "stream",
     "text": [
      "Regresion logistica C = 0.1 y nEpocas = 150 -->  0.14397222495814044\n"
     ]
    }
   ],
   "source": [
    "clf = SGDClassifier(max_iter = 150, learning_rate = 'constant', eta0 = 0.1).fit(X, Y)\n",
    "media_SKerroresA01P150wdbc = cross_val_score(clf, X, Y, cv=4,n_jobs=-1)\n",
    "print(\"Regresion logistica C = 0.1 y nEpocas = 150 --> \", 1 - media_SKerroresA01P150wdbc.mean())"
   ]
  },
  {
   "cell_type": "code",
   "execution_count": 195,
   "metadata": {},
   "outputs": [
    {
     "name": "stdout",
     "output_type": "stream",
     "text": [
      "Regresion logistica C = 1 y nEpocas = 50 -->  0.17412341179946822\n"
     ]
    }
   ],
   "source": [
    "clf = SGDClassifier(max_iter = 50, learning_rate = 'constant', eta0 = 1).fit(X, Y)\n",
    "media_SKerroresA1P50wdbc = cross_val_score(clf, X, Y, cv=4,n_jobs=-1)\n",
    "print(\"Regresion logistica C = 1 y nEpocas = 50 --> \", 1 - media_SKerroresA1P50wdbc.mean())"
   ]
  },
  {
   "cell_type": "code",
   "execution_count": 196,
   "metadata": {},
   "outputs": [
    {
     "name": "stdout",
     "output_type": "stream",
     "text": [
      "Regresion logistica C = 1 y nEpocas = 100 -->  0.1916428641780754\n"
     ]
    }
   ],
   "source": [
    "clf = SGDClassifier(max_iter = 100, learning_rate = 'constant', eta0 = 1).fit(X, Y)\n",
    "media_SKerroresA1P100wdbc = cross_val_score(clf, X, Y, cv=4,n_jobs=-1)\n",
    "print(\"Regresion logistica C = 1 y nEpocas = 100 --> \", 1 - media_SKerroresA1P100wdbc.mean())"
   ]
  },
  {
   "cell_type": "code",
   "execution_count": 197,
   "metadata": {},
   "outputs": [
    {
     "name": "stdout",
     "output_type": "stream",
     "text": [
      "Regresion logistica C = 1 y nEpocas = 150 -->  0.13359351915689954\n"
     ]
    }
   ],
   "source": [
    "clf = SGDClassifier(max_iter = 150, learning_rate = 'constant', eta0 = 1).fit(X, Y)\n",
    "media_SKerroresA1P150wdbc = cross_val_score(clf, X, Y, cv=4,n_jobs=-1)\n",
    "print(\"Regresion logistica C = 1 y nEpocas = 150 --> \", 1 - media_SKerroresA1P150wdbc.mean())"
   ]
  },
  {
   "cell_type": "markdown",
   "metadata": {},
   "source": [
    "### Regresión Logística con pima-indians-diabetes.data"
   ]
  },
  {
   "cell_type": "code",
   "execution_count": 198,
   "metadata": {},
   "outputs": [],
   "source": [
    "dataset = Datos.Datos('ConjuntosDatosP2/pima-indians-diabetes.data')\n",
    "encAtributos = preprocessing.OneHotEncoder(categories=dataset.nominalAtributos[:-1], sparse=False)\n",
    "X = dataset.datos[:, :-1].astype(np.float64)\n",
    "Y = dataset.datos[:, -1].astype(np.float64)"
   ]
  },
  {
   "cell_type": "code",
   "execution_count": 199,
   "metadata": {},
   "outputs": [
    {
     "name": "stdout",
     "output_type": "stream",
     "text": [
      "Regresion logistica C = 0.01 y nEpocas = 50 -->  0.34895833333333337\n"
     ]
    }
   ],
   "source": [
    "clf = SGDClassifier(max_iter = 50, learning_rate = 'constant', eta0 = 0.01).fit(X, Y)\n",
    "media_SKerroresA001P50pima = cross_val_score(clf, X, Y, cv=4,n_jobs=-1)\n",
    "print(\"Regresion logistica C = 0.01 y nEpocas = 50 --> \", 1 - media_SKerroresA001P50pima.mean())"
   ]
  },
  {
   "cell_type": "code",
   "execution_count": 200,
   "metadata": {},
   "outputs": [
    {
     "name": "stdout",
     "output_type": "stream",
     "text": [
      "Regresion logistica C = 0.01 y nEpocas = 100 -->  0.38671875\n"
     ]
    }
   ],
   "source": [
    "clf = SGDClassifier(max_iter = 100, learning_rate = 'constant', eta0 = 0.01).fit(X, Y)\n",
    "media_SKerroresA001P100pima = cross_val_score(clf, X, Y, cv=4,n_jobs=-1)\n",
    "print(\"Regresion logistica C = 0.01 y nEpocas = 100 --> \", 1 - media_SKerroresA001P100pima.mean())"
   ]
  },
  {
   "cell_type": "code",
   "execution_count": 201,
   "metadata": {},
   "outputs": [
    {
     "name": "stdout",
     "output_type": "stream",
     "text": [
      "Regresion logistica C = 0.01 y nEpocas = 150 -->  0.37630208333333337\n"
     ]
    }
   ],
   "source": [
    "clf = SGDClassifier(max_iter = 150, learning_rate = 'constant', eta0 = 0.01).fit(X, Y)\n",
    "media_SKerroresA001P150pima = cross_val_score(clf, X, Y, cv=4,n_jobs=-1)\n",
    "print(\"Regresion logistica C = 0.01 y nEpocas = 150 --> \", 1 - media_SKerroresA001P150pima.mean())"
   ]
  },
  {
   "cell_type": "code",
   "execution_count": 202,
   "metadata": {},
   "outputs": [
    {
     "name": "stdout",
     "output_type": "stream",
     "text": [
      "Regresion logistica C = 0.1 y nEpocas = 50 -->  0.48177083333333326\n"
     ]
    }
   ],
   "source": [
    "clf = SGDClassifier(max_iter = 50, learning_rate = 'constant', eta0 = 0.1).fit(X, Y)\n",
    "media_SKerroresA01P50pima = cross_val_score(clf, X, Y, cv=4,n_jobs=-1)\n",
    "print(\"Regresion logistica C = 0.1 y nEpocas = 50 --> \", 1 - media_SKerroresA01P50pima.mean())"
   ]
  },
  {
   "cell_type": "code",
   "execution_count": 203,
   "metadata": {},
   "outputs": [
    {
     "name": "stdout",
     "output_type": "stream",
     "text": [
      "Regresion logistica C = 0.1 y nEpocas = 100 -->  0.44010416666666663\n"
     ]
    }
   ],
   "source": [
    "clf = SGDClassifier(max_iter = 100, learning_rate = 'constant', eta0 = 0.1).fit(X, Y)\n",
    "media_SKerroresA01P100pima = cross_val_score(clf, X, Y, cv=4,n_jobs=-1)\n",
    "print(\"Regresion logistica C = 0.1 y nEpocas = 100 --> \", 1 - media_SKerroresA01P100pima.mean())"
   ]
  },
  {
   "cell_type": "code",
   "execution_count": 204,
   "metadata": {},
   "outputs": [
    {
     "name": "stdout",
     "output_type": "stream",
     "text": [
      "Regresion logistica C = 0.1 y nEpocas = 150 -->  0.37890625\n"
     ]
    }
   ],
   "source": [
    "clf = SGDClassifier(max_iter = 150, learning_rate = 'constant', eta0 = 0.1).fit(X, Y)\n",
    "media_SKerroresA01P150pima = cross_val_score(clf, X, Y, cv=4,n_jobs=-1)\n",
    "print(\"Regresion logistica C = 0.1 y nEpocas = 150 --> \", 1 - media_SKerroresA01P150pima.mean())"
   ]
  },
  {
   "cell_type": "code",
   "execution_count": 205,
   "metadata": {},
   "outputs": [
    {
     "name": "stdout",
     "output_type": "stream",
     "text": [
      "Regresion logistica C = 1 y nEpocas = 50 -->  0.42838541666666663\n"
     ]
    }
   ],
   "source": [
    "clf = SGDClassifier(max_iter = 50, learning_rate = 'constant', eta0 = 1).fit(X, Y)\n",
    "media_SKerroresA1P50pima = cross_val_score(clf, X, Y, cv=4,n_jobs=-1)\n",
    "print(\"Regresion logistica C = 1 y nEpocas = 50 --> \", 1 - media_SKerroresA1P50pima.mean())"
   ]
  },
  {
   "cell_type": "code",
   "execution_count": 206,
   "metadata": {},
   "outputs": [
    {
     "name": "stdout",
     "output_type": "stream",
     "text": [
      "Regresion logistica C = 1 y nEpocas = 100 -->  0.49348958333333337\n"
     ]
    }
   ],
   "source": [
    "clf = SGDClassifier(max_iter = 100, learning_rate = 'constant', eta0 = 1).fit(X, Y)\n",
    "media_SKerroresA1P100pima = cross_val_score(clf, X, Y, cv=4,n_jobs=-1)\n",
    "print(\"Regresion logistica C = 1 y nEpocas = 100 --> \", 1 - media_SKerroresA1P100pima.mean())"
   ]
  },
  {
   "cell_type": "code",
   "execution_count": 207,
   "metadata": {},
   "outputs": [
    {
     "name": "stdout",
     "output_type": "stream",
     "text": [
      "Regresion logistica C = 1 y nEpocas = 150 -->  0.3671875\n"
     ]
    }
   ],
   "source": [
    "clf = SGDClassifier(max_iter = 150, learning_rate = 'constant', eta0 = 1).fit(X, Y)\n",
    "media_SKerroresA1P150pima = cross_val_score(clf, X, Y, cv=4,n_jobs=-1)\n",
    "print(\"Regresion logistica C = 1 y nEpocas = 150 --> \", 1 - media_SKerroresA1P150pima.mean())"
   ]
  },
  {
   "cell_type": "markdown",
   "metadata": {},
   "source": [
    "## Tablas y Resultados"
   ]
  },
  {
   "cell_type": "code",
   "execution_count": 208,
   "metadata": {},
   "outputs": [
    {
     "name": "stdout",
     "output_type": "stream",
     "text": [
      "Tabla pima-indians-diabetes.data\n",
      "K Aprendizaje 50 Pasos  100 Pasos 150 pasos\n",
      "------------- -------- ---------- ---------\n",
      "         0.01    0.349      0.387     0.376\n",
      "          0.1    0.482       0.44     0.379\n",
      "          1.0    0.428      0.493     0.367\n"
     ]
    }
   ],
   "source": [
    "print(\"Tabla pima-indians-diabetes.data\")\n",
    "a = [0.01, 0.1, 1]\n",
    "b = [round(1 - media_SKerroresA001P50pima.mean(), 3), round(1 - media_SKerroresA01P50pima.mean(), 3), round(1 - media_SKerroresA1P50pima.mean(), 3)]\n",
    "c = [round(1 - media_SKerroresA001P100pima.mean(), 3), round(1 - media_SKerroresA01P100pima.mean(), 3), round(1 - media_SKerroresA1P100pima.mean(), 3)]\n",
    "d = [round(1 - media_SKerroresA001P150pima.mean(), 3), round(1 - media_SKerroresA01P150pima.mean(), 3), round(1 - media_SKerroresA1P150pima.mean(), 3)]\n",
    "t = Table([a, b, c, d], names=('K Aprendizaje', '50 Pasos', ' 100 Pasos', '150 pasos'))\n",
    "print(t)"
   ]
  },
  {
   "cell_type": "code",
   "execution_count": 209,
   "metadata": {},
   "outputs": [
    {
     "name": "stdout",
     "output_type": "stream",
     "text": [
      "Tabla wdbc.data\n",
      "K Aprendizaje 50 Pasos  100 Pasos 150 pasos\n",
      "------------- -------- ---------- ---------\n",
      "         0.01    0.179      0.095      0.14\n",
      "          0.1    0.155      0.232     0.144\n",
      "          1.0    0.174      0.192     0.134\n"
     ]
    }
   ],
   "source": [
    "print(\"Tabla wdbc.data\")\n",
    "a = [0.01, 0.1, 1]\n",
    "b = [round(1 - media_SKerroresA001P50wdbc.mean(), 3), round(1 - media_SKerroresA01P50wdbc.mean(), 3), round(1 - media_SKerroresA1P50wdbc.mean(), 3)]\n",
    "c = [round(1 - media_SKerroresA001P100wdbc.mean(), 3), round(1 - media_SKerroresA01P100wdbc.mean(), 3), round(1 - media_SKerroresA1P100wdbc.mean(), 3)]\n",
    "d = [round(1 - media_SKerroresA001P150wdbc.mean(), 3), round(1 - media_SKerroresA01P150wdbc.mean(), 3), round(1 - media_SKerroresA1P150wdbc.mean(), 3)]\n",
    "t = Table([a, b, c, d], names=('K Aprendizaje', '50 Pasos', ' 100 Pasos', '150 pasos'))\n",
    "print(t)"
   ]
  },
  {
   "cell_type": "markdown",
   "metadata": {},
   "source": [
    "## Regresión Logística Nuestra vs SKLearn"
   ]
  },
  {
   "cell_type": "markdown",
   "metadata": {},
   "source": [
    "Al comparar las tablas obtenidas utilizando la implementación de sk y la nuestra, no se pueden observar grandes diferencias. Algunas medias de error son mejores en nuestra implemnetación y otras son mejores en las obtenidas utilizando el clasificador de sk. Por lo tanto, no podemos sacar una conclusión a priori de cual de los clasificadores es mejor. Estos hechos suceden para los dos datasets que se nos proporcionan y para todas las combinaciones de ejecuciones que hemos realizado."
   ]
  }
 ],
 "metadata": {
  "kernelspec": {
   "display_name": "Python 3",
   "language": "python",
   "name": "python3"
  },
  "language_info": {
   "codemirror_mode": {
    "name": "ipython",
    "version": 3
   },
   "file_extension": ".py",
   "mimetype": "text/x-python",
   "name": "python",
   "nbconvert_exporter": "python",
   "pygments_lexer": "ipython3",
   "version": "3.8.3"
  }
 },
 "nbformat": 4,
 "nbformat_minor": 4
}
