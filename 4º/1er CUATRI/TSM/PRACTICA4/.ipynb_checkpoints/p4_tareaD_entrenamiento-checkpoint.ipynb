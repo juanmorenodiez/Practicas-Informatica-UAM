{
 "cells": [
  {
   "cell_type": "markdown",
   "metadata": {
    "id": "CJXJ_K9jyyTK"
   },
   "source": [
    "# Grado en Ingeniería de Tecnologías y Servicios de Telecomunicación / Grado en Ingeniería Informática\n",
    "### **Asignatura**: Tratamiento de Señales Visuales/Tratamiento de Señales Multimedia I\n",
    "### Práctica 4: Reconocimiento de escenas con Deep Learning\n",
    "\n",
    "---\n",
    "\n",
    "Autor: Juan C. SanMiguel (juancarlos.sanmiguel@uam.es), Universidad Autónoma de Madrid\n"
   ]
  },
  {
   "cell_type": "markdown",
   "metadata": {
    "id": "K02e8d23y0cH"
   },
   "source": [
    "# Entrenamiento red neuronal convolucional\n",
    "\n",
    "\n",
    "En este script interativo de python aprenderá a entrenar utilizando la API de alto nivel [Keras](https://www.tensorflow.org/api_docs/python/tf/keras) disponible para Tensorflow\n",
    "\n",
    "Tiempo estimado para completar este script: 35 minutos"
   ]
  },
  {
   "cell_type": "markdown",
   "metadata": {
    "id": "sA-x_l31zXnY"
   },
   "source": [
    "# 1.Preparación del entorno de trabajo\n",
    "\n",
    "A continuación tiene un conjunto de instrucciones para establecer el entorno de trabajo y descargar el dataset.\n",
    "\n",
    "* Verifique que la versión de Python es >3.6 y la versión de Tensorflow es 2.3.0\n",
    "\n",
    "* Adicionalmente procedemos a la descarga del dataset [Scenes15](http://www-vpu.eps.uam.es/~jcs/pub/scenes15.zip)  completo sin ninguna partición."
   ]
  },
  {
   "cell_type": "code",
   "execution_count": 1,
   "metadata": {
    "colab": {
     "base_uri": "https://localhost:8080/",
     "height": 1000
    },
    "id": "jqGQF0j1nqDU",
    "outputId": "bd6f5bcc-5330-4695-ae18-167b681a1934"
   },
   "outputs": [
    {
     "name": "stdout",
     "output_type": "stream",
     "text": [
      "Collecting tensorflow==2.3.0\n",
      "  Downloading tensorflow-2.3.0-cp37-cp37m-manylinux2010_x86_64.whl (320.4 MB)\n",
      "\u001b[K     |████████████████████████████████| 320.4 MB 44 kB/s \n",
      "\u001b[?25hRequirement already satisfied: scipy==1.4.1 in /usr/local/lib/python3.7/dist-packages (from tensorflow==2.3.0) (1.4.1)\n",
      "Requirement already satisfied: wheel>=0.26 in /usr/local/lib/python3.7/dist-packages (from tensorflow==2.3.0) (0.37.0)\n",
      "Collecting gast==0.3.3\n",
      "  Downloading gast-0.3.3-py2.py3-none-any.whl (9.7 kB)\n",
      "Requirement already satisfied: wrapt>=1.11.1 in /usr/local/lib/python3.7/dist-packages (from tensorflow==2.3.0) (1.13.3)\n",
      "Requirement already satisfied: opt-einsum>=2.3.2 in /usr/local/lib/python3.7/dist-packages (from tensorflow==2.3.0) (3.3.0)\n",
      "Requirement already satisfied: six>=1.12.0 in /usr/local/lib/python3.7/dist-packages (from tensorflow==2.3.0) (1.15.0)\n",
      "Collecting numpy<1.19.0,>=1.16.0\n",
      "  Downloading numpy-1.18.5-cp37-cp37m-manylinux1_x86_64.whl (20.1 MB)\n",
      "\u001b[K     |████████████████████████████████| 20.1 MB 1.3 MB/s \n",
      "\u001b[?25hRequirement already satisfied: keras-preprocessing<1.2,>=1.1.1 in /usr/local/lib/python3.7/dist-packages (from tensorflow==2.3.0) (1.1.2)\n",
      "Collecting h5py<2.11.0,>=2.10.0\n",
      "  Downloading h5py-2.10.0-cp37-cp37m-manylinux1_x86_64.whl (2.9 MB)\n",
      "\u001b[K     |████████████████████████████████| 2.9 MB 35.3 MB/s \n",
      "\u001b[?25hRequirement already satisfied: grpcio>=1.8.6 in /usr/local/lib/python3.7/dist-packages (from tensorflow==2.3.0) (1.42.0)\n",
      "Requirement already satisfied: google-pasta>=0.1.8 in /usr/local/lib/python3.7/dist-packages (from tensorflow==2.3.0) (0.2.0)\n",
      "Requirement already satisfied: termcolor>=1.1.0 in /usr/local/lib/python3.7/dist-packages (from tensorflow==2.3.0) (1.1.0)\n",
      "Requirement already satisfied: protobuf>=3.9.2 in /usr/local/lib/python3.7/dist-packages (from tensorflow==2.3.0) (3.17.3)\n",
      "Requirement already satisfied: astunparse==1.6.3 in /usr/local/lib/python3.7/dist-packages (from tensorflow==2.3.0) (1.6.3)\n",
      "Collecting tensorflow-estimator<2.4.0,>=2.3.0\n",
      "  Downloading tensorflow_estimator-2.3.0-py2.py3-none-any.whl (459 kB)\n",
      "\u001b[K     |████████████████████████████████| 459 kB 47.3 MB/s \n",
      "\u001b[?25hRequirement already satisfied: absl-py>=0.7.0 in /usr/local/lib/python3.7/dist-packages (from tensorflow==2.3.0) (0.12.0)\n",
      "Requirement already satisfied: tensorboard<3,>=2.3.0 in /usr/local/lib/python3.7/dist-packages (from tensorflow==2.3.0) (2.7.0)\n",
      "Requirement already satisfied: google-auth-oauthlib<0.5,>=0.4.1 in /usr/local/lib/python3.7/dist-packages (from tensorboard<3,>=2.3.0->tensorflow==2.3.0) (0.4.6)\n",
      "Requirement already satisfied: google-auth<3,>=1.6.3 in /usr/local/lib/python3.7/dist-packages (from tensorboard<3,>=2.3.0->tensorflow==2.3.0) (1.35.0)\n",
      "Requirement already satisfied: tensorboard-data-server<0.7.0,>=0.6.0 in /usr/local/lib/python3.7/dist-packages (from tensorboard<3,>=2.3.0->tensorflow==2.3.0) (0.6.1)\n",
      "Requirement already satisfied: tensorboard-plugin-wit>=1.6.0 in /usr/local/lib/python3.7/dist-packages (from tensorboard<3,>=2.3.0->tensorflow==2.3.0) (1.8.0)\n",
      "Requirement already satisfied: werkzeug>=0.11.15 in /usr/local/lib/python3.7/dist-packages (from tensorboard<3,>=2.3.0->tensorflow==2.3.0) (1.0.1)\n",
      "Requirement already satisfied: requests<3,>=2.21.0 in /usr/local/lib/python3.7/dist-packages (from tensorboard<3,>=2.3.0->tensorflow==2.3.0) (2.23.0)\n",
      "Requirement already satisfied: markdown>=2.6.8 in /usr/local/lib/python3.7/dist-packages (from tensorboard<3,>=2.3.0->tensorflow==2.3.0) (3.3.6)\n",
      "Requirement already satisfied: setuptools>=41.0.0 in /usr/local/lib/python3.7/dist-packages (from tensorboard<3,>=2.3.0->tensorflow==2.3.0) (57.4.0)\n",
      "Requirement already satisfied: cachetools<5.0,>=2.0.0 in /usr/local/lib/python3.7/dist-packages (from google-auth<3,>=1.6.3->tensorboard<3,>=2.3.0->tensorflow==2.3.0) (4.2.4)\n",
      "Requirement already satisfied: pyasn1-modules>=0.2.1 in /usr/local/lib/python3.7/dist-packages (from google-auth<3,>=1.6.3->tensorboard<3,>=2.3.0->tensorflow==2.3.0) (0.2.8)\n",
      "Requirement already satisfied: rsa<5,>=3.1.4 in /usr/local/lib/python3.7/dist-packages (from google-auth<3,>=1.6.3->tensorboard<3,>=2.3.0->tensorflow==2.3.0) (4.7.2)\n",
      "Requirement already satisfied: requests-oauthlib>=0.7.0 in /usr/local/lib/python3.7/dist-packages (from google-auth-oauthlib<0.5,>=0.4.1->tensorboard<3,>=2.3.0->tensorflow==2.3.0) (1.3.0)\n",
      "Requirement already satisfied: importlib-metadata>=4.4 in /usr/local/lib/python3.7/dist-packages (from markdown>=2.6.8->tensorboard<3,>=2.3.0->tensorflow==2.3.0) (4.8.2)\n",
      "Requirement already satisfied: typing-extensions>=3.6.4 in /usr/local/lib/python3.7/dist-packages (from importlib-metadata>=4.4->markdown>=2.6.8->tensorboard<3,>=2.3.0->tensorflow==2.3.0) (3.10.0.2)\n",
      "Requirement already satisfied: zipp>=0.5 in /usr/local/lib/python3.7/dist-packages (from importlib-metadata>=4.4->markdown>=2.6.8->tensorboard<3,>=2.3.0->tensorflow==2.3.0) (3.6.0)\n",
      "Requirement already satisfied: pyasn1<0.5.0,>=0.4.6 in /usr/local/lib/python3.7/dist-packages (from pyasn1-modules>=0.2.1->google-auth<3,>=1.6.3->tensorboard<3,>=2.3.0->tensorflow==2.3.0) (0.4.8)\n",
      "Requirement already satisfied: idna<3,>=2.5 in /usr/local/lib/python3.7/dist-packages (from requests<3,>=2.21.0->tensorboard<3,>=2.3.0->tensorflow==2.3.0) (2.10)\n",
      "Requirement already satisfied: urllib3!=1.25.0,!=1.25.1,<1.26,>=1.21.1 in /usr/local/lib/python3.7/dist-packages (from requests<3,>=2.21.0->tensorboard<3,>=2.3.0->tensorflow==2.3.0) (1.24.3)\n",
      "Requirement already satisfied: certifi>=2017.4.17 in /usr/local/lib/python3.7/dist-packages (from requests<3,>=2.21.0->tensorboard<3,>=2.3.0->tensorflow==2.3.0) (2021.10.8)\n",
      "Requirement already satisfied: chardet<4,>=3.0.2 in /usr/local/lib/python3.7/dist-packages (from requests<3,>=2.21.0->tensorboard<3,>=2.3.0->tensorflow==2.3.0) (3.0.4)\n",
      "Requirement already satisfied: oauthlib>=3.0.0 in /usr/local/lib/python3.7/dist-packages (from requests-oauthlib>=0.7.0->google-auth-oauthlib<0.5,>=0.4.1->tensorboard<3,>=2.3.0->tensorflow==2.3.0) (3.1.1)\n",
      "Installing collected packages: numpy, tensorflow-estimator, h5py, gast, tensorflow\n",
      "  Attempting uninstall: numpy\n",
      "    Found existing installation: numpy 1.19.5\n",
      "    Uninstalling numpy-1.19.5:\n",
      "      Successfully uninstalled numpy-1.19.5\n",
      "  Attempting uninstall: tensorflow-estimator\n",
      "    Found existing installation: tensorflow-estimator 2.7.0\n",
      "    Uninstalling tensorflow-estimator-2.7.0:\n",
      "      Successfully uninstalled tensorflow-estimator-2.7.0\n",
      "  Attempting uninstall: h5py\n",
      "    Found existing installation: h5py 3.1.0\n",
      "    Uninstalling h5py-3.1.0:\n",
      "      Successfully uninstalled h5py-3.1.0\n",
      "  Attempting uninstall: gast\n",
      "    Found existing installation: gast 0.4.0\n",
      "    Uninstalling gast-0.4.0:\n",
      "      Successfully uninstalled gast-0.4.0\n",
      "  Attempting uninstall: tensorflow\n",
      "    Found existing installation: tensorflow 2.7.0\n",
      "    Uninstalling tensorflow-2.7.0:\n",
      "      Successfully uninstalled tensorflow-2.7.0\n",
      "\u001b[31mERROR: pip's dependency resolver does not currently take into account all the packages that are installed. This behaviour is the source of the following dependency conflicts.\n",
      "datascience 0.10.6 requires folium==0.2.1, but you have folium 0.8.3 which is incompatible.\n",
      "albumentations 0.1.12 requires imgaug<0.2.7,>=0.2.5, but you have imgaug 0.2.9 which is incompatible.\u001b[0m\n",
      "Successfully installed gast-0.3.3 h5py-2.10.0 numpy-1.18.5 tensorflow-2.3.0 tensorflow-estimator-2.3.0\n"
     ]
    },
    {
     "data": {
      "application/vnd.colab-display-data+json": {
       "pip_warning": {
        "packages": [
         "numpy"
        ]
       }
      }
     },
     "metadata": {},
     "output_type": "display_data"
    },
    {
     "name": "stdout",
     "output_type": "stream",
     "text": [
      "Python 3.7.12\n",
      "Tensorflow 2.3.0\n"
     ]
    }
   ],
   "source": [
    "#%%capture\n",
    "#%tensorflow_version 2.x\n",
    "!pip install tensorflow==2.3.0\n",
    "import tensorflow as tf\n",
    "import os, subprocess\n",
    "!python --version                     # mostrar version de python\n",
    "print('Tensorflow ' + tf.__version__) # mostrar version tensorflow"
   ]
  },
  {
   "cell_type": "code",
   "execution_count": 1,
   "metadata": {
    "colab": {
     "base_uri": "https://localhost:8080/"
    },
    "id": "EPdpMHDbXyNV",
    "outputId": "66d86181-d0d4-4c18-fe18-8bd265811cb7"
   },
   "outputs": [
    {
     "name": "stdout",
     "output_type": "stream",
     "text": [
      "Mounted at /content/gdrive\n",
      "El dataset se encuentra descargado en el directorio /content/gdrive/My Drive/dwld_dir \n",
      "y descomprimido en el directorio /content/work_dir (usado para lectura de datos)\n"
     ]
    }
   ],
   "source": [
    "import os, subprocess\n",
    "\n",
    "# Montar Google Drive y crear carpetas\n",
    "from google.colab import drive\n",
    "drive.mount('/content/gdrive', force_remount=True)\n",
    "\n",
    "work_dir = '/content/work_dir'                    # directorio de trabajo en local (mas rapido)\n",
    "dwld_dir = '/content/gdrive/My Drive/dwld_dir'    # directorio de descarga en Google drive personal\n",
    "subprocess.call([\"mkdir\",\"-p\",work_dir])          # crear directorio para trabajo\n",
    "subprocess.call([\"mkdir\",\"-p\",dwld_dir+'/dataset/'])  # crear directorio para dataset\n",
    "\n",
    "os.chdir(dwld_dir+'/dataset/')                        # posicionarse en el directorio\n",
    "# Descargar dataset scenes15 si no esta disponible\n",
    "if os.path.isfile('./dataset_scenes15.zip') == False: \n",
    "  !wget http://www-vpu.eps.uam.es/~jcs/tsv/dataset_scenes15.zip \n",
    "  \n",
    "# Copiar el dataset al directorio local (mayor velocidad de lectura que en Gdrive)\n",
    "!cp /content/gdrive/My\\ Drive/dwld_dir/dataset/dataset_scenes15.zip /content/work_dir/\n",
    "\n",
    "os.chdir(work_dir)                        # posicionarse en el directorio\n",
    "if os.path.isdir('./scenes15') == False: \n",
    "  !unzip -o -q dataset_scenes15.zip -d .\n",
    "\n",
    "print('El dataset se encuentra descargado en el directorio {} \\ny descomprimido en el directorio {} (usado para lectura de datos)'.format(dwld_dir, work_dir))"
   ]
  },
  {
   "cell_type": "markdown",
   "metadata": {
    "id": "rowN1rXsT0tA"
   },
   "source": [
    "# 2.Seleccionar Hardware\n",
    "Antes de comenzar el entrenamiento, debemos seleccionar que recursos hardware queremos utilizar para realizar los cálculos. \n",
    "\n",
    "Tensorflow permite ejecutar nuestras instrucciones utilizando la CPU (Central Processing Unit) y la GPU (Graphics Processing Unit). Para redes con múltiples capas, se recomienda utilizar la GPU por su alta capacidad de paralelización.\n",
    "\n",
    "Con el siguiente código puede ver los recursos disponibles y seleccionar el hardware:"
   ]
  },
  {
   "cell_type": "code",
   "execution_count": 2,
   "metadata": {
    "colab": {
     "base_uri": "https://localhost:8080/"
    },
    "id": "inQhk_Ks5kNx",
    "outputId": "78b6ea67-40dd-4f36-e4af-cb9ab8734dee"
   },
   "outputs": [
    {
     "name": "stdout",
     "output_type": "stream",
     "text": [
      "Num CPUs disponibles:  1\n",
      "Num GPUs disponibles:  1\n",
      "Tiempo ejecución CPU 1.825394630432129 secs y GPU 3.1111927032470703 secs\n",
      "Ejecute varias veces este bloque de código pues la primera vez no observará diferencias debido a que se deben inicializar los registros para la CPU y GPU\n"
     ]
    }
   ],
   "source": [
    "import tensorflow as tf\n",
    "import time\n",
    "\n",
    "print(\"Num CPUs disponibles: \", len(tf.config.experimental.list_physical_devices('CPU')))\n",
    "print(\"Num GPUs disponibles: \", len(tf.config.experimental.list_physical_devices('GPU')))\n",
    "\n",
    "time1 = time.time() # medida de tiempo\n",
    "\n",
    "# ejecutar en CPU\n",
    "with tf.device('/CPU:0'):\n",
    "  random_image_cpu = tf.random.normal((100, 100, 100, 3))\n",
    "  net_cpu = tf.keras.layers.Conv2D(128, 7)(random_image_cpu)\n",
    "\n",
    "time2 = time.time() # medida de tiempo\n",
    "\n",
    "# ejecutar en GPU\n",
    "with tf.device('/device:GPU:0'):\n",
    "  random_image_cpu = tf.random.normal((100, 100, 100, 3))\n",
    "  net_cpu = tf.keras.layers.Conv2D(128, 7)(random_image_cpu)\n",
    "\n",
    "time3 = time.time() # medida de tiempo\n",
    "print('Tiempo ejecución CPU {} secs y GPU {} secs' .format(time2-time1, time3-time2))\n",
    "print('Ejecute varias veces este bloque de código pues la primera vez no observará diferencias debido a que se deben inicializar los registros para la CPU y GPU')"
   ]
  },
  {
   "cell_type": "markdown",
   "metadata": {
    "id": "wZ-Lgx62UpLV"
   },
   "source": [
    "# 3.Crear iterador para los datos del dataset\n",
    "El siguiente paso es obtener un iterador sobre los datos del dataset. Como ya se ha visto anteriormente, utilizaremos la funcionalidad ```tf.keras.preprocessing.image.ImageDataGenerator``` [documentación](https://www.tensorflow.org/api_docs/python/tf/keras/preprocessing/image/ImageDataGenerator)"
   ]
  },
  {
   "cell_type": "code",
   "execution_count": 3,
   "metadata": {
    "colab": {
     "base_uri": "https://localhost:8080/"
    },
    "id": "H7mraO4hXMdT",
    "outputId": "528d1a43-d1fe-4a4f-99a2-fd7a249c4b3d"
   },
   "outputs": [
    {
     "name": "stdout",
     "output_type": "stream",
     "text": [
      "Found 3592 images belonging to 15 classes.\n",
      "Found 893 images belonging to 15 classes.\n"
     ]
    }
   ],
   "source": [
    "import tensorflow as tf\n",
    "import pathlib\n",
    "import numpy as np\n",
    "\n",
    "dataset_dir = pathlib.Path(work_dir + '/scenes15/')\n",
    "\n",
    "# Obtener etiquetas de clase y numero de clases\n",
    "CLASS_NAMES = np.array([item.name for item in dataset_dir.glob('*')]) #clases son subdirectorios de '/train/'\n",
    "NUM_CLASSES = len(CLASS_NAMES) # numero total de clases\n",
    " \n",
    "# Crear ImageDataGenerator convirtiendo de uint8 a float32 en el rango [0,1].\n",
    "img_gen = tf.keras.preprocessing.image.ImageDataGenerator(rescale=1./255, validation_split=0.20)\n",
    "\n",
    "# Obtenemos un iterador sobre los datos de entrenamiento del dataset\n",
    "# aplicando el ImageDataGenerator creado anteriormente\n",
    "BATCH_SIZE = 16 # numero de elementos procesados conjuntamente en cada iteracion\n",
    "IMG_HEIGHT = 32\n",
    "IMG_WIDTH = 32\n",
    "IMG_CHANNELS = 3\n",
    "train_data_gen = img_gen.flow_from_directory(directory=str(dataset_dir),\n",
    "                                          target_size=(IMG_HEIGHT, IMG_WIDTH),\n",
    "                                          color_mode='rgb',                                                     \n",
    "                                          classes = list(CLASS_NAMES),\n",
    "                                          class_mode='categorical',\n",
    "                                          batch_size=BATCH_SIZE, \n",
    "                                          subset=\"training\",                                         \n",
    "                                          shuffle=True,\n",
    "                                          seed=0)\n",
    "\n",
    "test_data_gen = img_gen.flow_from_directory(directory=str(dataset_dir),\n",
    "                                          target_size=(IMG_HEIGHT, IMG_WIDTH),\n",
    "                                          color_mode='rgb',                                                     \n",
    "                                          classes = list(CLASS_NAMES),\n",
    "                                          class_mode='categorical',\n",
    "                                          batch_size=BATCH_SIZE,\n",
    "                                          subset=\"validation\",\n",
    "                                          shuffle=True,\n",
    "                                          seed=0)\n"
   ]
  },
  {
   "cell_type": "markdown",
   "metadata": {
    "id": "1VKYSbgdVegf"
   },
   "source": [
    "# 4.Definir red \n",
    "Posteriormente definimos la red utilizando la funcionalidad ```tensorflow.keras.model``` [[documentación]](https://www.tensorflow.org/api_docs/python/tf/keras/Model) y la funcionalidad ```tf.keras.layers``` [documentación](https://www.tensorflow.org/api_docs/python/tf/keras/layers), descrita anteriormente."
   ]
  },
  {
   "cell_type": "code",
   "execution_count": 4,
   "metadata": {
    "colab": {
     "base_uri": "https://localhost:8080/"
    },
    "id": "mdbLEOLDVY5R",
    "outputId": "70d71846-d972-4fc6-e60a-885591a9358c"
   },
   "outputs": [
    {
     "name": "stdout",
     "output_type": "stream",
     "text": [
      "Model: \"sequential\"\n",
      "_________________________________________________________________\n",
      "Layer (type)                 Output Shape              Param #   \n",
      "=================================================================\n",
      "conv2d_2 (Conv2D)            (None, 30, 30, 6)         168       \n",
      "_________________________________________________________________\n",
      "average_pooling2d (AveragePo (None, 15, 15, 6)         0         \n",
      "_________________________________________________________________\n",
      "conv2d_3 (Conv2D)            (None, 13, 13, 16)        880       \n",
      "_________________________________________________________________\n",
      "average_pooling2d_1 (Average (None, 6, 6, 16)          0         \n",
      "_________________________________________________________________\n",
      "flatten (Flatten)            (None, 576)               0         \n",
      "_________________________________________________________________\n",
      "dense (Dense)                (None, 120)               69240     \n",
      "_________________________________________________________________\n",
      "dense_1 (Dense)              (None, 84)                10164     \n",
      "_________________________________________________________________\n",
      "dense_2 (Dense)              (None, 15)                1275      \n",
      "=================================================================\n",
      "Total params: 81,727\n",
      "Trainable params: 81,727\n",
      "Non-trainable params: 0\n",
      "_________________________________________________________________\n"
     ]
    }
   ],
   "source": [
    "import tensorflow.keras.layers as layers\n",
    "import tensorflow.keras.models as models\n",
    "\n",
    "# definir modelo de red\n",
    "model = models.Sequential()\n",
    "\n",
    "# incluir capa convolucional C1\n",
    "model.add(layers.Conv2D(filters=6, \n",
    "                        kernel_size=(3, 3), \n",
    "                        strides = (1,1),\n",
    "                        padding = 'valid',\n",
    "                        activation='relu', \n",
    "                        input_shape=(IMG_HEIGHT,IMG_WIDTH,IMG_CHANNELS)))\n",
    "\n",
    "# incluir average pooling S2\n",
    "model.add(layers.AveragePooling2D())\n",
    "\n",
    "# incluir capa convolucional C3\n",
    "model.add(layers.Conv2D(filters=16, \n",
    "                        kernel_size=(3, 3),\n",
    "                        strides = (1,1),\n",
    "                        padding = 'valid', \n",
    "                        activation='relu'))\n",
    "\n",
    "# incluir average pooling S4\n",
    "model.add(layers.AveragePooling2D())\n",
    "\n",
    "# convertir el volumen de datos en vector fila para conectarlo con capa FC\n",
    "model.add(layers.Flatten())\n",
    "\n",
    "# incluir fully convolutional F5\n",
    "model.add(layers.Dense(units=120, activation='relu'))\n",
    "\n",
    "# incluir fully convolutional F6\n",
    "model.add(layers.Dense(units=84, activation='relu'))\n",
    "\n",
    "# incluir salida OUTPUT\n",
    "model.add(layers.Dense(units=NUM_CLASSES, activation = 'softmax'))\n",
    "\n",
    "\n",
    "# mostar resumen\n",
    "model.summary()"
   ]
  },
  {
   "cell_type": "markdown",
   "metadata": {
    "id": "64KB6K9TWvBt"
   },
   "source": [
    "#5.Definir parámetros de optimización\n",
    "La siguiente etapa consiste en detallar los parámetros que van a definir la optimización a realizar.\n",
    "\n",
    "Para esta tarea utilizaremos la funcionalidad ```tensorflow.keras.model``` [[documentación]](https://www.tensorflow.org/api_docs/python/tf/keras/Model) y en concreto el método ```tensorflow.keras.model.compile``` [[documentacion]](https://www.tensorflow.org/api_docs/python/tf/keras/Model#compile)\n",
    "\n",
    "El método ```tensorflow.keras.model.compile``` tiene los siguientes argumentos principales:\n",
    "* **optimizer**: string que indica el nombre del optimizado seleccionado (que se utilizará con valores por defecto).  También puede ser un objeto optimizador con valores específicos. Puede consultar la lista de optimizadores disponibles [[aquí]](https://www.tensorflow.org/api_docs/python/tf/keras/optimizers).\n",
    "\n",
    "* **loss**: string que indica el tipo de función objetivo a utilizar. Puede consultar la lista de opciones disponibles [[aquí]](https://www.tensorflow.org/api_docs/python/tf/losses).\n",
    "* **metrics**: lista de métricas para evaluar el modelo durante entrenamiento y test.\n",
    "\n",
    "A continuación se muestra un ejemplo para definir estos parámetros.\n",
    "\n",
    "\n",
    "\n"
   ]
  },
  {
   "cell_type": "code",
   "execution_count": 5,
   "metadata": {
    "id": "THDbaZlFWvbG"
   },
   "outputs": [],
   "source": [
    "import tensorflow.keras.optimizers as optimizers\n",
    "\n",
    "# definicion con optimizador con valores definidos por el usuario\n",
    "LEARNING_RATE = 0.01 # factor de aprendizaje\n",
    "model.compile(optimizer=optimizers.SGD(lr=LEARNING_RATE),            \n",
    "            loss='categorical_crossentropy',            \n",
    "            metrics=['accuracy'])"
   ]
  },
  {
   "cell_type": "markdown",
   "metadata": {
    "id": "v3NBmp_DZnl_"
   },
   "source": [
    "# 6.Ejecución del entrenamiento\n",
    "Finalmente, procedemos a realizar el entrenamiento utilizando la funcionalidad ```tensorflow.keras.model``` [[documentación]](https://www.tensorflow.org/api_docs/python/tf/keras/Model) y en concreto el método ```tensorflow.keras.model.fit_generator``` [[documentacion]](https://www.tensorflow.org/api_docs/python/tf/keras/Model#fit_generator). \n",
    "\n",
    "\n",
    "Adicionalmente, este método permite definir un conjunto de validación que se evalua al terminar cada época. En este caso utilizaremos el conjunto de test que nos permitirá comprender mejor el proceso de entrenamiento.\n",
    "\n",
    "El tiempo estimado para completar el entrenamiento con EPOCHS=10 es ~70 secs (GPU) y ~100 secs (CPU)."
   ]
  },
  {
   "cell_type": "code",
   "execution_count": 6,
   "metadata": {
    "colab": {
     "base_uri": "https://localhost:8080/"
    },
    "id": "JLEZA2yhmqW1",
    "outputId": "e30042eb-3c19-4ef0-b1aa-db8836ffcaf5"
   },
   "outputs": [
    {
     "name": "stdout",
     "output_type": "stream",
     "text": [
      "WARNING:tensorflow:From <ipython-input-6-cfef27e7350d>:17: Model.fit_generator (from tensorflow.python.keras.engine.training) is deprecated and will be removed in a future version.\n",
      "Instructions for updating:\n",
      "Please use Model.fit, which supports generators.\n",
      "Epoch 1/10\n",
      "224/224 [==============================] - 5s 24ms/step - loss: 2.6921 - accuracy: 0.0948 - val_loss: 2.6670 - val_accuracy: 0.0932\n",
      "Epoch 2/10\n",
      "224/224 [==============================] - 5s 22ms/step - loss: 2.6465 - accuracy: 0.1133 - val_loss: 2.6160 - val_accuracy: 0.1318\n",
      "Epoch 3/10\n",
      "224/224 [==============================] - 5s 22ms/step - loss: 2.5801 - accuracy: 0.1451 - val_loss: 2.6265 - val_accuracy: 0.1227\n",
      "Epoch 4/10\n",
      "224/224 [==============================] - 5s 22ms/step - loss: 2.5348 - accuracy: 0.1644 - val_loss: 2.5631 - val_accuracy: 0.1682\n",
      "Epoch 5/10\n",
      "224/224 [==============================] - 5s 22ms/step - loss: 2.4956 - accuracy: 0.1793 - val_loss: 2.5493 - val_accuracy: 0.1830\n",
      "Epoch 6/10\n",
      "224/224 [==============================] - 5s 22ms/step - loss: 2.4653 - accuracy: 0.1893 - val_loss: 2.5251 - val_accuracy: 0.2057\n",
      "Epoch 7/10\n",
      "224/224 [==============================] - 5s 22ms/step - loss: 2.4364 - accuracy: 0.2039 - val_loss: 2.5120 - val_accuracy: 0.2000\n",
      "Epoch 8/10\n",
      "224/224 [==============================] - 5s 22ms/step - loss: 2.4053 - accuracy: 0.2190 - val_loss: 2.5275 - val_accuracy: 0.1568\n",
      "Epoch 9/10\n",
      "224/224 [==============================] - 5s 22ms/step - loss: 2.3815 - accuracy: 0.2206 - val_loss: 2.4512 - val_accuracy: 0.2216\n",
      "Epoch 10/10\n",
      "224/224 [==============================] - 5s 22ms/step - loss: 2.3417 - accuracy: 0.2360 - val_loss: 2.4618 - val_accuracy: 0.2216\n",
      "Entrenamiento terminado 50.97988152503967 secs\n"
     ]
    }
   ],
   "source": [
    "import time\n",
    "stime = time.time() # medida inicial de tiempo\n",
    "\n",
    "EPOCHS = 10 # numero de epocas para entrenamiento\n",
    "\n",
    "#si tiene problemas al ejecutar con la GPU, \n",
    "# descomente la siguiente linea para utilizar la CPU\n",
    "# y comente la linea que selecciona la GPU\n",
    "#with tf.device('/CPU:0'):\n",
    "with tf.device('/GPU:0'):\n",
    "  history = model.fit_generator(\n",
    "      generator=train_data_gen,          \n",
    "      steps_per_epoch=train_data_gen.n // BATCH_SIZE,      \n",
    "      validation_data=test_data_gen,\n",
    "      validation_steps=test_data_gen.n // BATCH_SIZE,\n",
    "      epochs=EPOCHS,\n",
    "      verbose=1     \n",
    "  )  \n",
    "      \n",
    "ftime = time.time() # medida final de tiempo\n",
    "print('Entrenamiento terminado {} secs' .format(ftime-stime))"
   ]
  },
  {
   "cell_type": "markdown",
   "metadata": {
    "id": "sypzcICZeIzD"
   },
   "source": [
    "#7.Ejecucion de test\n",
    "Para evaluar los datos de test, también utilizaremos la funcionalidad ```tensorflow.keras.model``` [[documentación]](https://www.tensorflow.org/api_docs/python/tf/keras/Model) y en concreto el método ```tensorflow.keras.model.evaluate_generator``` [[documentacion]](https://www.tensorflow.org/api_docs/python/tf/keras/Model#evaluate_generator). \n",
    "\n",
    "El tiempo estimado para completar el test es de ~8 secs (GPU). Este método es muy sencillo de utilizar:\n"
   ]
  },
  {
   "cell_type": "code",
   "execution_count": 7,
   "metadata": {
    "colab": {
     "base_uri": "https://localhost:8080/"
    },
    "id": "VFRJ2PBCeLD2",
    "outputId": "9fadde61-7467-4068-a6f0-1da92035ace5"
   },
   "outputs": [
    {
     "name": "stdout",
     "output_type": "stream",
     "text": [
      "WARNING:tensorflow:From <ipython-input-7-066510aecb49>:11: Model.evaluate_generator (from tensorflow.python.keras.engine.training) is deprecated and will be removed in a future version.\n",
      "Instructions for updating:\n",
      "Please use Model.evaluate, which supports generators.\n",
      "55/55 [==============================] - 1s 18ms/step - loss: 2.4678 - accuracy: 0.2193\n",
      "Test terminado 1.0841748714447021 secs\n"
     ]
    }
   ],
   "source": [
    "import time\n",
    "stime = time.time() # medida inicial de tiempo\n",
    "\n",
    "#si tiene problemas al ejecutar con la GPU, \n",
    "# descomente la siguiente linea para utilizar la CPU\n",
    "# y comente la linea que selecciona la GPU\n",
    "#with tf.device('/CPU:0'):\n",
    "with tf.device('/GPU:0'):\n",
    "  test_loss, test_acc = model.evaluate_generator(generator=test_data_gen, \n",
    "                                                 steps = test_data_gen.n // BATCH_SIZE, \n",
    "                                                 verbose=1)\n",
    "  \n",
    "ftime = time.time() # medida final de tiempo\n",
    "print('Test terminado {} secs' .format(ftime-stime))"
   ]
  },
  {
   "cell_type": "markdown",
   "metadata": {
    "id": "ibB5xMW2eiLa"
   },
   "source": [
    "#8.Visualización de resultados\n",
    "\n",
    "Para visualizar los resultados de cada época de manera grafica, utilizaremos el paquete ```matplotlib.pyplot```\n",
    "\n",
    "Primeramente extraemos los resultados del proceso de entrenamiento, que hemos almacenado en la variable `history` devuelta por la función \n",
    "`model.fit_generator`"
   ]
  },
  {
   "cell_type": "code",
   "execution_count": 8,
   "metadata": {
    "id": "r-8-E7goeauN"
   },
   "outputs": [],
   "source": [
    "# rendimiento\n",
    "acc = history.history['accuracy']         #entrenamiento\n",
    "val_acc = history.history['val_accuracy'] #validacion\n",
    "\n",
    "# funcion de perdidas\n",
    "loss = history.history['loss']            #entrenamiento\n",
    "val_loss = history.history['val_loss']    #validacion"
   ]
  },
  {
   "cell_type": "markdown",
   "metadata": {
    "id": "MA24QAhCfNWD"
   },
   "source": [
    "Después pintamos los resultados:"
   ]
  },
  {
   "cell_type": "code",
   "execution_count": 9,
   "metadata": {
    "colab": {
     "base_uri": "https://localhost:8080/",
     "height": 513
    },
    "id": "g2iFM4CTfM99",
    "outputId": "d754cd93-4700-41da-de71-b55e2420519f"
   },
   "outputs": [
    {
     "data": {
      "image/png": "[encoded data removed]",
      "text/plain": [
       "<Figure size 576x576 with 2 Axes>"
      ]
     },
     "metadata": {
      "needs_background": "light"
     },
     "output_type": "display_data"
    }
   ],
   "source": [
    "import matplotlib.pyplot as plt\n",
    "\n",
    "plt.figure(figsize=(8, 8))\n",
    "plt.subplot(2,1, 1)\n",
    "plt.plot(range(EPOCHS), acc, label='Rendimiento train (accuracy)')\n",
    "plt.plot(range(EPOCHS), val_acc, label='Rendimiento validacion (accuracy)')\n",
    "plt.legend(loc='upper left')\n",
    "plt.title('Training and Validation Accuracy')\n",
    "\n",
    "plt.subplot(2,1, 2)\n",
    "plt.plot(range(EPOCHS), loss, label='Pérdidas entrenamiento (Loss)')\n",
    "plt.plot(range(EPOCHS), val_loss, label='Pérdidas validacion (Loss)')\n",
    "plt.legend(loc='upper left')\n",
    "plt.title('Training and Validation Loss')\n",
    "plt.xlabel('# epoca')\n",
    "\n",
    "plt.show()"
   ]
  },
  {
   "cell_type": "markdown",
   "metadata": {
    "id": "M_5l9-mgrcbI"
   },
   "source": [
    "#9.Guardar resultados\n",
    "En esta última sección, le mostraremos como puede guardar resultados:"
   ]
  },
  {
   "cell_type": "code",
   "execution_count": 10,
   "metadata": {
    "colab": {
     "base_uri": "https://localhost:8080/"
    },
    "id": "l5EiIsVxriv9",
    "outputId": "bdf66048-3ac9-43a0-8635-ebed8efb226d"
   },
   "outputs": [
    {
     "name": "stdout",
     "output_type": "stream",
     "text": [
      "WARNING:tensorflow:From /usr/local/lib/python3.7/dist-packages/tensorflow/python/training/tracking/tracking.py:111: Model.state_updates (from tensorflow.python.keras.engine.training) is deprecated and will be removed in a future version.\n",
      "Instructions for updating:\n",
      "This property should not be used in TensorFlow 2.0, as updates are applied automatically.\n",
      "WARNING:tensorflow:From /usr/local/lib/python3.7/dist-packages/tensorflow/python/training/tracking/tracking.py:111: Layer.updates (from tensorflow.python.keras.engine.base_layer) is deprecated and will be removed in a future version.\n",
      "Instructions for updating:\n",
      "This property should not be used in TensorFlow 2.0, as updates are applied automatically.\n",
      "INFO:tensorflow:Assets written to: /content/gdrive/My Drive/dwld_dir/my_models/assets\n"
     ]
    }
   ],
   "source": [
    "#guardar el modelo de red obtenido\n",
    "#https://www.tensorflow.org/api_docs/python/tf/keras/Model\n",
    "#https://www.tensorflow.org/tutorials/keras/save_and_load\n",
    "os.chdir(dwld_dir)  \n",
    "save_dir = dwld_dir + '/my_models'\n",
    "subprocess.call([\"mkdir\",\"-p\",save_dir])  # crear directorio para guardar modelo\n",
    "model.save(\n",
    "    save_dir,\n",
    "    overwrite=True,\n",
    "    include_optimizer=True,\n",
    ")"
   ]
  }
 ],
 "metadata": {
  "accelerator": "GPU",
  "colab": {
   "collapsed_sections": [],
   "name": "Copia de p4_tareaD_entrenamiento.ipynb",
   "provenance": [],
   "toc_visible": true
  },
  "kernelspec": {
   "display_name": "Python 3 (ipykernel)",
   "language": "python",
   "name": "python3"
  },
  "language_info": {
   "codemirror_mode": {
    "name": "ipython",
    "version": 3
   },
   "file_extension": ".py",
   "mimetype": "text/x-python",
   "name": "python",
   "nbconvert_exporter": "python",
   "pygments_lexer": "ipython3",
   "version": "3.9.7"
  }
 },
 "nbformat": 4,
 "nbformat_minor": 1
}
