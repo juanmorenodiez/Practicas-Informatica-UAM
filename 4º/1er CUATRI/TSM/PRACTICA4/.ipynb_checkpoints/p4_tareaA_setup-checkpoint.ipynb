{
 "cells": [
  {
   "cell_type": "markdown",
   "metadata": {
    "id": "0jJwbyFc60Rx"
   },
   "source": [
    "# Grado en Ingeniería de Tecnologías y Servicios de Telecomunicación / Grado en Ingeniería Informática\n",
    "### **Asignatura**: Tratamiento de Señales Visuales/Tratamiento de Señales Multimedia I\n",
    "### Práctica 4: Reconocimiento de escenas con Deep Learning\n",
    "\n",
    "---\n",
    "\n",
    "Autor: Juan C. SanMiguel (juancarlos.sanmiguel@uam.es), Universidad Autónoma de Madrid\n"
   ]
  },
  {
   "cell_type": "markdown",
   "metadata": {
    "id": "MbrPXkSGlcmB"
   },
   "source": [
    "# Introducción a Google Colaboratory \n",
    "\n",
    "En este script interativo de python aprenderé a utilizar la herramienta Colaboratory de Google https://colab.research.google.com \n",
    "\n",
    "Colaboratory permite utilizar gratuitamente una máquina virtual con Ubuntu que proporciona un entorno de Jupyter para ejecutar interactivamente instrucciones en una consola de Python. \n",
    "\n",
    "Información adicional disponible en https://research.google.com/colaboratory/faq.html\n",
    "\n",
    "Tiempo estimado para completar este script: 20 minutos"
   ]
  },
  {
   "cell_type": "markdown",
   "metadata": {
    "id": "1AovMC5V3EeD"
   },
   "source": []
  },
  {
   "cell_type": "markdown",
   "metadata": {
    "id": "9zoOE4V7l5tS"
   },
   "source": [
    "# 1 Ejecutar instrucciones de sistema\n",
    "\n",
    "Utilize el símbolo '!' delante de cada instrucción de sistema que desee ejecutar. Como por ejemplo la instruccion 'ls' muestra el contenido del directorio actual\n",
    "\n",
    "```\n",
    "$ !ls\n",
    "```\n",
    "Por ejemplo, ejecute cualquiera de las siguientes instrucciones para analizar los detalles de la máquina virtual ejecutando este entorno de Jupyter"
   ]
  },
  {
   "cell_type": "code",
   "execution_count": 1,
   "metadata": {
    "colab": {
     "base_uri": "https://localhost:8080/"
    },
    "id": "XqR8mC1UNLJq",
    "outputId": "c00fe832-bd43-4932-d9af-b9553ec33a75"
   },
   "outputs": [
    {
     "name": "stdout",
     "output_type": "stream",
     "text": [
      "No LSB modules are available.\n",
      "Distributor ID:\tUbuntu\n",
      "Description:\tUbuntu 18.04.5 LTS\n",
      "Release:\t18.04\n",
      "Codename:\tbionic\n",
      "processor\t: 0\n",
      "vendor_id\t: GenuineIntel\n",
      "cpu family\t: 6\n",
      "model\t\t: 63\n",
      "model name\t: Intel(R) Xeon(R) CPU @ 2.30GHz\n",
      "stepping\t: 0\n",
      "microcode\t: 0x1\n",
      "cpu MHz\t\t: 2300.000\n",
      "cache size\t: 46080 KB\n",
      "physical id\t: 0\n",
      "siblings\t: 2\n",
      "core id\t\t: 0\n",
      "cpu cores\t: 1\n",
      "apicid\t\t: 0\n",
      "initial apicid\t: 0\n",
      "fpu\t\t: yes\n",
      "fpu_exception\t: yes\n",
      "cpuid level\t: 13\n",
      "wp\t\t: yes\n",
      "flags\t\t: fpu vme de pse tsc msr pae mce cx8 apic sep mtrr pge mca cmov pat pse36 clflush mmx fxsr sse sse2 ss ht syscall nx pdpe1gb rdtscp lm constant_tsc rep_good nopl xtopology nonstop_tsc cpuid tsc_known_freq pni pclmulqdq ssse3 fma cx16 pcid sse4_1 sse4_2 x2apic movbe popcnt aes xsave avx f16c rdrand hypervisor lahf_lm abm invpcid_single ssbd ibrs ibpb stibp fsgsbase tsc_adjust bmi1 avx2 smep bmi2 erms invpcid xsaveopt arat md_clear arch_capabilities\n",
      "bugs\t\t: cpu_meltdown spectre_v1 spectre_v2 spec_store_bypass l1tf mds swapgs\n",
      "bogomips\t: 4600.00\n",
      "clflush size\t: 64\n",
      "cache_alignment\t: 64\n",
      "address sizes\t: 46 bits physical, 48 bits virtual\n",
      "power management:\n",
      "\n",
      "processor\t: 1\n",
      "vendor_id\t: GenuineIntel\n",
      "cpu family\t: 6\n",
      "model\t\t: 63\n",
      "model name\t: Intel(R) Xeon(R) CPU @ 2.30GHz\n",
      "stepping\t: 0\n",
      "microcode\t: 0x1\n",
      "cpu MHz\t\t: 2300.000\n",
      "cache size\t: 46080 KB\n",
      "physical id\t: 0\n",
      "siblings\t: 2\n",
      "core id\t\t: 0\n",
      "cpu cores\t: 1\n",
      "apicid\t\t: 1\n",
      "initial apicid\t: 1\n",
      "fpu\t\t: yes\n",
      "fpu_exception\t: yes\n",
      "cpuid level\t: 13\n",
      "wp\t\t: yes\n",
      "flags\t\t: fpu vme de pse tsc msr pae mce cx8 apic sep mtrr pge mca cmov pat pse36 clflush mmx fxsr sse sse2 ss ht syscall nx pdpe1gb rdtscp lm constant_tsc rep_good nopl xtopology nonstop_tsc cpuid tsc_known_freq pni pclmulqdq ssse3 fma cx16 pcid sse4_1 sse4_2 x2apic movbe popcnt aes xsave avx f16c rdrand hypervisor lahf_lm abm invpcid_single ssbd ibrs ibpb stibp fsgsbase tsc_adjust bmi1 avx2 smep bmi2 erms invpcid xsaveopt arat md_clear arch_capabilities\n",
      "bugs\t\t: cpu_meltdown spectre_v1 spectre_v2 spec_store_bypass l1tf mds swapgs\n",
      "bogomips\t: 4600.00\n",
      "clflush size\t: 64\n",
      "cache_alignment\t: 64\n",
      "address sizes\t: 46 bits physical, 48 bits virtual\n",
      "power management:\n",
      "\n",
      "MemTotal:       13302924 kB\n",
      "MemFree:        10737108 kB\n",
      "MemAvailable:   12443360 kB\n",
      "Buffers:           83688 kB\n",
      "Cached:          1770156 kB\n",
      "SwapCached:            0 kB\n",
      "Active:           946892 kB\n",
      "Inactive:        1360256 kB\n",
      "Active(anon):     414220 kB\n",
      "Inactive(anon):      432 kB\n",
      "Active(file):     532672 kB\n",
      "Inactive(file):  1359824 kB\n",
      "Unevictable:           0 kB\n",
      "Mlocked:               0 kB\n",
      "SwapTotal:             0 kB\n",
      "SwapFree:              0 kB\n",
      "Dirty:              1512 kB\n",
      "Writeback:             0 kB\n",
      "AnonPages:        453312 kB\n",
      "Mapped:           239540 kB\n",
      "Shmem:              1176 kB\n",
      "KReclaimable:     110464 kB\n",
      "Slab:             158628 kB\n",
      "SReclaimable:     110464 kB\n",
      "SUnreclaim:        48164 kB\n",
      "KernelStack:        5024 kB\n",
      "PageTables:         6172 kB\n",
      "NFS_Unstable:          0 kB\n",
      "Bounce:                0 kB\n",
      "WritebackTmp:          0 kB\n",
      "CommitLimit:     6651460 kB\n",
      "Committed_AS:    3222596 kB\n",
      "VmallocTotal:   34359738367 kB\n",
      "VmallocUsed:       45012 kB\n",
      "VmallocChunk:          0 kB\n",
      "Percpu:             1592 kB\n",
      "AnonHugePages:         0 kB\n",
      "ShmemHugePages:        0 kB\n",
      "ShmemPmdMapped:        0 kB\n",
      "FileHugePages:         0 kB\n",
      "FilePmdMapped:         0 kB\n",
      "CmaTotal:              0 kB\n",
      "CmaFree:               0 kB\n",
      "HugePages_Total:       0\n",
      "HugePages_Free:        0\n",
      "HugePages_Rsvd:        0\n",
      "HugePages_Surp:        0\n",
      "Hugepagesize:       2048 kB\n",
      "Hugetlb:               0 kB\n",
      "DirectMap4k:      144192 kB\n",
      "DirectMap2M:     5095424 kB\n",
      "DirectMap1G:    10485760 kB\n",
      "Filesystem      Size  Used Avail Use% Mounted on\n",
      "overlay          79G   44G   35G  56% /\n",
      "tmpfs            64M     0   64M   0% /dev\n",
      "tmpfs           6.4G     0  6.4G   0% /sys/fs/cgroup\n",
      "shm             5.7G     0  5.7G   0% /dev/shm\n",
      "/dev/root       2.0G  1.2G  821M  59% /sbin/docker-init\n",
      "tmpfs           6.4G   36K  6.4G   1% /var/colab\n",
      "/dev/sda1        86G   47G   40G  54% /opt/bin/.nvidia\n",
      "tmpfs           6.4G     0  6.4G   0% /proc/acpi\n",
      "tmpfs           6.4G     0  6.4G   0% /proc/scsi\n",
      "tmpfs           6.4G     0  6.4G   0% /sys/firmware\n"
     ]
    }
   ],
   "source": [
    "!lsb_release -a    # Mostrar versión de Linux\n",
    "!cat /proc/cpuinfo # Mostrar detalles CPU\n",
    "!cat /proc/meminfo # Mostrar detalles memoria RAM\n",
    "!df -h             # Mostrar estructura directorios"
   ]
  },
  {
   "cell_type": "markdown",
   "metadata": {
    "id": "N5lfopFbqOre"
   },
   "source": [
    "# 2 Requisitos para realizar la práctica\n",
    "Para realizar esta práctica, deberá modificar dos aspectos:\n",
    "*   Versión de Python\n",
    "*   Versión de Tensorflow\n",
    "*   Diponiblidad de GPU\n",
    "\n",
    "Para ello navege por el menu \"Edit-->Notebook Settings\" y seleccione las opciones \"Python3\" en el apartado \"Runtime Type\" y \"GPU\" en la apartado \"Hardware acceleretor\". A continuación se muestra un ejemplo visual de las opciones en \"Notebook Settings\"\n",
    "\n",
    "![alt text](https://cdn-images-1.medium.com/max/1600/1*WNovJnpGMOys8Rv7YIsZzA.png)\n",
    "\n",
    "NOTA: no se preocupe si no existe la opción \"Python3\", pues entonces se ha seleccionado por defecto\n",
    "\n",
    "\n"
   ]
  },
  {
   "cell_type": "markdown",
   "metadata": {
    "id": "Q9wVz9UKM7w7"
   },
   "source": [
    "## 2.1 Versión de Python\n",
    "Verifique la versión de Python que se esta ejecutando. El código de esta práctica se ha comprobado sobre Python version 3.6.X\n"
   ]
  },
  {
   "cell_type": "code",
   "execution_count": null,
   "metadata": {
    "colab": {
     "base_uri": "https://localhost:8080/"
    },
    "id": "Ib-uieTkp6Qy",
    "outputId": "391a49e6-98e9-4779-ef47-3e1724fdbe5d"
   },
   "outputs": [
    {
     "name": "stdout",
     "output_type": "stream",
     "text": [
      "Python 3.7.12\n"
     ]
    }
   ],
   "source": [
    "!python --version "
   ]
  },
  {
   "cell_type": "markdown",
   "metadata": {
    "id": "Vn8WUqyfvili"
   },
   "source": [
    "## 2.2 Versión de Tensorflow\n",
    "\n",
    "*Google Colab* permite el uso de Tensorflow 1.x y 2.x en la máquina virtual. Esta práctica considera el uso de Tensorflow 2.3.0 y solo se garantiza que funcione para esta versión, **no obstante puede utilizar otra versión bajo su propia responsabilidad**.\n",
    "\n",
    "NOTA: Si utiliza la instrucción ```%tensorflow_version 2.X ``` antes de importar la librería ```  tensorflow```, se cargará la última versión de la librería (para cual no se garantiza que funcione correctamente la práctica). La instrucción ```%tensorflow_version 2.X ``` solamente existe en Google Colab y no podrá utilizarla fuera de este entorno.\n",
    "\n",
    "**NOTA: tras instalar la versión 2.3.0, es probable que deba reiniciar la máquina virtual. Verá que aparece un botón al final del output \"RESTART RUNTIME\". Haga click en él antes de continuar (no necesita realizar otra acción para continuar).**"
   ]
  },
  {
   "cell_type": "code",
   "execution_count": null,
   "metadata": {
    "colab": {
     "base_uri": "https://localhost:8080/",
     "height": 1000
    },
    "id": "Tb_eLgJcvjAQ",
    "outputId": "8633e818-b87a-4be4-8834-bbcc8ae33429"
   },
   "outputs": [
    {
     "name": "stdout",
     "output_type": "stream",
     "text": [
      "Collecting tensorflow==2.3.0\n",
      "  Downloading tensorflow-2.3.0-cp37-cp37m-manylinux2010_x86_64.whl (320.4 MB)\n",
      "\u001b[K     |████████████████████████████████| 320.4 MB 55 kB/s \n",
      "\u001b[?25hRequirement already satisfied: protobuf>=3.9.2 in /usr/local/lib/python3.7/dist-packages (from tensorflow==2.3.0) (3.17.3)\n",
      "Requirement already satisfied: astunparse==1.6.3 in /usr/local/lib/python3.7/dist-packages (from tensorflow==2.3.0) (1.6.3)\n",
      "Requirement already satisfied: opt-einsum>=2.3.2 in /usr/local/lib/python3.7/dist-packages (from tensorflow==2.3.0) (3.3.0)\n",
      "Requirement already satisfied: six>=1.12.0 in /usr/local/lib/python3.7/dist-packages (from tensorflow==2.3.0) (1.15.0)\n",
      "Collecting tensorflow-estimator<2.4.0,>=2.3.0\n",
      "  Downloading tensorflow_estimator-2.3.0-py2.py3-none-any.whl (459 kB)\n",
      "\u001b[K     |████████████████████████████████| 459 kB 42.2 MB/s \n",
      "\u001b[?25hRequirement already satisfied: wrapt>=1.11.1 in /usr/local/lib/python3.7/dist-packages (from tensorflow==2.3.0) (1.13.3)\n",
      "Requirement already satisfied: scipy==1.4.1 in /usr/local/lib/python3.7/dist-packages (from tensorflow==2.3.0) (1.4.1)\n",
      "Requirement already satisfied: tensorboard<3,>=2.3.0 in /usr/local/lib/python3.7/dist-packages (from tensorflow==2.3.0) (2.7.0)\n",
      "Requirement already satisfied: termcolor>=1.1.0 in /usr/local/lib/python3.7/dist-packages (from tensorflow==2.3.0) (1.1.0)\n",
      "Collecting gast==0.3.3\n",
      "  Downloading gast-0.3.3-py2.py3-none-any.whl (9.7 kB)\n",
      "Requirement already satisfied: keras-preprocessing<1.2,>=1.1.1 in /usr/local/lib/python3.7/dist-packages (from tensorflow==2.3.0) (1.1.2)\n",
      "Requirement already satisfied: google-pasta>=0.1.8 in /usr/local/lib/python3.7/dist-packages (from tensorflow==2.3.0) (0.2.0)\n",
      "Requirement already satisfied: wheel>=0.26 in /usr/local/lib/python3.7/dist-packages (from tensorflow==2.3.0) (0.37.0)\n",
      "Collecting numpy<1.19.0,>=1.16.0\n",
      "  Downloading numpy-1.18.5-cp37-cp37m-manylinux1_x86_64.whl (20.1 MB)\n",
      "\u001b[K     |████████████████████████████████| 20.1 MB 45.2 MB/s \n",
      "\u001b[?25hCollecting h5py<2.11.0,>=2.10.0\n",
      "  Downloading h5py-2.10.0-cp37-cp37m-manylinux1_x86_64.whl (2.9 MB)\n",
      "\u001b[K     |████████████████████████████████| 2.9 MB 38.9 MB/s \n",
      "\u001b[?25hRequirement already satisfied: absl-py>=0.7.0 in /usr/local/lib/python3.7/dist-packages (from tensorflow==2.3.0) (0.12.0)\n",
      "Requirement already satisfied: grpcio>=1.8.6 in /usr/local/lib/python3.7/dist-packages (from tensorflow==2.3.0) (1.42.0)\n",
      "Requirement already satisfied: google-auth-oauthlib<0.5,>=0.4.1 in /usr/local/lib/python3.7/dist-packages (from tensorboard<3,>=2.3.0->tensorflow==2.3.0) (0.4.6)\n",
      "Requirement already satisfied: tensorboard-plugin-wit>=1.6.0 in /usr/local/lib/python3.7/dist-packages (from tensorboard<3,>=2.3.0->tensorflow==2.3.0) (1.8.0)\n",
      "Requirement already satisfied: setuptools>=41.0.0 in /usr/local/lib/python3.7/dist-packages (from tensorboard<3,>=2.3.0->tensorflow==2.3.0) (57.4.0)\n",
      "Requirement already satisfied: google-auth<3,>=1.6.3 in /usr/local/lib/python3.7/dist-packages (from tensorboard<3,>=2.3.0->tensorflow==2.3.0) (1.35.0)\n",
      "Requirement already satisfied: tensorboard-data-server<0.7.0,>=0.6.0 in /usr/local/lib/python3.7/dist-packages (from tensorboard<3,>=2.3.0->tensorflow==2.3.0) (0.6.1)\n",
      "Requirement already satisfied: werkzeug>=0.11.15 in /usr/local/lib/python3.7/dist-packages (from tensorboard<3,>=2.3.0->tensorflow==2.3.0) (1.0.1)\n",
      "Requirement already satisfied: markdown>=2.6.8 in /usr/local/lib/python3.7/dist-packages (from tensorboard<3,>=2.3.0->tensorflow==2.3.0) (3.3.6)\n",
      "Requirement already satisfied: requests<3,>=2.21.0 in /usr/local/lib/python3.7/dist-packages (from tensorboard<3,>=2.3.0->tensorflow==2.3.0) (2.23.0)\n",
      "Requirement already satisfied: pyasn1-modules>=0.2.1 in /usr/local/lib/python3.7/dist-packages (from google-auth<3,>=1.6.3->tensorboard<3,>=2.3.0->tensorflow==2.3.0) (0.2.8)\n",
      "Requirement already satisfied: cachetools<5.0,>=2.0.0 in /usr/local/lib/python3.7/dist-packages (from google-auth<3,>=1.6.3->tensorboard<3,>=2.3.0->tensorflow==2.3.0) (4.2.4)\n",
      "Requirement already satisfied: rsa<5,>=3.1.4 in /usr/local/lib/python3.7/dist-packages (from google-auth<3,>=1.6.3->tensorboard<3,>=2.3.0->tensorflow==2.3.0) (4.7.2)\n",
      "Requirement already satisfied: requests-oauthlib>=0.7.0 in /usr/local/lib/python3.7/dist-packages (from google-auth-oauthlib<0.5,>=0.4.1->tensorboard<3,>=2.3.0->tensorflow==2.3.0) (1.3.0)\n",
      "Requirement already satisfied: importlib-metadata>=4.4 in /usr/local/lib/python3.7/dist-packages (from markdown>=2.6.8->tensorboard<3,>=2.3.0->tensorflow==2.3.0) (4.8.2)\n",
      "Requirement already satisfied: zipp>=0.5 in /usr/local/lib/python3.7/dist-packages (from importlib-metadata>=4.4->markdown>=2.6.8->tensorboard<3,>=2.3.0->tensorflow==2.3.0) (3.6.0)\n",
      "Requirement already satisfied: typing-extensions>=3.6.4 in /usr/local/lib/python3.7/dist-packages (from importlib-metadata>=4.4->markdown>=2.6.8->tensorboard<3,>=2.3.0->tensorflow==2.3.0) (3.10.0.2)\n",
      "Requirement already satisfied: pyasn1<0.5.0,>=0.4.6 in /usr/local/lib/python3.7/dist-packages (from pyasn1-modules>=0.2.1->google-auth<3,>=1.6.3->tensorboard<3,>=2.3.0->tensorflow==2.3.0) (0.4.8)\n",
      "Requirement already satisfied: certifi>=2017.4.17 in /usr/local/lib/python3.7/dist-packages (from requests<3,>=2.21.0->tensorboard<3,>=2.3.0->tensorflow==2.3.0) (2021.10.8)\n",
      "Requirement already satisfied: chardet<4,>=3.0.2 in /usr/local/lib/python3.7/dist-packages (from requests<3,>=2.21.0->tensorboard<3,>=2.3.0->tensorflow==2.3.0) (3.0.4)\n",
      "Requirement already satisfied: urllib3!=1.25.0,!=1.25.1,<1.26,>=1.21.1 in /usr/local/lib/python3.7/dist-packages (from requests<3,>=2.21.0->tensorboard<3,>=2.3.0->tensorflow==2.3.0) (1.24.3)\n",
      "Requirement already satisfied: idna<3,>=2.5 in /usr/local/lib/python3.7/dist-packages (from requests<3,>=2.21.0->tensorboard<3,>=2.3.0->tensorflow==2.3.0) (2.10)\n",
      "Requirement already satisfied: oauthlib>=3.0.0 in /usr/local/lib/python3.7/dist-packages (from requests-oauthlib>=0.7.0->google-auth-oauthlib<0.5,>=0.4.1->tensorboard<3,>=2.3.0->tensorflow==2.3.0) (3.1.1)\n",
      "Installing collected packages: numpy, tensorflow-estimator, h5py, gast, tensorflow\n",
      "  Attempting uninstall: numpy\n",
      "    Found existing installation: numpy 1.19.5\n",
      "    Uninstalling numpy-1.19.5:\n",
      "      Successfully uninstalled numpy-1.19.5\n",
      "  Attempting uninstall: tensorflow-estimator\n",
      "    Found existing installation: tensorflow-estimator 2.7.0\n",
      "    Uninstalling tensorflow-estimator-2.7.0:\n",
      "      Successfully uninstalled tensorflow-estimator-2.7.0\n",
      "  Attempting uninstall: h5py\n",
      "    Found existing installation: h5py 3.1.0\n",
      "    Uninstalling h5py-3.1.0:\n",
      "      Successfully uninstalled h5py-3.1.0\n",
      "  Attempting uninstall: gast\n",
      "    Found existing installation: gast 0.4.0\n",
      "    Uninstalling gast-0.4.0:\n",
      "      Successfully uninstalled gast-0.4.0\n",
      "  Attempting uninstall: tensorflow\n",
      "    Found existing installation: tensorflow 2.7.0\n",
      "    Uninstalling tensorflow-2.7.0:\n",
      "      Successfully uninstalled tensorflow-2.7.0\n",
      "\u001b[31mERROR: pip's dependency resolver does not currently take into account all the packages that are installed. This behaviour is the source of the following dependency conflicts.\n",
      "datascience 0.10.6 requires folium==0.2.1, but you have folium 0.8.3 which is incompatible.\n",
      "albumentations 0.1.12 requires imgaug<0.2.7,>=0.2.5, but you have imgaug 0.2.9 which is incompatible.\u001b[0m\n",
      "Successfully installed gast-0.3.3 h5py-2.10.0 numpy-1.18.5 tensorflow-2.3.0 tensorflow-estimator-2.3.0\n"
     ]
    },
    {
     "data": {
      "application/vnd.colab-display-data+json": {
       "pip_warning": {
        "packages": [
         "numpy"
        ]
       }
      }
     },
     "metadata": {},
     "output_type": "display_data"
    },
    {
     "name": "stdout",
     "output_type": "stream",
     "text": [
      "Tensorflow 2.3.0\n"
     ]
    }
   ],
   "source": [
    "!pip install tensorflow==2.3.0\n",
    "import tensorflow as tf\n",
    "print('Tensorflow ' + tf.__version__)"
   ]
  },
  {
   "cell_type": "markdown",
   "metadata": {
    "id": "klP4mwmXqe4S"
   },
   "source": [
    "## 2.3 Disponibilidad de GPU\n",
    "Una de las principales ventajas de *Google Colaboratory* es la disponibilidad gratuita de recursos de calculo intensivo mediante GPUs (Graphic Processing Unit). \n",
    "\n",
    "Para verificar la existencia de la GPU, utilice la instrucción  *nvidia-smi* para identificar cuantas GPUs existen en nuestro sistema:\n"
   ]
  },
  {
   "cell_type": "code",
   "execution_count": null,
   "metadata": {
    "colab": {
     "base_uri": "https://localhost:8080/"
    },
    "id": "2ULmb0BQqkQz",
    "outputId": "9d9b75d0-7b32-44db-a09c-d3b2b6ec79f0"
   },
   "outputs": [
    {
     "name": "stdout",
     "output_type": "stream",
     "text": [
      "Mon Nov 29 18:10:34 2021       \n",
      "+-----------------------------------------------------------------------------+\n",
      "| NVIDIA-SMI 495.44       Driver Version: 460.32.03    CUDA Version: 11.2     |\n",
      "|-------------------------------+----------------------+----------------------+\n",
      "| GPU  Name        Persistence-M| Bus-Id        Disp.A | Volatile Uncorr. ECC |\n",
      "| Fan  Temp  Perf  Pwr:Usage/Cap|         Memory-Usage | GPU-Util  Compute M. |\n",
      "|                               |                      |               MIG M. |\n",
      "|===============================+======================+======================|\n",
      "|   0  Tesla K80           Off  | 00000000:00:04.0 Off |                    0 |\n",
      "| N/A   65C    P8    33W / 149W |      0MiB / 11441MiB |      0%      Default |\n",
      "|                               |                      |                  N/A |\n",
      "+-------------------------------+----------------------+----------------------+\n",
      "                                                                               \n",
      "+-----------------------------------------------------------------------------+\n",
      "| Processes:                                                                  |\n",
      "|  GPU   GI   CI        PID   Type   Process name                  GPU Memory |\n",
      "|        ID   ID                                                   Usage      |\n",
      "|=============================================================================|\n",
      "|  No running processes found                                                 |\n",
      "+-----------------------------------------------------------------------------+\n"
     ]
    }
   ],
   "source": [
    "!nvidia-smi"
   ]
  },
  {
   "cell_type": "markdown",
   "metadata": {
    "id": "IVaIQCE-Gqt_"
   },
   "source": [
    "## 2.4 Selección de GPU\n",
    "A continuación tiene un pequeño script para mostrar como se puede utilizar la GPU y la CPU.\n"
   ]
  },
  {
   "cell_type": "code",
   "execution_count": null,
   "metadata": {
    "colab": {
     "base_uri": "https://localhost:8080/"
    },
    "id": "3rvrsrWzGrJz",
    "outputId": "4aae6ec1-bc2c-449a-8be9-f36c5bc77e50"
   },
   "outputs": [
    {
     "name": "stdout",
     "output_type": "stream",
     "text": [
      "Num CPUs disponibles:  1\n",
      "Num GPUs disponibles:  1\n",
      "Tiempo ejecución CPU 0.8947553634643555 secs y GPU 0.009128570556640625 secs\n",
      "Ejecute varias veces este bloque de código pues la primera vez no observará diferencias debido a que se deben inicializar los registros para la CPU y GPU\n"
     ]
    }
   ],
   "source": [
    "import tensorflow as tf\n",
    "import time\n",
    "\n",
    "print(\"Num CPUs disponibles: \", len(tf.config.experimental.list_physical_devices('CPU')))\n",
    "print(\"Num GPUs disponibles: \", len(tf.config.experimental.list_physical_devices('GPU')))\n",
    "\n",
    "time1 = time.time() # medida de tiempo\n",
    "\n",
    "# ejecutar en CPU\n",
    "with tf.device('/device:CPU:0'):\n",
    "  random_image_cpu = tf.random.normal((100, 100, 100, 3))\n",
    "  net_cpu = tf.keras.layers.Conv2D(128, 7)(random_image_cpu)\n",
    "\n",
    "time2 = time.time() # medida de tiempo\n",
    "\n",
    "# ejecutar en GPU\n",
    "with tf.device('/device:GPU:0'):\n",
    "  random_image_cpu = tf.random.normal((100, 100, 100, 3))\n",
    "  net_cpu = tf.keras.layers.Conv2D(128, 7)(random_image_cpu)\n",
    "\n",
    "time3 = time.time() # medida de tiempo\n",
    "print('Tiempo ejecución CPU {} secs y GPU {} secs' .format(time2-time1, time3-time2))\n",
    "print('Ejecute varias veces este bloque de código pues la primera vez no observará diferencias debido a que se deben inicializar los registros para la CPU y GPU')"
   ]
  },
  {
   "cell_type": "markdown",
   "metadata": {
    "id": "7ZorEikzbvvB"
   },
   "source": [
    "# 3 Uso de Google Drive\n",
    "Debido a que el uso del entorno *colab.research.google.com* está registringido a un máximo de 12 horas continuadas (tras las cuales, se reseteará su máquina virtual y podrá volver a utilizar otra distinta) se sugiere conectar esta máquina virtual a la unidad de *Google Drive* asociada a su usuario con cuenta @gmail. Así podrá guardar datos y resultados que genere para un posterior uso.\n",
    "\n",
    "Debido a que el procedimiento descrito a continuación requiere acceder a su cuenta personal @gmail, **se sugiere crear una nueva cuenta @gmail para la realización de esta práctica**.\n",
    "\n",
    "Tras identificarse con su nueva cuenta @gmail, vuelva a cargar este script refrescando esta página web en el navegador.\n"
   ]
  },
  {
   "cell_type": "markdown",
   "metadata": {
    "id": "QopXXqC_uFs0"
   },
   "source": [
    "## 3.1 Conexión y autenticación \n",
    "A continuación utilizaremos el paquete *drive* de la [API nativa de Google](https://developers.google.com/drive/v3/web/about-sdk) que permite montar sus directorios de Drive en la carpeta del sistema */content/gdrive/*\n",
    "\n",
    "Estas instrucciónes le pediran autorizar el acceso a su cuenta proporcionándole un enlace. Haga click sore el enlace y copie en el código que obtenga en el cuadro de texto.\n",
    "\n"
   ]
  },
  {
   "cell_type": "code",
   "execution_count": null,
   "metadata": {
    "colab": {
     "base_uri": "https://localhost:8080/"
    },
    "id": "yTDqAZZ5uF5g",
    "outputId": "ac368ee5-581d-4522-bc61-093ca2d69ce8"
   },
   "outputs": [
    {
     "name": "stdout",
     "output_type": "stream",
     "text": [
      "Mounted at /content/gdrive\n"
     ]
    }
   ],
   "source": [
    "from google.colab import drive\n",
    "drive.mount('/content/gdrive')"
   ]
  },
  {
   "cell_type": "markdown",
   "metadata": {
    "id": "cjz32tS4Ag_x"
   },
   "source": [
    "## 3.2 Interacción con directorios y ficheros\n",
    "Podemos visualizar el contenido de nuestra carpeta raíz en Google Drive con la siguiente instrucción:*italicized text*"
   ]
  },
  {
   "cell_type": "code",
   "execution_count": null,
   "metadata": {
    "colab": {
     "base_uri": "https://localhost:8080/"
    },
    "id": "COePZRUiAnxl",
    "outputId": "6c66c7fc-c2ce-4dfc-db58-16beb3b2cb11"
   },
   "outputs": [
    {
     "name": "stdout",
     "output_type": "stream",
     "text": [
      "'Colab Notebooks'\t     MyBoy\t\t      'Poesia desde 1936.gdoc'\n",
      "'elisabeth the first.pptx'  'Novela desde 1975.gdoc'  'Untitled Diagram.drawio'\n",
      " foo.txt\t\t     p4\n"
     ]
    }
   ],
   "source": [
    "!ls /content/gdrive/My\\ Drive/"
   ]
  },
  {
   "cell_type": "markdown",
   "metadata": {
    "id": "bV6vRyrCAPJm"
   },
   "source": [
    "A continuación creamos un fichero de ejemplo para verificar el correcto funcionamiento de las instrucciones anteriores:\n",
    "\n"
   ]
  },
  {
   "cell_type": "code",
   "execution_count": null,
   "metadata": {
    "colab": {
     "base_uri": "https://localhost:8080/"
    },
    "id": "P38Vz9uBAPrk",
    "outputId": "ec5da51c-6d30-45e7-a6a3-e7552b7471f1"
   },
   "outputs": [
    {
     "name": "stdout",
     "output_type": "stream",
     "text": [
      "Hello Google Drive!"
     ]
    }
   ],
   "source": [
    "#crear fichero y escribir contenido\n",
    "with open('/content/gdrive/My Drive/foo.txt', 'w') as f:\n",
    "  f.write('Hello Google Drive!')\n",
    "\n",
    "#visualizar contenido de fichero\n",
    "!cat /content/gdrive/My\\ Drive/foo.txt "
   ]
  },
  {
   "cell_type": "markdown",
   "metadata": {
    "id": "TwRPNw6AArIR"
   },
   "source": [
    "Por último podemos crear un carpeta para guardar los datos de esta práctica"
   ]
  },
  {
   "cell_type": "code",
   "execution_count": null,
   "metadata": {
    "colab": {
     "base_uri": "https://localhost:8080/"
    },
    "id": "muOvZswOAbU3",
    "outputId": "c94b1e06-7fd0-4ed0-811d-d6058d8f0417"
   },
   "outputs": [
    {
     "name": "stdout",
     "output_type": "stream",
     "text": [
      "mkdir: cannot create directory ‘/content/gdrive/My Drive/p4’: File exists\n"
     ]
    }
   ],
   "source": [
    "!mkdir /content/gdrive/My\\ Drive/p4"
   ]
  },
  {
   "cell_type": "markdown",
   "metadata": {
    "id": "YhO-oaoDnrFh"
   },
   "source": [
    "# 4 Operaciones comúnes\n",
    "En esta sección repasa operaciones de utilidad para el resto de partes de la práctica"
   ]
  },
  {
   "cell_type": "markdown",
   "metadata": {
    "id": "wVQg60QVXE8m"
   },
   "source": [
    "## 4.1 Moverse a otros directorios\n",
    "\n",
    "El directorio de trabajo por defecto es '/content'. Si hemos seguido el paso anterior, lo deseable es que trabajemos en nuestros directorios de *Google Drive*. \n",
    "\n",
    "Para movernos entre directorios normalmente utilizariamos la instrucción **cd**. De manera alternativa se sugiere utilizar la libreria *os* para moverse entre directorios.\n"
   ]
  },
  {
   "cell_type": "code",
   "execution_count": null,
   "metadata": {
    "colab": {
     "base_uri": "https://localhost:8080/"
    },
    "id": "k1RVQzSTXFpE",
    "outputId": "b3511113-d0e7-4ace-e3f9-880f6d65207c"
   },
   "outputs": [
    {
     "name": "stdout",
     "output_type": "stream",
     "text": [
      "/content\n",
      "/content/gdrive/My Drive/p4\n"
     ]
    }
   ],
   "source": [
    "import os\n",
    "\n",
    "!pwd #mostrar el directorio actual\n",
    "os.chdir('/content/gdrive/My Drive/p4') #moverse a un directorio especifico\n",
    "!pwd #mostrar el directorio actual"
   ]
  },
  {
   "cell_type": "markdown",
   "metadata": {
    "id": "55oysizVn1Rp"
   },
   "source": [
    "## 4.2 Generación de scripts\n",
    "\n",
    "Frecuentemente, tras desarrollar una nueva funcionalidad es conveniente utilizar un fichero *.py* para encapsular esta funcionalidad.\n",
    "\n",
    "En el siguiente código puede ver como se generan el fichero *textproc.py*"
   ]
  },
  {
   "cell_type": "code",
   "execution_count": null,
   "metadata": {
    "colab": {
     "base_uri": "https://localhost:8080/"
    },
    "id": "HUJTl8uvoPbT",
    "outputId": "aec6c6d0-7543-4cf2-9fe5-8a26267611ad"
   },
   "outputs": [
    {
     "name": "stdout",
     "output_type": "stream",
     "text": [
      "Writing textproc.py\n"
     ]
    }
   ],
   "source": [
    "# esta directiva genera un fichero con el codigo escrito a continuacion\n",
    "%%writefile textproc.py\n",
    "\n",
    "def plural(word):\n",
    "    if word.endswith('y'):\n",
    "        return word[:-1] + 'ies'\n",
    "    elif word[-1] in 'sx' or word[-2:] in ['sh', 'ch']:\n",
    "        return word + 'es'\n",
    "    elif word.endswith('an'):\n",
    "        return word[:-2] + 'en'\n",
    "    else:\n",
    "        return word + 's'"
   ]
  },
  {
   "cell_type": "code",
   "execution_count": null,
   "metadata": {
    "colab": {
     "base_uri": "https://localhost:8080/"
    },
    "id": "pB9DzOtcoxKe",
    "outputId": "c1828cb1-24dd-455a-9f42-10b884cbac90"
   },
   "outputs": [
    {
     "name": "stdout",
     "output_type": "stream",
     "text": [
      "textproc.py\n"
     ]
    }
   ],
   "source": [
    "#list directory contents\n",
    "!ls"
   ]
  },
  {
   "cell_type": "markdown",
   "metadata": {
    "id": "U0ZHNFrBo2sa"
   },
   "source": [
    "## 4.3 Ejecución de scripts\n",
    "\n",
    "Tras encapsular la funcionalidad deseada en un fichero *.py*, tenemos dos maneras utilizar dicha funcionalidad:"
   ]
  },
  {
   "cell_type": "code",
   "execution_count": null,
   "metadata": {
    "colab": {
     "base_uri": "https://localhost:8080/",
     "height": 35
    },
    "id": "dvnoFzvzo1wo",
    "outputId": "133da772-ab95-4cf6-dc43-376837b26615"
   },
   "outputs": [
    {
     "data": {
      "application/vnd.google.colaboratory.intrinsic+json": {
       "type": "string"
      },
      "text/plain": [
       "'wishes'"
      ]
     },
     "execution_count": 10,
     "metadata": {},
     "output_type": "execute_result"
    }
   ],
   "source": [
    "#ejemplo 1 para importar librerias\n",
    "from textproc import plural\n",
    "\n",
    "#ejecutar funcion\n",
    "plural('wish') "
   ]
  },
  {
   "cell_type": "markdown",
   "metadata": {
    "id": "3yjTxFM7pmSV"
   },
   "source": [
    "#example 2 para ejecutar un script externo\n",
    "\n",
    "#ejecutar script y asi cargamos en memoria las\n",
    "#variables y funciones contenidas en el script\n",
    "%run -i textproc.py \n",
    "\n",
    "#ejecutar funcion\n",
    "plural('wish')"
   ]
  },
  {
   "cell_type": "markdown",
   "metadata": {
    "id": "LbW88PSLEyv7"
   },
   "source": [
    "## 4.4 Reiniciar la máquina virtual\n",
    "Es posible que realice diversas operaciones sobre el sistema (e.g. instalación de paquetes) que produzca un sistema inestable. \n",
    "\n",
    "En ese caso, se recomienda:\n",
    "\n",
    "1) Haga un \"restart runtime\" mediante las teclas Ctrl+M+.\n",
    "\n",
    "2) En el caso de que no se resuelva su problema, ejecute la siguiente instrucción para forzar un reseteo del sistema. Tras ejecutar esta instrucción la máquina sufrirá un bloqueo durante un pequeño lapso de tiempo (1-2 minutos). Refresque la página y verifique que se conecta a la máquina virtual (\"CONNECTED\" o \"RAM/Disk\" en la esquina superior derecha)\n",
    "\n",
    "```\n",
    "!kill -9 -1\n",
    "```\n",
    "   \n",
    "\n",
    "\n"
   ]
  },
  {
   "cell_type": "code",
   "execution_count": null,
   "metadata": {
    "id": "P2Uuh4kzE9j7"
   },
   "outputs": [],
   "source": [
    "!kill -9 -1"
   ]
  }
 ],
 "metadata": {
  "accelerator": "GPU",
  "colab": {
   "collapsed_sections": [
    "0jJwbyFc60Rx",
    "MbrPXkSGlcmB",
    "9zoOE4V7l5tS",
    "Q9wVz9UKM7w7",
    "7ZorEikzbvvB",
    "QopXXqC_uFs0",
    "cjz32tS4Ag_x",
    "YhO-oaoDnrFh",
    "wVQg60QVXE8m",
    "55oysizVn1Rp",
    "U0ZHNFrBo2sa",
    "LbW88PSLEyv7"
   ],
   "name": "Copia de Copia de p4_tareaA_setup.ipynb",
   "provenance": [],
   "toc_visible": true
  },
  "kernelspec": {
   "display_name": "Python 3 (ipykernel)",
   "language": "python",
   "name": "python3"
  },
  "language_info": {
   "codemirror_mode": {
    "name": "ipython",
    "version": 3
   },
   "file_extension": ".py",
   "mimetype": "text/x-python",
   "name": "python",
   "nbconvert_exporter": "python",
   "pygments_lexer": "ipython3",
   "version": "3.9.7"
  }
 },
 "nbformat": 4,
 "nbformat_minor": 1
}
