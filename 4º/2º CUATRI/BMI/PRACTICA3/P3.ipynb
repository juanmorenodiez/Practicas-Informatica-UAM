{
 "cells": [
  {
   "cell_type": "markdown",
   "metadata": {
    "id": "8Eq_QfGIGXC_"
   },
   "source": [
    "### **Búsqueda y Minería de Información 2021-22**\n",
    "### Universidad Autónoma de Madrid, Escuela Politécnica Superior\n",
    "### Grado en Ingeniería Informática, 4º curso\n",
    "# **Sistemas de recomendación y análisis de redes sociales**\n",
    "\n",
    "Fechas:\n",
    "\n",
    "* Comienzo: lunes 28 / martes 29 de marzo\n",
    "* Entrega: lunes 9 de mayo, 23:59"
   ]
  },
  {
   "cell_type": "markdown",
   "metadata": {
    "id": "aYT0Qlrnoy7l"
   },
   "source": [
    "# Introducción"
   ]
  },
  {
   "cell_type": "markdown",
   "metadata": {
    "id": "KDFY_K6_pA_J"
   },
   "source": [
    "## Objetivos\n",
    "\n",
    "Esta práctica reúne dos objetivos: por una parte implementar y evaluar sistemas de recomendación, y por otra, implementar funcionalidades de análisis de redes sociales. \n",
    "\n",
    "Respecto al primer objetivo, se desarrollarán:\n",
    "\n",
    "* Algoritmos de recomendación basada en filtrado colaborativo.\n",
    "* Métricas de evaluación de sistemas de recomendación.\n",
    "\n",
    "Y para el segundo, se implementarán:\n",
    "\n",
    "* Métricas que se utilizan en el análisis de redes sociales.\n",
    "* Otras funcionalidades a elección opcional del estudiante, tales como más métricas, la detección de comunidades, la generación aleatoria de redes sociales, o la recomendación de contactos."
   ]
  },
  {
   "cell_type": "markdown",
   "metadata": {
    "id": "BPjq_DVVpDEL"
   },
   "source": [
    "## Material proporcionado\n",
    "\n",
    "Se proporcionan (tanto en el curso de Moodle como con enlaces dentro de este documento) software y datos para la realización de la práctica, que se divide en dos bloques:\n",
    "\n",
    "**Bloque I – Sistemas de recomendación**\n",
    "\n",
    "* Un esqueleto de clases y funciones donde el estudiante desarrollará sus implementaciones. De modo similar a las prácticas anteriores, se proporciona una función principal **main_recsys** que deberá funcionar con el código a implementar por el estudiante.\n",
    "* Dos conjuntos de datos que incluyen ratings asignados por usuarios a películas: un conjunto pequeño de datos ficticios, y otro conjunto de datos reales disponibles en la Web de MovieLens.\n",
    "  - Conjunto pequeño de prueba <ins>toy-ratings.dat</ins> con datos ficticios de ratings, así como un split manual fijo de estos datos en <ins>toy-train.dat</ins> y <ins>toy-test.dat</ins>.\n",
    "  - Conjunto de datos real en la Web de [MovieLens](https://grouplens.org/datasets/movielens/latest), disponible en *ml-latest-small.zip*. De los archivos disponibles, se utilizará sólamente <ins>ratings.csv</ins>.\n",
    "* Un documento de texto <ins>recsys-output.txt</ins> con la correspondiente salida estándar que deberá producir la ejecución de la función **main_recsys**.\n",
    "\n",
    "**Bloque II – Análisis de redes sociales**\n",
    "\n",
    "* Un esqueleto de clases y funciones donde el estudiante desarrollará sus implementaciones. De modo similar a las prácticas anteriores, se proporciona una función principal **main_sna** que deberá funcionar con el código a implementar por el estudiante.\n",
    "* Redes sociales de prueba:\n",
    "  - Tres redes pequeñas de prueba.\n",
    "  - Redes reales: la red disponible en [SNAP (facebook_combined)](https://snap.stanford.edu/data/egonets-Facebook.html), y <ins>twitter.csv</ins> obtenida mediante una descarga de Twitter (unos 10 mil usuarios con medio millón de relaciones follow).\n",
    "  - Al conjunto de redes de prueba, el estudiante añadirá dos redes más, simuladas, en el ejercicio 5.\n",
    "* Un documento de texto <ins>sna-output.txt</ins> con la correspondiente salida estándar que deberá producir la ejecución de la función **main_sna**."
   ]
  },
  {
   "cell_type": "markdown",
   "metadata": {
    "id": "ZKBXprvhpqQr"
   },
   "source": [
    "## Calificación\n",
    "\n",
    "Esta práctica se calificará con una puntuación de 0 a 10 atendiendo a las puntuaciones individuales de ejercicios y apartados dadas en el enunciado. El peso de la nota de esta práctica en la calificación final de prácticas es del **40%**.\n",
    "\n",
    "La calificación se basará en el **número** de ejercicios realizados y la **calidad** de los mismos. La puntuación que se indica en cada apartado es orientativa, en principio se aplicará tal cual se refleja pero podrá matizarse por criterios de buen sentido si se da el caso.\n",
    "\n",
    "Para dar por válida la realización de un ejercicio, el código deberá funcionar (a la primera) integrado con las clases que se facilitan. El profesor comprobará este aspecto combinando las clases entregadas por el estudiante en los programas main facilitados, así como en otros adicionales.\n",
    "\n",
    "La corrección de las implementaciones se observará por la **coherencia de los resultados** (por ejemplo, las métricas sobre los algoritmos de recomendación), y se valorará la eficiencia en tiempo de ejecución."
   ]
  },
  {
   "cell_type": "markdown",
   "metadata": {
    "id": "IfMu2CuGprtk"
   },
   "source": [
    "## Entrega\n",
    "\n",
    "La entrega consistirá en un único fichero tipo *notebook* donde se incluirán todas las **implementaciones** solicitadas en cada ejercicio, así como una explicación de cada uno a modo de **memoria**."
   ]
  },
  {
   "cell_type": "markdown",
   "metadata": {
    "id": "--pSxv2vpvUg"
   },
   "source": [
    "## Indicaciones\n",
    "\n",
    "La realización de los ejercicios conducirá en muchos casos a la implementación de funciones y/o clases adicionales a las que se indican en el enunciado. Algunas vendrán dadas por su aparición en las propias funciones main, y otras por conveniencia a criterio del estudiante.\n",
    "\n",
    "Igual que en prácticas anteriores, no deberán editarse las funciones **main_recsys** y **main_sna**. Estos programas deberán ejecutar sin errores \"a la primera\" con el código entregado por el estudiante (naturalmente con salvedad de los ejercicios que no se hayan implementado). \n"
   ]
  },
  {
   "cell_type": "markdown",
   "metadata": {
    "id": "U3jRLNZmpEk_"
   },
   "source": [
    "# Bloque I - Recomendación\n",
    "\n",
    "Los esqueletos que se proporcionan a continuación son a modo de guía: el estudiante puede modificarlo todo libremente, siempre que la función **main_recsys** funcione correctamente **sin cambios**.\n",
    "\n",
    "Se implementarán estructuras y diferentes algoritmos para el desarrollo de sistemas de recomendación. \n",
    "\n",
    "**Importante**: recordar que no deben recomendarse los ítems que los usuarios ya hayan puntuado."
   ]
  },
  {
   "cell_type": "code",
   "execution_count": 17,
   "metadata": {},
   "outputs": [],
   "source": [
    "\"\"\"\n",
    " Copyright (C) 2022 Pablo Castells, Alejandro Bellogín y Andrés Mena\n",
    "\n",
    " Este código se ha implementado para la realización de las prácticas de\n",
    " la asignatura \"Búsqueda y minería de información\" de 4º del Grado en\n",
    " Ingeniería Informática, impartido en la Escuela Politécnica Superior de\n",
    " la Universidad Autónoma de Madrid. El fin del mismo, así como su uso,\n",
    " se ciñe a las actividades docentes de dicha asignatura.\n",
    "\"\"\"\n",
    "\n",
    "import random\n",
    "import heapq\n",
    "from abc import ABC, abstractmethod\n",
    "\n",
    "class Ranking:\n",
    "    class ScoredItem:\n",
    "        \"\"\"\n",
    "        Clase utilizada para gestionar las comparaciones que se realizan dentro del heap\n",
    "        \"\"\"\n",
    "        def __init__(self, element):\n",
    "            self.element = element\n",
    "\n",
    "        def __lt__(self, other):\n",
    "            \"\"\"\n",
    "            En primer lugar se compara el score. En caso de que sean iguales (mismo score),\n",
    "            se compara usando el itemid (se colocará más arriba el elemento con un itemid menor).\n",
    "            \"\"\"\n",
    "            return self.element[0] < other.element[0] if self.element[0] != other.element[0] \\\n",
    "                else self.element[1] > other.element[1]\n",
    "\n",
    "        def __eq__(self, other):\n",
    "            return self.element == other.element\n",
    "\n",
    "        def __str__(self):\n",
    "            return str(self.element)\n",
    "\n",
    "        def __repr__(self):\n",
    "            return self.__str__()\n",
    "\n",
    "    def __init__(self, topn):\n",
    "        self.heap = []\n",
    "        self.topn = topn\n",
    "        self.changed = 0\n",
    "\n",
    "    def add(self, item, score):\n",
    "        scored_item = self.ScoredItem((score, item))\n",
    "        if len(self.heap) < self.topn:\n",
    "            heapq.heappush(self.heap, scored_item)\n",
    "            self.changed = 1\n",
    "        elif scored_item > self.heap[0]:\n",
    "            heapq.heappop(self.heap)\n",
    "            heapq.heappush(self.heap, scored_item)\n",
    "            self.changed = 1\n",
    "\n",
    "    def __iter__(self):\n",
    "        if self.changed:\n",
    "            self.ranking = []\n",
    "            h = self.heap.copy()\n",
    "            while h:\n",
    "                self.ranking.append(heapq.heappop(h).element[::-1])\n",
    "            self.changed = 0\n",
    "        return reversed(self.ranking)\n",
    "\n",
    "    def __repr__(self):\n",
    "        r = \"<\"\n",
    "        for item, score in self:\n",
    "            r = r + str(item) + \":\" + str(score) + \" \"\n",
    "        return r[0:-1] + \">\""
   ]
  },
  {
   "cell_type": "markdown",
   "metadata": {},
   "source": [
    "## Ejercicio 1: Estructuras de datos y recomendación simple (1pt)\n",
    "\n",
    "Implementar las clases necesarias para manejar **datos de entrada** (ratings) para los algoritmos de recomendación. La funcionalidad se implementará en una clase Ratings, que permitirá leer los datos de un fichero de texto, añadir ratings y acceder a ellos, así como un método que genere dos particiones aleatorias de entrenamiento y test, para evaluar y comparar la efectividad de diferentes algoritmos de recomendación. Nota: podéis asumir que los archivo de ratings no incluyen cabeceras.\n",
    "\n",
    "La **salida** de un recomendador consistirá en un diccionario con un ránking por usuario. Se facilita una clase Ranking basada en heap, similar a la utilizada para motores de búsqueda en la práctica anterior, para almacenar los ránkings de recomendación; la diferencia es que ahora no se devuelven ránkings en respuesta a consultas, sino un ránking por usuario de forma proactiva y en bloque para todos los usuarios presentes en el conjunto de ratings dado (sin que los usuarios lo \"pidan\" explícitamente).\n",
    "\n",
    "Implementar un primer **recomendador simple** por rating promedio en una clase `AverageRecommender`. El recomendador sólo recomendará ítems que tengan un mínimo de ratings, mínimo que se indicará como parámetro en el constructor (con ello se mejora el acierto de la recomendación). Se proporciona una clase `MajorityRecommender` a modo de ejemplo en el que el estudiante podrá basarse. También se proporciona `RandomRecommender`, que se utiliza en ocasiones como referencia en experimentos. "
   ]
  },
  {
   "cell_type": "code",
   "execution_count": 18,
   "metadata": {},
   "outputs": [],
   "source": [
    "import pandas as pd\n",
    "import random\n",
    "class Ratings:\n",
    "    def __init__(self, file=\"\", delim='\\t'):\n",
    "        self.file = file\n",
    "        self.delimiter = delim\n",
    "        self.ratings = {}\n",
    "        self.list_items = []\n",
    "        \n",
    "        if file != \"\":\n",
    "            # si es .dat\n",
    "            if delim == '\\t':\n",
    "                with open(self.file, 'r') as file:\n",
    "                    lines = [line.split() for line in file]\n",
    "                for line in lines:\n",
    "                    user = int(line[0])\n",
    "                    item = int(line[1])\n",
    "                    rating = float(line[2])\n",
    "                    if user in self.ratings.keys():\n",
    "                        self.ratings[user][item] = rating\n",
    "                    else:\n",
    "                        self.ratings[user] = {}\n",
    "                        self.ratings[user][item] = rating\n",
    "                    if item not in self.list_items:\n",
    "                        self.list_items.append(item)\n",
    "\n",
    "            # si es un csv            \n",
    "            else:\n",
    "                df = pd.read_csv(self.file)\n",
    "                df.drop(df.columns[len(df.columns)-1], axis=1, inplace=True)\n",
    "                for i in range(len(df)):\n",
    "                    user = df.iloc[i, 0]\n",
    "                    item = df.iloc[i, 1]\n",
    "                    rating = df.iloc[i, 2]\n",
    "                    if user in self.ratings.keys():\n",
    "                        self.ratings[user][item] = rating\n",
    "                    else:\n",
    "                        self.ratings[user] = {}\n",
    "                        self.ratings[user][item] = rating\n",
    "                    if item not in self.list_items:\n",
    "                        self.list_items.append(item)\n",
    "            \n",
    "\n",
    "    def rate(self, user, item, rating):\n",
    "        if user in self.ratings.keys():\n",
    "            self.ratings[user][item] = rating\n",
    "        else:\n",
    "            self.ratings[user] = {}\n",
    "            self.ratings[user][item] = rating\n",
    "        if item not in self.list_items:\n",
    "            self.list_items.append(item)\n",
    "        \n",
    "\n",
    "    def rating(self, user, item):\n",
    "        return self.ratings[user][item]\n",
    "\n",
    "    def random_split(self, ratio):\n",
    "        # hacer split del diccionario de ratings\n",
    "        # dado un porcentaje (ratio)\n",
    "        # devuelve dos objetos de tipo rating (1 con los de train y otro con los de test)\n",
    "        # se dividen estos ratings con los gustos (puntuaciones) de los usuarios\n",
    "        \n",
    "        ratings_train = Ratings()\n",
    "        ratings_test = Ratings()\n",
    "        for user in self.users():\n",
    "            for item in self.user_items(user):\n",
    "                if random.uniform(0, 1) > ratio:\n",
    "                    ratings_test.rate(user, item, self.rating(user, item))\n",
    "                else:\n",
    "                    ratings_train.rate(user, item, self.rating(user, item))\n",
    "        return ratings_train, ratings_test\n",
    "         \n",
    "        \n",
    "    def users(self):\n",
    "        return list(self.ratings.keys())\n",
    "        \n",
    "    def items(self):\n",
    "        return self.list_items\n",
    "    \n",
    "    def nratings(self):\n",
    "        n_ratings = 0  \n",
    "        for key in self.ratings.keys():\n",
    "            n_ratings += len(self.ratings[key].keys())\n",
    "        return n_ratings\n",
    "    \n",
    "    def item_users(self, item):\n",
    "        dict_aux = {}\n",
    "        for user in self.ratings.keys():\n",
    "            if item in self.ratings[user].keys():\n",
    "                dict_aux[user] = self.ratings[user][item]\n",
    "        return dict_aux\n",
    "        \n",
    "    def user_items(self, user):\n",
    "        return self.ratings[user]"
   ]
  },
  {
   "cell_type": "code",
   "execution_count": 19,
   "metadata": {},
   "outputs": [],
   "source": [
    "class Recommender(ABC):\n",
    "    def __init__(self, training):\n",
    "        self.training = training\n",
    "\n",
    "    def __repr__(self):\n",
    "        return type(self).__name__\n",
    "\n",
    "    @abstractmethod\n",
    "    def score(self, user, item):\n",
    "        \"\"\" Core scoring function of the recommendation algorithm \"\"\"\n",
    "\n",
    "    def recommend(self, topn):\n",
    "        dict_ranking = {}\n",
    "        for user in self.training.users():\n",
    "            ranking = Ranking(topn)\n",
    "            for item in self.training.items():\n",
    "                if item not in self.training.user_items(user):\n",
    "                    score = self.score(user, item)\n",
    "                    ranking.add(item, score)\n",
    "            dict_ranking[user] = ranking\n",
    "        return dict_ranking\n",
    "\n",
    "class RandomRecommender(Recommender):\n",
    "    \n",
    "    def score(self, user, item):\n",
    "        return random.random()\n",
    "\n",
    "\n",
    "class MajorityRecommender(Recommender):\n",
    "    def __init__(self, ratings, threshold=0):\n",
    "        super().__init__(ratings)\n",
    "        self.threshold = threshold\n",
    "\n",
    "    def score(self, user, item):\n",
    "        return sum(rating >= self.threshold for user, rating in self.training.item_users(item).items())\n",
    "    \n",
    "class AverageRecommender(Recommender):\n",
    "    def __init__(self, training, minimo):\n",
    "        super().__init__(training)\n",
    "        self.min = minimo\n",
    "    \n",
    "    def score(self, user, item):\n",
    "        ratings = [self.training.rating(user, item) for user in self.training.users()\n",
    "                                                        if item in self.training.user_items(user)]\n",
    "    \n",
    "        if len(ratings) >= self.min:\n",
    "            return sum(ratings)/len(ratings)\n",
    "        else:\n",
    "            return 0            "
   ]
  },
  {
   "cell_type": "markdown",
   "metadata": {
    "id": "r3YGEGm7haop"
   },
   "source": [
    "### Explicación/documentación\n",
    "\n",
    "Para comprender de forma más sencilla la estructura de Ratings, la solemos visualizar como una matriz en la que las filas son los usuarios del sistema y las columnas serían los items que se puntúan; el valor que le da el usuario al ítem sería la puntuación y ese sería ya el valor dentro de la matriz. Sin embargo, a la hora de implementarlo, se estructura todo mucho más fácil con un diccionario.\n",
    "\n",
    "Nuestra clase Ratings tiene un diccionario cuyas claves serán los usuarios y los valores de esas claves serán otro diccionario. Este otro diccionario contiene pares (clave, valor) en los que la clave será eñ número de ítem que púntua y el valor será la puntuación asignada. También hemos definido una lista que contendrá el número de ítems. Posteriormente rellenamos nuestra estructura de datos en el constructor de la clase según si el tipo de fichero que recibimos es un csv o un .dat e implementamos la funcionalidad de forma que concuerde con nuestra idea de la estructura 'Ratings'.\n",
    "\n",
    "Para la implementación de los recomendadores, hemos dejado el método score como abstracto y cada tipo de recomendador implementará este método correspondiendo a su funcionalidad. El método recommend tendrá la misma mecánica para todos los recomendadores; esa mecánica trata de devolver un diccionario por cada usuario con un ranking estimado por la función de 'score' sobre los ítems que le debería de recomendar. Se han realizado dos implementaciones sencillas en las que una te recomienda en base a lo que ha puntuado la mayoría de los usuarios y otro está basado en la media."
   ]
  },
  {
   "cell_type": "markdown",
   "metadata": {
    "id": "r3ti8qGedgNB"
   },
   "source": [
    "## Ejercicio 2: Filtrado colaborativo kNN (3pt)\n",
    "\n",
    "Implementar dos variantes de filtrado colaborativo mediante vecinos próximos orientado a usuarios:\n",
    "\n",
    "* Implementar la clase `UserKNNRecommender` para realizar filtrado colaborativo **basado en usuario** por *similitud coseno* (sin normalizar por la suma de similitudes). Se sugiere crear los vecindarios \"offline\" en el constructor del recomendador. Se recomienda asimismo utilizar la clase `Ranking`, que utiliza un heap de ránking, para construir los vecindarios.\n",
    "* Implementar una variante normalizada `NormUserKNNRecommender`. De forma similar a la recomendación por rating promedio, el algoritmo exigirá un mínimo de ratings de vecinos para aceptar recomendar un ítem (con ello se mejora el acierto de la recomendación)."
   ]
  },
  {
   "cell_type": "code",
   "execution_count": 20,
   "metadata": {
    "id": "wzZ-6OG0dvwX"
   },
   "outputs": [],
   "source": [
    "import math\n",
    "class UserSimilarity(ABC):\n",
    "    @abstractmethod\n",
    "    def sim(self, user1, user2):\n",
    "        \"\"\" Computation of user-user similarity metric \"\"\"\n",
    "\n",
    "class CosineUserSimilarity(UserSimilarity):\n",
    "    def __init__(self, ratings):\n",
    "        self.ratings = ratings\n",
    "    \n",
    "    def compute_module(self, user):\n",
    "        module = 0\n",
    "        for item in self.ratings.user_items(user).keys():\n",
    "            module += self.ratings.rating(user, item) **2\n",
    "        return math.sqrt(module)\n",
    "        \n",
    "    def sim(self, user1, user2):\n",
    "        module_user1 = self.compute_module(user1)\n",
    "        module_user2 = self.compute_module(user2)\n",
    "        suma_numerador = 0\n",
    "        for item in self.ratings.user_items(user1).keys():\n",
    "            if item in self.ratings.user_items(user2).keys():\n",
    "                suma_numerador += self.ratings.rating(user1, item) * self.ratings.rating(user2, item)\n",
    "                \n",
    "        return suma_numerador / (module_user1 * module_user2)\n",
    "        \n",
    "                \n",
    "class UserKNNRecommender(Recommender):\n",
    "    def __init__(self, training, sim, k):\n",
    "        super().__init__(training)\n",
    "        self.similarity = sim\n",
    "        self.k = k\n",
    "        self.k_most_similar = {}\n",
    "        \n",
    "        # guardamos los k usuarios mas similares para cada usuario\n",
    "        for user in self.training.users():\n",
    "            ranking = Ranking(k)\n",
    "            for user_aux in self.training.users():\n",
    "                if user != user_aux:\n",
    "                    similarity = self.similarity.sim(user, user_aux)\n",
    "                    if similarity != 0:\n",
    "                        ranking.add(user_aux, similarity)\n",
    "            self.k_most_similar[user] = ranking   \n",
    "    \n",
    "    def score(self, user, item):\n",
    "        suma = 0\n",
    "        for similar_user, similarity in self.k_most_similar[user]:\n",
    "            if item in self.training.ratings[similar_user].keys():\n",
    "                suma += similarity * self.training.rating(similar_user, item)\n",
    "        return suma\n",
    "            \n",
    "class NormUserKNNRecommender(UserKNNRecommender):\n",
    "    def __init__(self, training, sim, k, minimo):\n",
    "        super().__init__(training, sim, k)\n",
    "        self.min = minimo\n",
    "    \n",
    "    def score(self, user, item):\n",
    "        suma = 0 \n",
    "        suma_similitudes = 0\n",
    "        contador_ratings = 0\n",
    "        for similar_user, similarity in self.k_most_similar[user]:\n",
    "            if item in self.training.ratings[similar_user].keys():\n",
    "                suma += similarity * self.training.rating(similar_user, item)\n",
    "                suma_similitudes += similarity\n",
    "                contador_ratings += 1\n",
    "        if suma_similitudes == 0 or contador_ratings < self.min:\n",
    "            return 0\n",
    "        else:\n",
    "            return suma / suma_similitudes"
   ]
  },
  {
   "cell_type": "markdown",
   "metadata": {
    "id": "k7xYd4hzhukr"
   },
   "source": [
    "### Explicación/documentación\n",
    "\n",
    "En este apartado hemos implementado la función de similitud entre usuarios y dos recomendadores de filtrado colaborativo basados en usuario. La función de similitud es aplicar el coseno a los dos usuarios.\n",
    "\n",
    "En cada recomendador, ha sido necesario guardar los K usuarios más similares de cada uno de los usuarios del sistema, ya que está basado en el algoritmo KNN (K-Nearest Neighbours). La función de score es simplemente aplicar las fórmulas vistas en teoría y realizar el sumatorio del producto de las similitudes por su rating correspondiente. En el caso de la versión normalizada, simplemente hay que dividir entre la suma de las similitudes.\n"
   ]
  },
  {
   "cell_type": "markdown",
   "metadata": {
    "id": "hpXHr18Cdl2Q"
   },
   "source": [
    "## Ejercicio 3: Ampliación de algoritmos (1pt)\n",
    "\n",
    "Implementar dos variantes adicionales de los algoritmos de filtrado colaborativo y basados en contenido, tales como:\n",
    "\n",
    "* Un algoritmo colaborativo por **vecinos próximos orientado a ítem**. \n",
    "* **Otras variantes** adicionales a elección del estudiante, por ejemplo: similitud de Pearson, kNN centrado en la media. \n",
    "\n",
    "Para probar los métodos deberá completarse la función `student_test_recsys()` del apartado siguiente que ilustre la ejecución de las variantes adicionales."
   ]
  },
  {
   "cell_type": "code",
   "execution_count": 21,
   "metadata": {
    "id": "MOfT2yZGpMNi"
   },
   "outputs": [],
   "source": [
    "# Ampliación de algoritmos"
   ]
  },
  {
   "cell_type": "markdown",
   "metadata": {
    "id": "HJDzjUp-hwNZ"
   },
   "source": [
    "### Explicación/documentación\n",
    "\n",
    "(por hacer)"
   ]
  },
  {
   "cell_type": "markdown",
   "metadata": {
    "id": "fVzsIg0Zev7a"
   },
   "source": [
    "## Ejercicio 4: Evaluación (1pt)\n",
    "\n",
    "Se desarrollarán clases que permitan calcular métricas para evaluar y comparar el acierto de los recomendadores: se implementarán **precisión** y **recall**. \n",
    "\n",
    "Como resumen de este bloque, se incluirá una *tabla con los valores de las métricas* (dos columnas) más el tiempo de ejecución (una columna más) sobre todos los algoritmos implementados (filas), al menos para el conjunto de datos de <ins>ml-latest-small.zip</ins>.\n",
    "\n",
    "Opcionalmente, se podrán implementar otras métricas a elección del estudiante (nDCG, etc.), cuya prueba se incluirá en la función `student_test_recsys()`."
   ]
  },
  {
   "cell_type": "code",
   "execution_count": 22,
   "metadata": {
    "id": "VqSKneeSe2bN"
   },
   "outputs": [],
   "source": [
    "class EvaluationMetric(ABC):\n",
    "    def __init__(self, test, cutoff):\n",
    "        self.test = test\n",
    "        self.cutoff = cutoff\n",
    "\n",
    "    def __repr__(self):\n",
    "        return type(self).__name__ + (\"@\" + str(self.cutoff) if self.cutoff != math.inf else \"\")\n",
    "\n",
    "    # Esta función se puede dejar abstracta declarándola @abstractmethod, \n",
    "    # pero también se puede meter algo de código aquí y el resto en las\n",
    "    # subclases - a criterio del estudiante.\n",
    "    @abstractmethod\n",
    "    def compute(self, recommendation):\n",
    "        \"\"\" Completar \"\"\"\n",
    "\n",
    "class Precision(EvaluationMetric):\n",
    "    def __init__(self, test, cutoff, threshold):\n",
    "        super().__init__(test, cutoff)\n",
    "        self.threshold = threshold\n",
    "    \n",
    "    def compute(self, recommendation):\n",
    "        list_eval_users = []\n",
    "        for user in recommendation:\n",
    "            cont_user = 0\n",
    "            if user not in self.test.users():\n",
    "                list_eval_users.append(0)\n",
    "                continue\n",
    "            for item in self.test.user_items(user):\n",
    "                lista_tuplas = [tupla.element[1] for tupla in recommendation[user].heap]\n",
    "                if item in lista_tuplas and self.test.rating(user, item) >= self.threshold:\n",
    "                    cont_user += 1\n",
    "            list_eval_users.append(cont_user / self.cutoff)\n",
    "        return sum(list_eval_users) / len(list_eval_users)\n",
    "                        \n",
    "class Recall(EvaluationMetric):\n",
    "    def __init__(self, test, cutoff, threshold):\n",
    "        super().__init__(test, cutoff)\n",
    "        self.threshold = threshold\n",
    "    \n",
    "    def compute(self, recommendation):\n",
    "        list_eval_users = []\n",
    "        for user in recommendation:\n",
    "            cont_user = 0\n",
    "            denominador = 0\n",
    "            if user not in self.test.users():\n",
    "                list_eval_users.append(0)\n",
    "                continue\n",
    "            for item in self.test.user_items(user):\n",
    "                lista_tuplas = [tupla.element[1] for tupla in recommendation[user].heap]\n",
    "                if self.test.rating(user, item) >= self.threshold:\n",
    "                    denominador += 1\n",
    "                if item in lista_tuplas and self.test.rating(user, item) >= self.threshold:\n",
    "                    cont_user += 1\n",
    "                    \n",
    "            if denominador == 0:\n",
    "                list_eval_users.append(0)\n",
    "            else:\n",
    "                list_eval_users.append(cont_user / denominador)\n",
    "        return sum(list_eval_users) / len(list_eval_users)"
   ]
  },
  {
   "cell_type": "code",
   "execution_count": 23,
   "metadata": {},
   "outputs": [],
   "source": [
    "def student_test_recsys(train, test, k, topn, cutoff):\n",
    "    pass"
   ]
  },
  {
   "cell_type": "markdown",
   "metadata": {
    "id": "ucORmwfCh4Um"
   },
   "source": [
    "### Explicación/documentación\n",
    "\n",
    "La funcionalidad en ambas métricas ha sido bastante parecida, lo único que cambia es en el caso del denominador en el cual en la Precisión sería el cutoff que se define previamente y en el recall únicamente los ítems puntuados que estén por encima del threshold. La parte del numerador contiene el número de usuarios que han puntuado ese ítem de la recomendación y que además la puntuación sea mayor que el threshold. Se saca una serie de puntuaciones y se acaba haciendo la media para obtener la métrica total para cada recomendador.\n",
    "\n",
    "Ejemplo de tabla de resumen: \n",
    "\n",
    "|      | Precision@K | Recall@K | Tiempo |\n",
    "| ----- | --------- | -------- | ----- |\n",
    "| Alg1 | | | |\n",
    "| Alg2 | | | |\n",
    "| ... | | | |\n",
    "| AlgN | | | |"
   ]
  },
  {
   "cell_type": "markdown",
   "metadata": {},
   "source": [
    "## Programa de prueba **main_recsys**\n",
    "\n",
    "Descarga los ficheros del curso de Moodle y coloca sus contenidos en una carpeta **recsys_data** en el mismo directorio que este *notebook*."
   ]
  },
  {
   "cell_type": "code",
   "execution_count": 24,
   "metadata": {},
   "outputs": [
    {
     "name": "stdout",
     "output_type": "stream",
     "text": [
      "=========================\n",
      "Toy test\n",
      "-------------------------\n",
      "Evaluating RandomRecommender\n",
      "    Precision@4 = 0.05\n",
      "    Recall@4 = 0.2\n",
      "Evaluating MajorityRecommender\n",
      "    Precision@4 = 0.05\n",
      "    Recall@4 = 0.2\n",
      "Evaluating AverageRecommender\n",
      "    Precision@4 = 0.1\n",
      "    Recall@4 = 0.4\n",
      "Evaluating UserKNNRecommender\n",
      "    Precision@4 = 0.1\n",
      "    Recall@4 = 0.4\n",
      "Evaluating NormUserKNNRecommender\n",
      "    Precision@4 = 0.15\n",
      "    Recall@4 = 0.6\n",
      "=========================\n",
      "Testing toy dataset\n",
      "-------------------------\n",
      "Testing the data structures\n",
      "22 ratings by 5 users on 10 items\n",
      "Ratings of user 1 : {1: 1.0, 5: 5.0, 7: 2.0, 10: 5.0}\n",
      "Ratings of item 2 : {2: 2.0, 4: 2.0}\n",
      "-------------------------\n",
      "Testing RandomRecommender (top 4)\n",
      "    User 1 -> <8:0.9731157639793706 4:0.8071282732743802 6:0.7297317866938179 2:0.6037260313668911>\n",
      "    User 2 -> <8:0.8617069003107772 5:0.8294046642529949 10:0.6185197523642461 3:0.577352145256762>\n",
      "    User 3 -> <7:0.7045718362149235 6:0.28938796360210717 8:0.23279088636103018 4:0.22789827565154686>\n",
      "    User 4 -> <5:0.6356844442644002 9:0.37018096711688264 6:0.36483217897008424 1:0.2779736031100921>\n",
      "Testing MajorityRecommender (top 4)\n",
      "    User 1 -> <3:1 4:1 6:1 9:1>\n",
      "    User 2 -> <5:2 1:1 3:1 10:1>\n",
      "    User 3 -> <3:1 4:1 6:1 7:1>\n",
      "    User 4 -> <5:2 1:1 3:1 6:1>\n",
      "Testing AverageRecommender (top 4)\n",
      "    User 1 -> <4:4.0 6:4.0 9:2.5 2:2.0>\n",
      "    User 2 -> <5:4.0 10:3.3333333333333335 1:2.6666666666666665 3:0>\n",
      "    User 3 -> <4:4.0 6:4.0 7:2.6666666666666665 9:2.5>\n",
      "    User 4 -> <5:4.0 6:4.0 1:2.6666666666666665 9:2.5>\n",
      "--> elapsed time: 0:00:00 <--\n",
      "Creating user cosine similarity\n",
      "--> elapsed time: 0:00:00 <--\n",
      "Creating kNN recommender\n",
      "--> elapsed time: 0:00:00 <--\n",
      "Testing UserKNNRecommender (top 4)\n",
      "    User 1 -> <4:2.238184464464379 6:1.9851723076118835 9:1.3156632156329737 3:1.121038479592593>\n",
      "    User 2 -> <10:2.4731236802019043 5:1.9231236802019038 8:1.5000000000000004 3:1.2666666666666666>\n",
      "    User 3 -> <6:2.309401076758503 3:1.8475208614068024 9:1.8475208614068024 7:1.6725239222140886>\n",
      "    User 4 -> <5:2.2316605255328623 6:1.5000000000000004 1:0.908212320458273 9:0.5000000000000001>\n",
      "--> elapsed time: 0:00:00 <--\n",
      "Testing NormUserKNNRecommender (top 4)\n",
      "    User 1 -> <4:4.2592592592592595 6:4.1803278688524586 9:2.7704918032786883 2:2.0>\n",
      "    User 2 -> <5:3.7613065074434435 10:3.560373755618938 1:2.2386934925565565 3:0>\n",
      "    User 3 -> <7:1.841113295503649 2:0 3:0 4:0>\n",
      "    User 4 -> <5:4.696259084270828 1:1.911222747187516 3:0 6:0>\n",
      "--> elapsed time: 0:00:00 <--\n",
      "-------------------------\n",
      "Evaluating RandomRecommender\n",
      "    Precision@4 = 0.1\n",
      "    Recall@4 = 0.4\n",
      "Evaluating MajorityRecommender\n",
      "    Precision@4 = 0.1\n",
      "    Recall@4 = 0.4\n",
      "Evaluating AverageRecommender\n",
      "    Precision@4 = 0.1\n",
      "    Recall@4 = 0.4\n",
      "Evaluating UserKNNRecommender\n",
      "    Precision@4 = 0.1\n",
      "    Recall@4 = 0.4\n",
      "Evaluating NormUserKNNRecommender\n",
      "    Precision@4 = 0.1\n",
      "    Recall@4 = 0.4\n",
      "=========================\n",
      "Testing MovieLens \"latest-small\" dataset\n",
      "-------------------------\n",
      "Testing the data structures\n",
      "100835 ratings by 610 users on 9724 items\n",
      "Ratings of user 35 : {11: 4.0, 21: 5.0, 39: 3.0, 50: 5.0, 60: 5.0, 62: 5.0, 150: 5.0, 185: 5.0, 222: 4.0, 231: 3.0, 235: 4.0, 236: 4.0, 237: 3.0, 252: 4.0, 261: 5.0, 266: 2.0, 300: 4.0, 316: 3.0, 339: 5.0, 342: 4.0, 590: 5.0, 592: 4.0, 595: 3.0}\n",
      "Ratings of item 1240 : {1: 5.0, 7: 5.0, 15: 4.0, 17: 5.0, 18: 4.0, 19: 4.0, 21: 3.5, 28: 4.5, 30: 3.5, 31: 4.0, 45: 3.0, 57: 4.0, 64: 3.5, 66: 4.0, 68: 4.0, 71: 4.0, 75: 4.0, 78: 5.0, 79: 4.0, 91: 4.5, 95: 5.0, 98: 1.0, 115: 5.0, 125: 4.0, 135: 5.0, 140: 3.0, 149: 4.0, 160: 4.0, 164: 5.0, 166: 3.0, 178: 4.5, 182: 2.0, 186: 4.0, 197: 4.0, 198: 3.0, 199: 5.0, 201: 5.0, 202: 4.0, 212: 4.0, 213: 4.0, 217: 2.0, 219: 4.0, 220: 4.5, 222: 3.5, 223: 3.0, 226: 4.0, 231: 4.0, 232: 4.5, 239: 4.0, 246: 4.5, 249: 4.0, 261: 4.0, 265: 5.0, 266: 4.0, 267: 5.0, 272: 4.0, 274: 4.0, 279: 4.0, 282: 4.5, 288: 3.0, 290: 4.0, 292: 4.0, 298: 4.0, 301: 0.5, 303: 5.0, 304: 5.0, 305: 3.5, 307: 2.5, 312: 4.0, 313: 5.0, 330: 2.5, 332: 4.0, 334: 3.5, 346: 2.5, 354: 4.0, 359: 2.5, 368: 4.0, 370: 4.0, 372: 3.0, 376: 4.0, 380: 5.0, 381: 2.5, 385: 4.0, 387: 4.0, 391: 4.0, 393: 0.5, 407: 3.0, 414: 5.0, 419: 3.5, 425: 3.0, 428: 2.5, 432: 3.5, 434: 3.5, 438: 4.0, 439: 4.0, 448: 3.0, 452: 5.0, 453: 4.0, 462: 4.0, 464: 4.0, 465: 4.0, 469: 4.0, 474: 4.0, 475: 4.5, 477: 4.0, 480: 4.0, 483: 3.5, 489: 3.5, 493: 4.0, 514: 4.0, 520: 4.0, 524: 4.0, 528: 4.0, 532: 4.0, 555: 5.0, 561: 4.0, 562: 5.0, 570: 3.5, 573: 4.5, 577: 4.0, 580: 3.5, 590: 4.5, 594: 5.0, 597: 4.0, 599: 3.5, 600: 3.0, 603: 4.0, 606: 4.0, 607: 5.0, 608: 3.5, 610: 5.0}\n",
      "-------------------------\n",
      "Testing RandomRecommender (top 5)\n",
      "    User 1 -> <469:0.9999078285092092 136864:0.999899552563092 1277:0.9996057468113461 3146:0.9995950439343869 5841:0.9995724168774514>\n",
      "    User 2 -> <187593:0.999706564107641 55280:0.9994388909997407 3808:0.9991759784263957 2615:0.9991404805869679 27020:0.9990974273157817>\n",
      "    User 3 -> <91842:0.999857181609815 4605:0.9995397520856549 1269:0.9993391951289353 26717:0.99932379530848 1282:0.9992723248152531>\n",
      "    User 4 -> <95:0.9999888593078554 126426:0.9998246101041927 335:0.9996610581919385 6654:0.9995809025786866 2975:0.9993885871787319>\n",
      "Testing MajorityRecommender (top 5)\n"
     ]
    },
    {
     "ename": "KeyboardInterrupt",
     "evalue": "",
     "output_type": "error",
     "traceback": [
      "\u001b[0;31m---------------------------------------------------------------------------\u001b[0m",
      "\u001b[0;31mKeyboardInterrupt\u001b[0m                         Traceback (most recent call last)",
      "Input \u001b[0;32mIn [24]\u001b[0m, in \u001b[0;36m<cell line: 99>\u001b[0;34m()\u001b[0m\n\u001b[1;32m     96\u001b[0m \u001b[38;5;28;01mdef\u001b[39;00m \u001b[38;5;21mtimer\u001b[39m(start):\n\u001b[1;32m     97\u001b[0m     \u001b[38;5;28mprint\u001b[39m(\u001b[38;5;124m\"\u001b[39m\u001b[38;5;124m--> elapsed time:\u001b[39m\u001b[38;5;124m\"\u001b[39m, datetime\u001b[38;5;241m.\u001b[39mtimedelta(seconds\u001b[38;5;241m=\u001b[39m\u001b[38;5;28mround\u001b[39m(time\u001b[38;5;241m.\u001b[39mprocess_time() \u001b[38;5;241m-\u001b[39m start)), \u001b[38;5;124m\"\u001b[39m\u001b[38;5;124m<--\u001b[39m\u001b[38;5;124m\"\u001b[39m)\n\u001b[0;32m---> 99\u001b[0m \u001b[43mmain_recsys\u001b[49m\u001b[43m(\u001b[49m\u001b[43m)\u001b[49m\n",
      "Input \u001b[0;32mIn [24]\u001b[0m, in \u001b[0;36mmain_recsys\u001b[0;34m()\u001b[0m\n\u001b[1;32m     10\u001b[0m test_dataset(\u001b[38;5;124m\"\u001b[39m\u001b[38;5;124mrecsys_data/toy-ratings.dat\u001b[39m\u001b[38;5;124m\"\u001b[39m, \u001b[38;5;241m1\u001b[39m, \u001b[38;5;241m2\u001b[39m, k\u001b[38;5;241m=\u001b[39m\u001b[38;5;241m4\u001b[39m, \u001b[38;5;28mmin\u001b[39m\u001b[38;5;241m=\u001b[39m\u001b[38;5;241m2\u001b[39m, topn\u001b[38;5;241m=\u001b[39m\u001b[38;5;241m4\u001b[39m, cutoff\u001b[38;5;241m=\u001b[39m\u001b[38;5;241m4\u001b[39m)\n\u001b[1;32m     11\u001b[0m \u001b[38;5;28mprint\u001b[39m(\u001b[38;5;124m\"\u001b[39m\u001b[38;5;124m=========================\u001b[39m\u001b[38;5;130;01m\\n\u001b[39;00m\u001b[38;5;124mTesting MovieLens \u001b[39m\u001b[38;5;130;01m\\\"\u001b[39;00m\u001b[38;5;124mlatest-small\u001b[39m\u001b[38;5;130;01m\\\"\u001b[39;00m\u001b[38;5;124m dataset\u001b[39m\u001b[38;5;124m\"\u001b[39m)\n\u001b[0;32m---> 12\u001b[0m \u001b[43mtest_dataset\u001b[49m\u001b[43m(\u001b[49m\u001b[38;5;124;43m\"\u001b[39;49m\u001b[38;5;124;43mrecsys_data/ratings.csv\u001b[39;49m\u001b[38;5;124;43m\"\u001b[39;49m\u001b[43m,\u001b[49m\u001b[43m \u001b[49m\u001b[38;5;241;43m35\u001b[39;49m\u001b[43m,\u001b[49m\u001b[43m \u001b[49m\u001b[38;5;241;43m1240\u001b[39;49m\u001b[43m,\u001b[49m\u001b[43m \u001b[49m\u001b[43mk\u001b[49m\u001b[38;5;241;43m=\u001b[39;49m\u001b[38;5;241;43m10\u001b[39;49m\u001b[43m,\u001b[49m\u001b[43m \u001b[49m\u001b[38;5;28;43mmin\u001b[39;49m\u001b[38;5;241;43m=\u001b[39;49m\u001b[38;5;241;43m3\u001b[39;49m\u001b[43m,\u001b[49m\u001b[43m \u001b[49m\u001b[43mtopn\u001b[49m\u001b[38;5;241;43m=\u001b[39;49m\u001b[38;5;241;43m5\u001b[39;49m\u001b[43m,\u001b[49m\u001b[43m \u001b[49m\u001b[43mcutoff\u001b[49m\u001b[38;5;241;43m=\u001b[39;49m\u001b[38;5;241;43m5\u001b[39;49m\u001b[43m,\u001b[49m\u001b[43m \u001b[49m\u001b[43mdelimiter\u001b[49m\u001b[38;5;241;43m=\u001b[39;49m\u001b[38;5;124;43m'\u001b[39;49m\u001b[38;5;124;43m,\u001b[39;49m\u001b[38;5;124;43m'\u001b[39;49m\u001b[43m)\u001b[49m\n",
      "Input \u001b[0;32mIn [24]\u001b[0m, in \u001b[0;36mtest_dataset\u001b[0;34m(ratings_file, user, item, k, min, topn, cutoff, delimiter)\u001b[0m\n\u001b[1;32m     27\u001b[0m test_data(ratings, user, item)\n\u001b[1;32m     28\u001b[0m \u001b[38;5;66;03m# Run some recommenders on the entire rating data as input - no evaluation\u001b[39;00m\n\u001b[0;32m---> 29\u001b[0m \u001b[43mtest_recommenders\u001b[49m\u001b[43m(\u001b[49m\u001b[43mratings\u001b[49m\u001b[43m,\u001b[49m\u001b[43m \u001b[49m\u001b[43mk\u001b[49m\u001b[43m,\u001b[49m\u001b[43m \u001b[49m\u001b[38;5;28;43mmin\u001b[39;49m\u001b[43m,\u001b[49m\u001b[43m \u001b[49m\u001b[43mtopn\u001b[49m\u001b[43m)\u001b[49m\n\u001b[1;32m     30\u001b[0m \u001b[38;5;66;03m# Now produce a rating split to re-run the recommenders on the training data and evaluate them with the test data\u001b[39;00m\n\u001b[1;32m     31\u001b[0m train, test \u001b[38;5;241m=\u001b[39m ratings\u001b[38;5;241m.\u001b[39mrandom_split(\u001b[38;5;241m0.8\u001b[39m)\n",
      "Input \u001b[0;32mIn [24]\u001b[0m, in \u001b[0;36mtest_recommenders\u001b[0;34m(ratings, k, min, topn)\u001b[0m\n\u001b[1;32m     49\u001b[0m start \u001b[38;5;241m=\u001b[39m time\u001b[38;5;241m.\u001b[39mprocess_time()\n\u001b[1;32m     50\u001b[0m test_recommender(RandomRecommender(ratings), topn)\n\u001b[0;32m---> 51\u001b[0m \u001b[43mtest_recommender\u001b[49m\u001b[43m(\u001b[49m\u001b[43mMajorityRecommender\u001b[49m\u001b[43m(\u001b[49m\u001b[43mratings\u001b[49m\u001b[43m,\u001b[49m\u001b[43m \u001b[49m\u001b[43mthreshold\u001b[49m\u001b[38;5;241;43m=\u001b[39;49m\u001b[38;5;241;43m4\u001b[39;49m\u001b[43m)\u001b[49m\u001b[43m,\u001b[49m\u001b[43m \u001b[49m\u001b[43mtopn\u001b[49m\u001b[43m)\u001b[49m\n\u001b[1;32m     52\u001b[0m test_recommender(AverageRecommender(ratings, \u001b[38;5;28mmin\u001b[39m), topn)\n\u001b[1;32m     54\u001b[0m timer(start)\n",
      "Input \u001b[0;32mIn [24]\u001b[0m, in \u001b[0;36mtest_recommender\u001b[0;34m(recommender, topn)\u001b[0m\n\u001b[1;32m     71\u001b[0m \u001b[38;5;28;01mdef\u001b[39;00m \u001b[38;5;21mtest_recommender\u001b[39m(recommender, topn):\n\u001b[1;32m     72\u001b[0m     \u001b[38;5;28mprint\u001b[39m(\u001b[38;5;124m\"\u001b[39m\u001b[38;5;124mTesting\u001b[39m\u001b[38;5;124m\"\u001b[39m, recommender, \u001b[38;5;124m\"\u001b[39m\u001b[38;5;124m(top\u001b[39m\u001b[38;5;124m\"\u001b[39m, \u001b[38;5;28mstr\u001b[39m(topn) \u001b[38;5;241m+\u001b[39m \u001b[38;5;124m\"\u001b[39m\u001b[38;5;124m)\u001b[39m\u001b[38;5;124m\"\u001b[39m)\n\u001b[0;32m---> 73\u001b[0m     recommendation \u001b[38;5;241m=\u001b[39m \u001b[43mrecommender\u001b[49m\u001b[38;5;241;43m.\u001b[39;49m\u001b[43mrecommend\u001b[49m\u001b[43m(\u001b[49m\u001b[43mtopn\u001b[49m\u001b[43m)\u001b[49m\n\u001b[1;32m     74\u001b[0m     \u001b[38;5;28;01mfor\u001b[39;00m user \u001b[38;5;129;01min\u001b[39;00m itertools\u001b[38;5;241m.\u001b[39mislice(recommendation, \u001b[38;5;241m4\u001b[39m):\n\u001b[1;32m     75\u001b[0m         \u001b[38;5;28mprint\u001b[39m(\u001b[38;5;124m\"\u001b[39m\u001b[38;5;124m    User\u001b[39m\u001b[38;5;124m\"\u001b[39m, user, \u001b[38;5;124m\"\u001b[39m\u001b[38;5;124m->\u001b[39m\u001b[38;5;124m\"\u001b[39m, recommendation[user])\n",
      "Input \u001b[0;32mIn [19]\u001b[0m, in \u001b[0;36mRecommender.recommend\u001b[0;34m(self, topn)\u001b[0m\n\u001b[1;32m     16\u001b[0m \u001b[38;5;28;01mfor\u001b[39;00m item \u001b[38;5;129;01min\u001b[39;00m \u001b[38;5;28mself\u001b[39m\u001b[38;5;241m.\u001b[39mtraining\u001b[38;5;241m.\u001b[39mitems():\n\u001b[1;32m     17\u001b[0m     \u001b[38;5;28;01mif\u001b[39;00m item \u001b[38;5;129;01mnot\u001b[39;00m \u001b[38;5;129;01min\u001b[39;00m \u001b[38;5;28mself\u001b[39m\u001b[38;5;241m.\u001b[39mtraining\u001b[38;5;241m.\u001b[39muser_items(user):\n\u001b[0;32m---> 18\u001b[0m         score \u001b[38;5;241m=\u001b[39m \u001b[38;5;28;43mself\u001b[39;49m\u001b[38;5;241;43m.\u001b[39;49m\u001b[43mscore\u001b[49m\u001b[43m(\u001b[49m\u001b[43muser\u001b[49m\u001b[43m,\u001b[49m\u001b[43m \u001b[49m\u001b[43mitem\u001b[49m\u001b[43m)\u001b[49m\n\u001b[1;32m     19\u001b[0m         ranking\u001b[38;5;241m.\u001b[39madd(item, score)\n\u001b[1;32m     20\u001b[0m dict_ranking[user] \u001b[38;5;241m=\u001b[39m ranking\n",
      "Input \u001b[0;32mIn [19]\u001b[0m, in \u001b[0;36mMajorityRecommender.score\u001b[0;34m(self, user, item)\u001b[0m\n\u001b[1;32m     34\u001b[0m \u001b[38;5;28;01mdef\u001b[39;00m \u001b[38;5;21mscore\u001b[39m(\u001b[38;5;28mself\u001b[39m, user, item):\n\u001b[0;32m---> 35\u001b[0m     \u001b[38;5;28;01mreturn\u001b[39;00m \u001b[38;5;28msum\u001b[39m(rating \u001b[38;5;241m>\u001b[39m\u001b[38;5;241m=\u001b[39m \u001b[38;5;28mself\u001b[39m\u001b[38;5;241m.\u001b[39mthreshold \u001b[38;5;28;01mfor\u001b[39;00m user, rating \u001b[38;5;129;01min\u001b[39;00m \u001b[38;5;28;43mself\u001b[39;49m\u001b[38;5;241;43m.\u001b[39;49m\u001b[43mtraining\u001b[49m\u001b[38;5;241;43m.\u001b[39;49m\u001b[43mitem_users\u001b[49m\u001b[43m(\u001b[49m\u001b[43mitem\u001b[49m\u001b[43m)\u001b[49m\u001b[38;5;241m.\u001b[39mitems())\n",
      "Input \u001b[0;32mIn [18]\u001b[0m, in \u001b[0;36mRatings.item_users\u001b[0;34m(self, item)\u001b[0m\n\u001b[1;32m     86\u001b[0m \u001b[38;5;28;01mdef\u001b[39;00m \u001b[38;5;21mitem_users\u001b[39m(\u001b[38;5;28mself\u001b[39m, item):\n\u001b[1;32m     87\u001b[0m     dict_aux \u001b[38;5;241m=\u001b[39m {}\n\u001b[0;32m---> 88\u001b[0m     \u001b[38;5;28;01mfor\u001b[39;00m user \u001b[38;5;129;01min\u001b[39;00m \u001b[38;5;28mself\u001b[39m\u001b[38;5;241m.\u001b[39mratings\u001b[38;5;241m.\u001b[39mkeys():\n\u001b[1;32m     89\u001b[0m         \u001b[38;5;28;01mif\u001b[39;00m item \u001b[38;5;129;01min\u001b[39;00m \u001b[38;5;28mself\u001b[39m\u001b[38;5;241m.\u001b[39mratings[user]\u001b[38;5;241m.\u001b[39mkeys():\n\u001b[1;32m     90\u001b[0m             dict_aux[user] \u001b[38;5;241m=\u001b[39m \u001b[38;5;28mself\u001b[39m\u001b[38;5;241m.\u001b[39mratings[user][item]\n",
      "\u001b[0;31mKeyboardInterrupt\u001b[0m: "
     ]
    }
   ],
   "source": [
    "import datetime\n",
    "import time\n",
    "import itertools\n",
    "\n",
    "def main_recsys():\n",
    "    random.seed(42)\n",
    "    print(\"=========================\\nToy test\")\n",
    "    toy_test(\"recsys_data/toy\", '\\t')\n",
    "    print(\"=========================\\nTesting toy dataset\")\n",
    "    test_dataset(\"recsys_data/toy-ratings.dat\", 1, 2, k=4, min=2, topn=4, cutoff=4)\n",
    "    print(\"=========================\\nTesting MovieLens \\\"latest-small\\\" dataset\")\n",
    "    test_dataset(\"recsys_data/ratings.csv\", 35, 1240, k=10, min=3, topn=5, cutoff=5, delimiter=',')\n",
    "\n",
    "\n",
    "# First tests on toy dataset, using a pre-constructed data split\n",
    "def toy_test(dataset, separator='\\t'):\n",
    "    training = Ratings(dataset + \"-train.dat\", separator)\n",
    "    test = Ratings(dataset + \"-test.dat\", separator)\n",
    "    metrics = [Precision(test, cutoff=4, threshold=4), Recall(test, cutoff=4, threshold=4)]\n",
    "    evaluate_recommenders(training, metrics, k=4, min=2, topn=4)\n",
    "\n",
    "\n",
    "# More complete testing on a generic dataset\n",
    "def test_dataset(ratings_file, user, item, k, min, topn, cutoff, delimiter='\\t'):\n",
    "    ratings = Ratings(ratings_file, delimiter)\n",
    "    # Test Ratings class on the dataset\n",
    "    test_data(ratings, user, item)\n",
    "    # Run some recommenders on the entire rating data as input - no evaluation\n",
    "    test_recommenders(ratings, k, min, topn)\n",
    "    # Now produce a rating split to re-run the recommenders on the training data and evaluate them with the test data\n",
    "    train, test = ratings.random_split(0.8)\n",
    "    metrics = [Precision(test, cutoff, threshold=4), Recall(test, cutoff, threshold=4)]\n",
    "    evaluate_recommenders(train, metrics, k, min, 2 * topn)  # Double top n to test a slightly deeper ranking\n",
    "\n",
    "    # Additional testing?\n",
    "    #student_test_recsys(train, test, k, topn, cutoff)\n",
    "\n",
    "\n",
    "# Test the rating data handling code (Ratings class)\n",
    "def test_data(ratings, user, item):\n",
    "    print(\"-------------------------\\nTesting the data structures\")\n",
    "    print(ratings.nratings(), \"ratings by\", len(ratings.users()), \"users on\", len(ratings.items()), \"items\")\n",
    "    print(\"Ratings of user\", user, \":\", ratings.user_items(user))\n",
    "    print(\"Ratings of item\", item, \":\", ratings.item_users(item))\n",
    "\n",
    "# Run some recommenders on the some rating data as input - no evaluation\n",
    "def test_recommenders(ratings, k, min, topn):\n",
    "    print(\"-------------------------\")\n",
    "    start = time.process_time()\n",
    "    test_recommender(RandomRecommender(ratings), topn)\n",
    "    test_recommender(MajorityRecommender(ratings, threshold=4), topn)\n",
    "    test_recommender(AverageRecommender(ratings, min), topn)\n",
    "    \n",
    "    timer(start)\n",
    "    start = time.process_time()\n",
    "    print(\"Creating user cosine similarity\")\n",
    "    sim = CosineUserSimilarity(ratings)\n",
    "    timer(start)\n",
    "    start = time.process_time()\n",
    "    print(\"Creating kNN recommender\")\n",
    "    knn = UserKNNRecommender(ratings, sim, k)\n",
    "    timer(start)\n",
    "    start = time.process_time()\n",
    "    test_recommender(knn, topn)\n",
    "    timer(start)\n",
    "    start = time.process_time()\n",
    "    test_recommender(NormUserKNNRecommender(ratings, sim, k, min), topn)\n",
    "    timer(start)\n",
    "\n",
    "# Run one recommender on the some rating data as input - no evaluation\n",
    "def test_recommender(recommender, topn):\n",
    "    print(\"Testing\", recommender, \"(top\", str(topn) + \")\")\n",
    "    recommendation = recommender.recommend(topn)\n",
    "    for user in itertools.islice(recommendation, 4):\n",
    "        print(\"    User\", user, \"->\", recommendation[user])\n",
    "\n",
    "# Create some recommenders and send them for evaluation for a list of given metrics\n",
    "def evaluate_recommenders(training, metrics, k, min, topn):\n",
    "    print(\"-------------------------\")\n",
    "    start = time.process_time()\n",
    "    evaluate_recommender(RandomRecommender(training), topn, metrics)\n",
    "    evaluate_recommender(MajorityRecommender(training, threshold=4), topn, metrics)\n",
    "    evaluate_recommender(AverageRecommender(training, min), topn, metrics)\n",
    "    sim = CosineUserSimilarity(training)\n",
    "    knn = UserKNNRecommender(training, sim, k)\n",
    "    evaluate_recommender(knn, topn, metrics)\n",
    "    evaluate_recommender(NormUserKNNRecommender(training, sim, k, min), topn, metrics)\n",
    "\n",
    "# Run one recommender and evaluate a list of metrics on its output\n",
    "def evaluate_recommender(recommender, topn, metrics):\n",
    "    print(\"Evaluating\", recommender)\n",
    "    recommendation = recommender.recommend(topn)\n",
    "    for metric in metrics:\n",
    "        print(\"   \", metric, \"=\", metric.compute(recommendation))\n",
    "\n",
    "def timer(start):\n",
    "    print(\"--> elapsed time:\", datetime.timedelta(seconds=round(time.process_time() - start)), \"<--\")\n",
    "\n",
    "main_recsys()"
   ]
  },
  {
   "cell_type": "markdown",
   "metadata": {},
   "source": [
    "### Salida obtenida por el estudiante\n",
    "\n",
    "*(por hacer)*"
   ]
  },
  {
   "cell_type": "markdown",
   "metadata": {
    "id": "kqbc9ng8e28p"
   },
   "source": [
    "# Bloque II - Análisis de redes sociales\n",
    "\n",
    "Los esqueletos que se proporcionan en este apartado son a modo de guía; el estudiante puede modificarlo todo libremente, siempre que la función **main_sna** funcione correctamente **sin cambios**.\n",
    "\n",
    "Para simplificar, en los ejercicios que siguen supondremos que las redes son no dirigidas."
   ]
  },
  {
   "cell_type": "markdown",
   "metadata": {
    "id": "7lOWgbqZpV01"
   },
   "source": [
    "## Ejercicio 5: Preliminares (2pt)\n",
    "\n",
    "Generar dos **redes sociales simuladas** siguiendo los modelos de Barabási-Albert y Erdös-Rényi. El tamaño y densidad de los grafos se deja a elección propia. Se puede utilizar para ello cualquier herramienta (como NetworkX ([documentación](https://networkx.org/documentation/stable/tutorial.html#graph-generators-and-graph-operations)), o el entorno interactivo de Gephi), o bien programar implementaciones propias (lo cual también es muy sencillo).\n",
    "\n",
    "Realizar un análisis básico de la **distribución del grado** en las siete redes sociales de la práctica: small x 3, Facebook, Twitter, Barabási-Albert y Erdös-Rényi. Para cada red:\n",
    "\n",
    "* Generar una gráfica de distribución del grado (utilizando escala log-log cuando ello sea útil) y comprobar en qué medida se observa una distribución power law.\n",
    "* Verificar si se observa la paradoja de la amistad (en sus diferentes versiones).\n",
    "\n",
    "Los resultados de este ejercicio no conllevan entrega de software, sino sólo la documentación de los mismos en el apartado de memoria."
   ]
  },
  {
   "cell_type": "code",
   "execution_count": 8,
   "metadata": {},
   "outputs": [],
   "source": [
    "# Si se ha realizado algún código, se puede incluir aquí\n",
    "# Si no se ha utilizado Python, se puede utilizar el apartado de explicación para describir el proceso y las herramientas utilizadas\n",
    "import networkx as nx\n",
    "import matplotlib.pyplot as plt\n",
    "import csv\n",
    "from collections import OrderedDict\n",
    "\n",
    "def edges(data_file, red):\n",
    "    \n",
    "    if data_file:\n",
    "        Data = open(data_file, \"r\", encoding='utf8')\n",
    "        \n",
    "        diccionario_grados = {}\n",
    "        for line in Data.readlines():\n",
    "            line = line.split('\\n')[0].split(',')\n",
    "            if line[0] not in diccionario_grados.keys():\n",
    "                diccionario_grados[line[0]] = 1\n",
    "            else:\n",
    "                diccionario_grados[line[0]] += 1\n",
    "            \n",
    "            if line[1] not in diccionario_grados.keys():\n",
    "                diccionario_grados[line[1]] = 1\n",
    "            else:\n",
    "                diccionario_grados[line[1]] += 1\n",
    "        \n",
    "    else:\n",
    "        G = red\n",
    "    \n",
    "        diccionario_grados = {}\n",
    "        for pair in G.edges():\n",
    "            if pair[0] not in diccionario_grados.keys():\n",
    "                diccionario_grados[pair[0]] = 1\n",
    "            else:\n",
    "                diccionario_grados[pair[0]] += 1\n",
    "                \n",
    "\n",
    "    nodosXgrado = {}\n",
    "    for nodo in diccionario_grados.keys():\n",
    "        if diccionario_grados[nodo] not in nodosXgrado.keys():\n",
    "            nodosXgrado[diccionario_grados[nodo]] = 1\n",
    "        else:\n",
    "            nodosXgrado[diccionario_grados[nodo]] += 1\n",
    "            \n",
    "    nodosXgrado_ordenado = OrderedDict(sorted(nodosXgrado.items()))\n",
    "    grados = list(nodosXgrado_ordenado.keys())\n",
    "    nNodos = list(nodosXgrado_ordenado.values())\n",
    "        \n",
    "    return grados, nNodos\n",
    "\n",
    "def plot_graph(nodos, grados, nombre_red):\n",
    "    plt.title(\"Grados Ordenados \" + nombre_red)\n",
    "\n",
    "    plt.xlabel('Grado')\n",
    "    plt.ylabel('Nº nodos')\n",
    "    plt.plot(grados, nodos)\n",
    "\n",
    "    plt.show()\n",
    "    \n",
    "def plot_graph_log(nodos, grados, nombre_red):\n",
    "    plt.title(\"Grados Ordenados \" + nombre_red)\n",
    "\n",
    "    plt.xlabel('Grado')\n",
    "    plt.ylabel('Nº nodos')\n",
    "    plt.plot(grados, nodos)\n",
    "    plt.xscale(\"log\")\n",
    "    plt.yscale(\"log\")\n",
    "\n",
    "    plt.show()"
   ]
  },
  {
   "cell_type": "code",
   "execution_count": 9,
   "metadata": {
    "id": "br7yqFrnpZYl"
   },
   "outputs": [
    {
     "data": {
      "image/png": "[encoded data removed]",
      "text/plain": [
       "<Figure size 432x288 with 1 Axes>"
      ]
     },
     "metadata": {
      "needs_background": "light"
     },
     "output_type": "display_data"
    },
    {
     "data": {
      "image/png": "[encoded data removed]",
      "text/plain": [
       "<Figure size 432x288 with 1 Axes>"
      ]
     },
     "metadata": {
      "needs_background": "light"
     },
     "output_type": "display_data"
    }
   ],
   "source": [
    "red_barabasi = nx.barabasi_albert_graph(n=4000, m=2)\n",
    "\n",
    "grados, nodos = edges(data_file=None, red=red_barabasi)\n",
    "plot_graph(nodos, grados, \"Barabási-Albert\")\n",
    "plot_graph_log(nodos, grados, \"Barabási-Albert\")"
   ]
  },
  {
   "cell_type": "markdown",
   "metadata": {},
   "source": [
    "Como se puede observar en las graficas obtenidas, esta red de tipo Barabási-Albert, cumple tanto con la distribucion power law como con la paradoja de la amistad."
   ]
  },
  {
   "cell_type": "code",
   "execution_count": 10,
   "metadata": {},
   "outputs": [
    {
     "data": {
      "image/png": "[encoded data removed]",
      "text/plain": [
       "<Figure size 432x288 with 1 Axes>"
      ]
     },
     "metadata": {
      "needs_background": "light"
     },
     "output_type": "display_data"
    },
    {
     "data": {
      "image/png": "[encoded data removed]",
      "text/plain": [
       "<Figure size 432x288 with 1 Axes>"
      ]
     },
     "metadata": {
      "needs_background": "light"
     },
     "output_type": "display_data"
    }
   ],
   "source": [
    "red_erdos = nx.erdos_renyi_graph(n=4000, p=0.2)\n",
    "\n",
    "grados, nodos = edges(data_file=None, red=red_erdos)\n",
    "plot_graph(nodos, grados, \"Erdös-Rényi\")\n",
    "plot_graph_log(nodos, grados, \"Erdös-Rényi\")"
   ]
  },
  {
   "cell_type": "markdown",
   "metadata": {},
   "source": [
    "Como se puede observar en las graficas obtenidas, esta red de tipo Barabási-Albert, no cumple ni con la distribucion power law ni con la paradoja de la amistad."
   ]
  },
  {
   "cell_type": "code",
   "execution_count": 11,
   "metadata": {},
   "outputs": [
    {
     "data": {
      "image/png": "[encoded data removed]",
      "text/plain": [
       "<Figure size 432x288 with 1 Axes>"
      ]
     },
     "metadata": {
      "needs_background": "light"
     },
     "output_type": "display_data"
    },
    {
     "data": {
      "image/png": "[encoded data removed]",
      "text/plain": [
       "<Figure size 432x288 with 1 Axes>"
      ]
     },
     "metadata": {
      "needs_background": "light"
     },
     "output_type": "display_data"
    }
   ],
   "source": [
    "grados, nodos = edges(data_file=\"graphs/small1.csv\", red=None)\n",
    "plot_graph(nodos, grados, \"small1\")\n",
    "plot_graph_log(nodos, grados, \"small1\")"
   ]
  },
  {
   "cell_type": "markdown",
   "metadata": {},
   "source": [
    "En este caso, teniendo en cuenta que el tamaño de la red es muy pequeño, no podemos determinar si sigue una distribucion power law y si parece que sigue una distribucion parecida a la de la paradoja de la amistad, aunque no podemos saberlo con seguridad."
   ]
  },
  {
   "cell_type": "code",
   "execution_count": 12,
   "metadata": {},
   "outputs": [
    {
     "data": {
      "image/png": "[encoded data removed]",
      "text/plain": [
       "<Figure size 432x288 with 1 Axes>"
      ]
     },
     "metadata": {
      "needs_background": "light"
     },
     "output_type": "display_data"
    },
    {
     "data": {
      "image/png": "[encoded data removed]",
      "text/plain": [
       "<Figure size 432x288 with 1 Axes>"
      ]
     },
     "metadata": {
      "needs_background": "light"
     },
     "output_type": "display_data"
    }
   ],
   "source": [
    "grados, nodos = edges(data_file=\"graphs/small2.csv\", red=None)\n",
    "plot_graph(nodos, grados, \"small2\")\n",
    "plot_graph_log(nodos, grados, \"small2\")"
   ]
  },
  {
   "cell_type": "markdown",
   "metadata": {},
   "source": [
    "En este caso, teniendo en cuenta que el tamaño de la red es muy pequeño, no podemos determinar si sigue una distribucion power law y si parece que sigue una distribucion parecida a la de la paradoja de la amistad, aunque no podemos saberlo con seguridad."
   ]
  },
  {
   "cell_type": "code",
   "execution_count": 13,
   "metadata": {},
   "outputs": [
    {
     "data": {
      "image/png": "[encoded data removed]",
      "text/plain": [
       "<Figure size 432x288 with 1 Axes>"
      ]
     },
     "metadata": {
      "needs_background": "light"
     },
     "output_type": "display_data"
    },
    {
     "data": {
      "image/png": "[encoded data removed]",
      "text/plain": [
       "<Figure size 432x288 with 1 Axes>"
      ]
     },
     "metadata": {
      "needs_background": "light"
     },
     "output_type": "display_data"
    }
   ],
   "source": [
    "grados, nodos = edges(data_file=\"graphs/small3.csv\", red=None)\n",
    "plot_graph(nodos, grados, \"small3\")\n",
    "plot_graph_log(nodos, grados, \"small3\")"
   ]
  },
  {
   "cell_type": "markdown",
   "metadata": {},
   "source": [
    "En este caso no se cumplen niguna de las dos condiciones."
   ]
  },
  {
   "cell_type": "code",
   "execution_count": 14,
   "metadata": {},
   "outputs": [
    {
     "data": {
      "image/png": "[encoded data removed]",
      "text/plain": [
       "<Figure size 432x288 with 1 Axes>"
      ]
     },
     "metadata": {
      "needs_background": "light"
     },
     "output_type": "display_data"
    },
    {
     "data": {
      "image/png": "[encoded data removed]",
      "text/plain": [
       "<Figure size 432x288 with 1 Axes>"
      ]
     },
     "metadata": {
      "needs_background": "light"
     },
     "output_type": "display_data"
    }
   ],
   "source": [
    "grados, nodos = edges(data_file=\"graphs/twitter.csv\", red=None)\n",
    "plot_graph(nodos, grados, \"Twitter\")\n",
    "plot_graph_log(nodos, grados, \"Twitter\")"
   ]
  },
  {
   "cell_type": "markdown",
   "metadata": {},
   "source": [
    "Como se puede observar en las graficas obtenidas, esta red basada en los datos de Twitter, cumple tanto con la distribucion power law como con la paradoja de la amistad."
   ]
  },
  {
   "cell_type": "code",
   "execution_count": 15,
   "metadata": {
    "id": "e3uq565SpfSA"
   },
   "outputs": [],
   "source": [
    "from abc import ABC, abstractmethod\n",
    "\n",
    "class UndirectedSocialNetwork:\n",
    "    def __init__(self, file, delimiter='\\t', parse=0):\n",
    "        \n",
    "        Data = open(file, \"r\", encoding='utf8')\n",
    "        \n",
    "        self.graph = {}\n",
    "        self.nEdges = 0\n",
    "        for line in Data.readlines():\n",
    "            self.nEdges += 1\n",
    "            line = line.split('\\n')[0].split(',')\n",
    "            if line[0] not in self.graph.keys():\n",
    "                self.graph[line[0]] = []\n",
    "                self.graph[line[0]].append(line[1])\n",
    "            else:\n",
    "                self.graph[line[0]].append(line[1])\n",
    "            \n",
    "            if line[1] not in self.graph.keys():\n",
    "                self.graph[line[1]] = []\n",
    "                self.graph[line[1]].append(line[0])\n",
    "            else:\n",
    "                self.graph[line[1]].append(line[0])                \n",
    "            \n",
    "    def users(self):\n",
    "        return list(self.graph.keys())\n",
    "\n",
    "    def contacts(self, user):\n",
    "        return list(self.graph[str(user)])\n",
    "\n",
    "    def degree(self, user):\n",
    "        return len(list(self.graph[str(user)]))\n",
    "\n",
    "    def add_contact(self, u, v):\n",
    "        self.graph[str(u)].append(v)\n",
    "\n",
    "    def connected(self, u, v):\n",
    "        if v in self.graph[str(u)]:\n",
    "            return True\n",
    "        else:\n",
    "            return False\n",
    "\n",
    "    def nedges(self):\n",
    "        return self.nEdges\n",
    "\n",
    "class Metric(ABC):\n",
    "    def __repr__(self):\n",
    "        return type(self).__name__\n",
    "\n",
    "    @abstractmethod\n",
    "    def compute_all(self, network):\n",
    "        \"\"\"\" Compute metric on all users or edges of network \"\"\"\n",
    "\n",
    "\n",
    "class LocalMetric(Metric):\n",
    "    def __init__(self, topn):\n",
    "        self.topn = topn\n",
    "\n",
    "    @abstractmethod\n",
    "    def compute(self, network, element):\n",
    "        \"\"\"\" Compute metric on one user or edge of network \"\"\"\n",
    "\n",
    "class UserClusteringCoefficient(Metric): # or LocalMetric? or other useful intermediate class?\n",
    "    def __init__(self, topn):\n",
    "        self.topn = topn\n",
    "    \n",
    "    def compute(self, network, element):\n",
    "        \n",
    "        vecinos = network.contacts(element)\n",
    "        cont = 0\n",
    "        for v in vecinos:\n",
    "            for u in vecinos:\n",
    "                if network.connected(v, u):\n",
    "                    cont += 1\n",
    "        #Dividimos entre dos ya que una conexion que une dos nodos cuenta como uno\n",
    "        cont /= 2\n",
    "        \n",
    "        return cont/(network.degree(element)*( network.degree(element) - 1)/2)\n",
    "        \n",
    "        \n",
    "    def compute_all(self, network):\n",
    "        ranking = Ranking(self.topn)\n",
    "        for user in network.graph.keys():\n",
    "            ranking.add(user, self.compute(network, user))\n",
    "        \n",
    "        return ranking\n",
    "\n",
    "class AvgUserMetric(Metric): # or LocalMetric? or other useful intermediate class?\n",
    "    pass\n",
    "\n",
    "class Embeddedness(Metric): # or LocalMetric? or other useful intermediate class?\n",
    "    def __init__(self, topn):\n",
    "        self.topn = topn\n",
    "    \n",
    "    def compute(self, network, element):\n",
    "        u = element[0]\n",
    "        v = element[1]\n",
    "        \n",
    "        \n",
    "    def compute_all(self, network):\n",
    "        ranking = Ranking(self.topn)\n",
    "        for user in network.graph.keys():\n",
    "            ranking.add(user, self.compute(network, user))\n",
    "        \n",
    "        return ranking\n",
    "\n",
    "class ClusteringCoefficient(Metric): # or LocalMetric? or other useful intermediate class?\n",
    "    pass\n",
    "\n",
    "class Assortativity(Metric): # or LocalMetric? or other useful intermediate class?\n",
    "    def __init__(self):\n",
    "        super().__init__()\n",
    "        \n",
    "        \n",
    "    def compute_all(self, network):\n",
    "        s2 = []\n",
    "        s3 = []\n",
    "        s12 = []\n",
    "        for user in network.graph.keys():\n",
    "            s2.append(network.degree(user)**2)\n",
    "            s3.append(network.degree(user)**3)\n",
    "            \n",
    "            for vecino in network.contacts(user):\n",
    "                s12.append(network.degree(user)*network.degree(vecino))\n",
    "        \n",
    "        m = network.nEdges\n",
    "        return (4*m*(sum(s12)/2) - sum(s2)**2)/(2*m*sum(s3)- sum(s2)**2)\n",
    "        \n"
   ]
  },
  {
   "cell_type": "markdown",
   "metadata": {
    "id": "-d4hWTstiOIT"
   },
   "source": [
    "### Explicación/documentación\n",
    "\n",
    "(por hacer)\n",
    "\n",
    "Además, se documentarán en la memoria los tiempos de ejecución de las métricas en las redes de Facebook y Twitter, en una tabla con la siguiente estructura:\n",
    "\n",
    "|      | Facebook | Twitter |\n",
    "| ----- | -------- | ------ | \n",
    "| Coef. clustering usuario | | |\n",
    "| Embededness | | |\n",
    "| Coef. clustering global | | |\n",
    "| Asortatividad | | |"
   ]
  },
  {
   "cell_type": "markdown",
   "metadata": {
    "id": "JPPWV7pepf85"
   },
   "source": [
    "## Ejercicio 7: Ejercicio libre (1pt)\n",
    "\n",
    "El estudiante desarrollará uno o varios métodos de análisis de redes a su propia elección. Se sugiere por ejemplo: \n",
    "\n",
    "* Implementación de métricas adicionales a elección del estudiante, tales como betweenness, closeness, distancia promedio, diámetro, modularidad, etc., integradas en la misma jerarquía de métricas que el ejercicio anterior.\n",
    "   - Para la modularidad, los colores de los nodos del grafo small3 sugieren una partición; consultar con el profesor si se desea probar con algún conjunto de datos público más.\n",
    "   - Si la métrica requiere usar el algoritmo de *shortest paths*, este no hace falta implementarlo, se puede usar el de alguna librería, como el disponible en [networkX](https://networkx.org/documentation/stable/reference/algorithms/shortest_paths.html)\n",
    "* Detección de comunidades y enlaces débiles.\n",
    "* Creación de modelos para la generación aleatoria de redes sociales (p.e. amigos de amigos, etc.).\n",
    "* Recomendación de contactos.\n",
    "\n",
    "Para este ejercicio deberá completarse la implementación de una función adicional `student_test_sna()` ilustrando la ejecución de las métricas y algoritmos implementados. \n",
    "\n",
    "El software que se desarrolle se incluirá en la entrega (en tantas celdas como se consideren oportuno), y se documentarán en la memoria las pruebas realizadas y los resultados obtenidos. En caso de que proceda mostrar figuras de grafos, se sugiere utilizar las facilidades de visualización de la herramienta Gephi.\n",
    "\n",
    "Este ejercicio se evaluará en base a la cantidad, calidad e interés del trabajo realizado."
   ]
  },
  {
   "cell_type": "code",
   "execution_count": null,
   "metadata": {
    "id": "zg8MIMpipih1"
   },
   "outputs": [],
   "source": [
    "# Implementación o implementaciones elegidas"
   ]
  },
  {
   "cell_type": "code",
   "execution_count": null,
   "metadata": {},
   "outputs": [],
   "source": [
    "def student_test_sna(data):\n",
    "    pass"
   ]
  },
  {
   "cell_type": "markdown",
   "metadata": {
    "id": "H1gukouXiPV3"
   },
   "source": [
    "### Explicación/documentación\n",
    "\n",
    "(por hacer)"
   ]
  },
  {
   "cell_type": "markdown",
   "metadata": {
    "id": "8zXhPtFzon72"
   },
   "source": [
    "## Programa de prueba **main_sna**\n",
    "\n",
    "Descarga los ficheros del curso de Moodle y coloca sus contenidos en una carpeta **graphs** en el mismo directorio que este *notebook*."
   ]
  },
  {
   "cell_type": "code",
   "execution_count": 16,
   "metadata": {
    "id": "fTdDacCRn0u6",
    "scrolled": true
   },
   "outputs": [
    {
     "name": "stdout",
     "output_type": "stream",
     "text": [
      "==================================================\n",
      "Testing graphs/small1.csv network\n",
      "12 users and 16 contact relationships\n",
      "User 6 has 4 contacts\n",
      "-------------------------\n",
      "UserClusteringCoefficient : <1:1.0 2:1.0 3:1.0 7:1.0 9:1.0>\n",
      "UserClusteringCoefficient(6) = 0.3333333333333333\n",
      "--> elapsed time: 0:00:00 <--\n",
      "-------------------------\n",
      "-------------------------\n",
      "Assortativity = -0.24271844660194175\n",
      "--> elapsed time: 0:00:00 <--\n",
      "==================================================\n",
      "Testing graphs/small2.csv network\n",
      "9 users and 16 contact relationships\n",
      "User 3 has 8 contacts\n",
      "-------------------------\n",
      "UserClusteringCoefficient : <1:0.6666666666666666 2:0.6666666666666666 4:0.6666666666666666 5:0.6666666666666666 6:0.6666666666666666>\n",
      "UserClusteringCoefficient(3) = 0.2857142857142857\n",
      "--> elapsed time: 0:00:00 <--\n",
      "-------------------------\n",
      "-------------------------\n",
      "Assortativity = -0.3333333333333333\n",
      "--> elapsed time: 0:00:00 <--\n",
      "==================================================\n",
      "Testing graphs/small3.csv network\n",
      "4 users and 5 contact relationships\n",
      "User a has 3 contacts\n",
      "-------------------------\n",
      "UserClusteringCoefficient : <b:1.0 d:1.0 a:0.6666666666666666 c:0.6666666666666666>\n",
      "UserClusteringCoefficient(a) = 0.6666666666666666\n",
      "--> elapsed time: 0:00:00 <--\n",
      "-------------------------\n",
      "-------------------------\n",
      "Assortativity = -0.6666666666666666\n",
      "--> elapsed time: 0:00:00 <--\n",
      "==================================================\n",
      "Testing graphs/twitter.csv network\n",
      "10029 users and 560225 contact relationships\n",
      "User el_pais has 1970 contacts\n",
      "-------------------------\n"
     ]
    },
    {
     "ename": "KeyboardInterrupt",
     "evalue": "",
     "output_type": "error",
     "traceback": [
      "\u001b[0;31m---------------------------------------------------------------------------\u001b[0m",
      "\u001b[0;31mKeyboardInterrupt\u001b[0m                         Traceback (most recent call last)",
      "Input \u001b[0;32mIn [16]\u001b[0m, in \u001b[0;36m<cell line: 54>\u001b[0;34m()\u001b[0m\n\u001b[1;32m     51\u001b[0m \u001b[38;5;28;01mdef\u001b[39;00m \u001b[38;5;21mtimer2\u001b[39m(start):\n\u001b[1;32m     52\u001b[0m     \u001b[38;5;28mprint\u001b[39m(\u001b[38;5;124m\"\u001b[39m\u001b[38;5;124m--> elapsed time:\u001b[39m\u001b[38;5;124m\"\u001b[39m, datetime\u001b[38;5;241m.\u001b[39mtimedelta(seconds\u001b[38;5;241m=\u001b[39m\u001b[38;5;28mround\u001b[39m(time\u001b[38;5;241m.\u001b[39mprocess_time() \u001b[38;5;241m-\u001b[39m start)), \u001b[38;5;124m\"\u001b[39m\u001b[38;5;124m<--\u001b[39m\u001b[38;5;124m\"\u001b[39m)\n\u001b[0;32m---> 54\u001b[0m \u001b[43mmain_sna\u001b[49m\u001b[43m(\u001b[49m\u001b[43m)\u001b[49m\n",
      "Input \u001b[0;32mIn [16]\u001b[0m, in \u001b[0;36mmain_sna\u001b[0;34m()\u001b[0m\n\u001b[1;32m      6\u001b[0m test_network(\u001b[38;5;124m\"\u001b[39m\u001b[38;5;124mgraphs/small2.csv\u001b[39m\u001b[38;5;124m\"\u001b[39m, \u001b[38;5;124m\"\u001b[39m\u001b[38;5;124m,\u001b[39m\u001b[38;5;124m\"\u001b[39m, \u001b[38;5;241m5\u001b[39m, \u001b[38;5;241m3\u001b[39m, \u001b[38;5;241m5\u001b[39m, \u001b[38;5;28mint\u001b[39m)\n\u001b[1;32m      7\u001b[0m test_network(\u001b[38;5;124m\"\u001b[39m\u001b[38;5;124mgraphs/small3.csv\u001b[39m\u001b[38;5;124m\"\u001b[39m, \u001b[38;5;124m\"\u001b[39m\u001b[38;5;124m,\u001b[39m\u001b[38;5;124m\"\u001b[39m, \u001b[38;5;241m5\u001b[39m, \u001b[38;5;124m\"\u001b[39m\u001b[38;5;124ma\u001b[39m\u001b[38;5;124m\"\u001b[39m, \u001b[38;5;124m\"\u001b[39m\u001b[38;5;124mb\u001b[39m\u001b[38;5;124m\"\u001b[39m)\n\u001b[0;32m----> 8\u001b[0m \u001b[43mtest_network\u001b[49m\u001b[43m(\u001b[49m\u001b[38;5;124;43m\"\u001b[39;49m\u001b[38;5;124;43mgraphs/twitter.csv\u001b[39;49m\u001b[38;5;124;43m\"\u001b[39;49m\u001b[43m,\u001b[49m\u001b[43m \u001b[49m\u001b[38;5;124;43m\"\u001b[39;49m\u001b[38;5;124;43m,\u001b[39;49m\u001b[38;5;124;43m\"\u001b[39;49m\u001b[43m,\u001b[49m\u001b[43m \u001b[49m\u001b[38;5;241;43m5\u001b[39;49m\u001b[43m,\u001b[49m\u001b[43m \u001b[49m\u001b[38;5;124;43m\"\u001b[39;49m\u001b[38;5;124;43mel_pais\u001b[39;49m\u001b[38;5;124;43m\"\u001b[39;49m\u001b[43m,\u001b[49m\u001b[43m \u001b[49m\u001b[38;5;124;43m\"\u001b[39;49m\u001b[38;5;124;43mElviraLindo\u001b[39;49m\u001b[38;5;124;43m\"\u001b[39;49m\u001b[43m)\u001b[49m\n\u001b[1;32m      9\u001b[0m test_network(\u001b[38;5;124m\"\u001b[39m\u001b[38;5;124mgraphs/facebook_combined.txt\u001b[39m\u001b[38;5;124m\"\u001b[39m, \u001b[38;5;124m\"\u001b[39m\u001b[38;5;124m \u001b[39m\u001b[38;5;124m\"\u001b[39m, \u001b[38;5;241m5\u001b[39m, \u001b[38;5;241m9\u001b[39m, \u001b[38;5;241m3\u001b[39m, \u001b[38;5;28mint\u001b[39m)\n",
      "Input \u001b[0;32mIn [16]\u001b[0m, in \u001b[0;36mtest_network\u001b[0;34m(file, delimiter, topn, u, v, parse)\u001b[0m\n\u001b[1;32m     20\u001b[0m \u001b[38;5;66;03m# Métricas de usuarios\u001b[39;00m\n\u001b[1;32m     21\u001b[0m \u001b[38;5;28mprint\u001b[39m(\u001b[38;5;124m\"\u001b[39m\u001b[38;5;124m-------------------------\u001b[39m\u001b[38;5;124m\"\u001b[39m)\n\u001b[0;32m---> 22\u001b[0m \u001b[43mtest_metric\u001b[49m\u001b[43m(\u001b[49m\u001b[43mUserClusteringCoefficient\u001b[49m\u001b[43m(\u001b[49m\u001b[43mtopn\u001b[49m\u001b[43m)\u001b[49m\u001b[43m,\u001b[49m\u001b[43m \u001b[49m\u001b[43mnetwork\u001b[49m\u001b[43m,\u001b[49m\u001b[43m \u001b[49m\u001b[43mu\u001b[49m\u001b[43m)\u001b[49m\n\u001b[1;32m     24\u001b[0m \u001b[38;5;66;03m# Métricas de arcos\u001b[39;00m\n\u001b[1;32m     25\u001b[0m \u001b[38;5;28mprint\u001b[39m(\u001b[38;5;124m\"\u001b[39m\u001b[38;5;124m-------------------------\u001b[39m\u001b[38;5;124m\"\u001b[39m)\n",
      "Input \u001b[0;32mIn [16]\u001b[0m, in \u001b[0;36mtest_metric\u001b[0;34m(metric, network, example)\u001b[0m\n\u001b[1;32m     38\u001b[0m \u001b[38;5;28;01mdef\u001b[39;00m \u001b[38;5;21mtest_metric\u001b[39m(metric, network, example):\n\u001b[1;32m     39\u001b[0m     start \u001b[38;5;241m=\u001b[39m time\u001b[38;5;241m.\u001b[39mprocess_time()\n\u001b[0;32m---> 40\u001b[0m     \u001b[38;5;28mprint\u001b[39m(metric, \u001b[38;5;124m\"\u001b[39m\u001b[38;5;124m:\u001b[39m\u001b[38;5;124m\"\u001b[39m, \u001b[43mmetric\u001b[49m\u001b[38;5;241;43m.\u001b[39;49m\u001b[43mcompute_all\u001b[49m\u001b[43m(\u001b[49m\u001b[43mnetwork\u001b[49m\u001b[43m)\u001b[49m)\n\u001b[1;32m     41\u001b[0m     \u001b[38;5;28mprint\u001b[39m(\u001b[38;5;28mstr\u001b[39m(metric) \u001b[38;5;241m+\u001b[39m \u001b[38;5;124m\"\u001b[39m\u001b[38;5;124m(\u001b[39m\u001b[38;5;124m\"\u001b[39m \u001b[38;5;241m+\u001b[39m \u001b[38;5;28mstr\u001b[39m(example) \u001b[38;5;241m+\u001b[39m \u001b[38;5;124m\"\u001b[39m\u001b[38;5;124m) =\u001b[39m\u001b[38;5;124m\"\u001b[39m, metric\u001b[38;5;241m.\u001b[39mcompute(network, example))\n\u001b[1;32m     42\u001b[0m     timer2(start)\n",
      "Input \u001b[0;32mIn [15]\u001b[0m, in \u001b[0;36mUserClusteringCoefficient.compute_all\u001b[0;34m(self, network)\u001b[0m\n\u001b[1;32m     82\u001b[0m ranking \u001b[38;5;241m=\u001b[39m Ranking(\u001b[38;5;28mself\u001b[39m\u001b[38;5;241m.\u001b[39mtopn)\n\u001b[1;32m     83\u001b[0m \u001b[38;5;28;01mfor\u001b[39;00m user \u001b[38;5;129;01min\u001b[39;00m network\u001b[38;5;241m.\u001b[39mgraph\u001b[38;5;241m.\u001b[39mkeys():\n\u001b[0;32m---> 84\u001b[0m     ranking\u001b[38;5;241m.\u001b[39madd(user, \u001b[38;5;28;43mself\u001b[39;49m\u001b[38;5;241;43m.\u001b[39;49m\u001b[43mcompute\u001b[49m\u001b[43m(\u001b[49m\u001b[43mnetwork\u001b[49m\u001b[43m,\u001b[49m\u001b[43m \u001b[49m\u001b[43muser\u001b[49m\u001b[43m)\u001b[49m)\n\u001b[1;32m     86\u001b[0m \u001b[38;5;28;01mreturn\u001b[39;00m ranking\n",
      "Input \u001b[0;32mIn [15]\u001b[0m, in \u001b[0;36mUserClusteringCoefficient.compute\u001b[0;34m(self, network, element)\u001b[0m\n\u001b[1;32m     71\u001b[0m \u001b[38;5;28;01mfor\u001b[39;00m v \u001b[38;5;129;01min\u001b[39;00m vecinos:\n\u001b[1;32m     72\u001b[0m     \u001b[38;5;28;01mfor\u001b[39;00m u \u001b[38;5;129;01min\u001b[39;00m vecinos:\n\u001b[0;32m---> 73\u001b[0m         \u001b[38;5;28;01mif\u001b[39;00m \u001b[43mnetwork\u001b[49m\u001b[38;5;241;43m.\u001b[39;49m\u001b[43mconnected\u001b[49m\u001b[43m(\u001b[49m\u001b[43mv\u001b[49m\u001b[43m,\u001b[49m\u001b[43m \u001b[49m\u001b[43mu\u001b[49m\u001b[43m)\u001b[49m:\n\u001b[1;32m     74\u001b[0m             cont \u001b[38;5;241m+\u001b[39m\u001b[38;5;241m=\u001b[39m \u001b[38;5;241m1\u001b[39m\n\u001b[1;32m     75\u001b[0m \u001b[38;5;66;03m#Dividimos entre dos ya que una conexion que une dos nodos cuenta como uno\u001b[39;00m\n",
      "\u001b[0;31mKeyboardInterrupt\u001b[0m: "
     ]
    }
   ],
   "source": [
    "import datetime\n",
    "import time\n",
    "\n",
    "def main_sna():\n",
    "    test_network(\"graphs/small1.csv\", \",\", 5, 6, 4, int)\n",
    "    test_network(\"graphs/small2.csv\", \",\", 5, 3, 5, int)\n",
    "    test_network(\"graphs/small3.csv\", \",\", 5, \"a\", \"b\")\n",
    "    test_network(\"graphs/twitter.csv\", \",\", 5, \"el_pais\", \"ElviraLindo\")\n",
    "    test_network(\"graphs/facebook_combined.txt\", \" \", 5, 9, 3, int)\n",
    "    # test_network(\"graphs/barabasi.csv\", \",\", 5, 1, 2, int) # uno de los grafos creados en Ejercicio 5\n",
    "    # test_network(\"graphs/erdos.csv\", \",\", 5, 1, 2, int) # el otro grafo creado en Ejercicio 5\n",
    "\n",
    "\n",
    "def test_network(file, delimiter, topn, u, v, parse=0):\n",
    "    print(\"==================================================\\nTesting \" + file + \" network\")\n",
    "    network = UndirectedSocialNetwork(file, delimiter=delimiter, parse=parse)\n",
    "    print(len(network.users()), \"users and\", network.nedges(), \"contact relationships\")\n",
    "    print(\"User\", u, \"has\", network.degree(u), \"contacts\")\n",
    "\n",
    "    # Métricas de usuarios\n",
    "    print(\"-------------------------\")\n",
    "    test_metric(UserClusteringCoefficient(topn), network, u)\n",
    "\n",
    "    # Métricas de arcos\n",
    "    print(\"-------------------------\")\n",
    "    #test_metric(Embeddedness(topn), network, (u, v))\n",
    "\n",
    "    # Métricas globales de red\n",
    "    print(\"-------------------------\")\n",
    "    #test_global_metric(ClusteringCoefficient(), network)\n",
    "    #test_global_metric(AvgUserMetric(UserClusteringCoefficient()), network)\n",
    "    test_global_metric(Assortativity(), network)\n",
    "\n",
    "    # Otros tests?\n",
    "    #student_test_sna(network)\n",
    "\n",
    "\n",
    "def test_metric(metric, network, example):\n",
    "    start = time.process_time()\n",
    "    print(metric, \":\", metric.compute_all(network))\n",
    "    print(str(metric) + \"(\" + str(example) + \") =\", metric.compute(network, example))\n",
    "    timer2(start)\n",
    "\n",
    "\n",
    "def test_global_metric(metric, network):\n",
    "    start = time.process_time()\n",
    "    print(metric, \"=\", metric.compute_all(network))\n",
    "    timer2(start)\n",
    "\n",
    "\n",
    "def timer2(start):\n",
    "    print(\"--> elapsed time:\", datetime.timedelta(seconds=round(time.process_time() - start)), \"<--\")\n",
    "\n",
    "main_sna()"
   ]
  },
  {
   "cell_type": "markdown",
   "metadata": {
    "id": "V5JhJJSFiSl5"
   },
   "source": [
    "### Salida obtenida por el estudiante\n",
    "\n",
    "*(por hacer)*"
   ]
  }
 ],
 "metadata": {
  "colab": {
   "collapsed_sections": [],
   "name": "Enunciado P2",
   "provenance": [],
   "toc_visible": true
  },
  "kernelspec": {
   "display_name": "Python 3 (ipykernel)",
   "language": "python",
   "name": "python3"
  },
  "language_info": {
   "codemirror_mode": {
    "name": "ipython",
    "version": 3
   },
   "file_extension": ".py",
   "mimetype": "text/x-python",
   "name": "python",
   "nbconvert_exporter": "python",
   "pygments_lexer": "ipython3",
   "version": "3.9.7"
  }
 },
 "nbformat": 4,
 "nbformat_minor": 1
}
